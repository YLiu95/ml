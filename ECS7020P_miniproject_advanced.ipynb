{
  "nbformat": 4,
  "nbformat_minor": 0,
  "metadata": {
    "colab": {
      "provenance": [],
      "collapsed_sections": [
        "a3f3eD0s_4Tr",
        "RBr5uVdEHLl7"
      ],
      "toc_visible": true,
      "include_colab_link": true
    },
    "kernelspec": {
      "name": "python3",
      "display_name": "Python 3"
    },
    "language_info": {
      "name": "python"
    }
  },
  "cells": [
    {
      "cell_type": "markdown",
      "metadata": {
        "id": "view-in-github",
        "colab_type": "text"
      },
      "source": [
        "<a href=\"https://colab.research.google.com/github/YLiu95/ml/blob/main/ECS7020P_miniproject_advanced.ipynb\" target=\"_parent\"><img src=\"https://colab.research.google.com/assets/colab-badge.svg\" alt=\"Open In Colab\"/></a>"
      ]
    },
    {
      "cell_type": "markdown",
      "metadata": {
        "id": "91MsGMTna_P9"
      },
      "source": [
        "# ECS7020P mini-project submission\n",
        "\n",
        "The mini-project consists of two components:\n",
        "\n",
        "\n",
        "1.   **Basic solution** [6 marks]: Using the MLEnd Hums and Whistles dataset, build a machine learning pipeline that takes as an input a Potter or a StarWars audio segment and predicts its song label (either Harry or StarWars).\n",
        "2.   **Advanced solution** [10 marks]: There are two options. (i) Formulate a machine learning problem that can be attempted using the MLEnd Hums and Whistles dataset and build a solution model. (ii) Create a product that uses the functionality provided by a model trained on the MLEnd Hums and Whistles dataset (e.g. a simple App that predicts the label Harry or StarWars when you hum to it).  \n",
        "\n",
        "The submission will consist of two Jupyter notebooks, one for the basic solution and another one for advanced solution. Please **name each notebook**:\n",
        "\n",
        "* ECS7020P_miniproject_basic.ipynb\n",
        "* ECS7020P_miniproject_advanced.ipynb\n",
        "\n",
        "then **zipped and submitted toghether**.\n",
        "\n",
        "Each uploaded notebook should consist of:\n",
        "\n",
        "*   **Text cells**, describing concisely each step and results.\n",
        "*   **Code cells**, implementing each step.\n",
        "*   **Output cells**, i.e. the output from each code cell.\n",
        "\n",
        "and **should have the structure** indicated below. Notebooks will not be run, please make sure that the output cells are saved.\n",
        "\n",
        "How will we evaluate your submission?\n",
        "\n",
        "*   Conciseness in your writing (10%).\n",
        "*   Correctness in your methodology (30%).\n",
        "*   Correctness in your analysis and conclusions (30%).\n",
        "*   Completeness (10%).\n",
        "*   Originality (10%).\n",
        "*   Efforts to try something new (10%).\n",
        "\n",
        "Suggestion: Why don't you use **GitHub** to manage your project? GitHub can be used as a presentation card that showcases what you have done and gives evidence of your data science skills, knowledge and experience.\n",
        "\n",
        "Each notebook should be structured into the following 9 sections:\n"
      ]
    },
    {
      "cell_type": "markdown",
      "metadata": {
        "id": "ZaGn4ICrfqXZ"
      },
      "source": [
        "# 1 Author\n",
        "\n",
        "**Student Name**:  Yishan Liu\n",
        "**Student ID**:  200267117\n",
        "\n"
      ]
    },
    {
      "cell_type": "markdown",
      "metadata": {
        "id": "o38VQkcdKd6k"
      },
      "source": [
        "# 2 Problem formulation\n",
        "\n",
        "Describe the machine learning problem that you want to solve and explain what's interesting about it."
      ]
    },
    {
      "cell_type": "markdown",
      "source": [
        "Machine learning problem:\n",
        "- Create a ML pipeline to predict song labels of Potter, StarWars, Panther, Rain, Hakuna, Mamma, Showman, and Frozen using audio segments from the MLEnd Hums and Whistles dataset.\n",
        "\n",
        "\n",
        "What's interesting:\n",
        "- We will use all data from MLEnd Hums and Whistles dataset.\n",
        "- Our pipeline will predict eight labels.\n",
        "- We will create neural network architectures.\n",
        "- We will use the Mel Frequency Cepstral Coefficients (MFCCs) feature extraction technique."
      ],
      "metadata": {
        "id": "4x7svjYy5R36"
      }
    },
    {
      "cell_type": "markdown",
      "metadata": {
        "id": "N3BwrtEdLDit"
      },
      "source": [
        "# 3 Machine Learning pipeline\n",
        "\n",
        "Describe your ML pipeline. Clearly identify its input and output, any intermediate stages (for instance, transformation -> models), and intermediate data moving from one stage to the next. Note that your pipeline does not need to include all the stages."
      ]
    },
    {
      "cell_type": "markdown",
      "source": [
        "ML pipeline description:\n",
        "- Extract 40 MFCCs features from all audio segments\n",
        "- Create training and validation data with the features and labels\n",
        "- Train the neural network architecture with the training data, and calculate the training accuracy\n",
        "- Validate the neural network architecture with the validation data, and calculate the validation accuracy\n",
        "    - Examine other performance matrices to ensure the quality of the neural network architecture\n",
        "\n",
        "Input:\n",
        "- MFCCs features extracted from all audio segments and their labels.\n",
        "\n",
        "Output:\n",
        "- Prediction of the audio segments' labels.\n"
      ],
      "metadata": {
        "id": "oFsW4SQC7TI3"
      }
    },
    {
      "cell_type": "markdown",
      "metadata": {
        "id": "j1nDXnzYLLH6"
      },
      "source": [
        "# 4 Transformation stage\n",
        "\n",
        "Describe any transformations, such as feature extraction. Identify input and output."
      ]
    },
    {
      "cell_type": "markdown",
      "source": [
        "We will use the Mel Frequency Cepstral Coefficients (MFCCs) feature extraction technique to extract 40 features from the audio segments.\n",
        "\n",
        "Input:\n",
        "- All audio segments in the MLEnd Hums and Whistles dataset.\n",
        "\n",
        "Output:\n",
        "- MFCCs features."
      ],
      "metadata": {
        "id": "MZaY2ITa_x4D"
      }
    },
    {
      "cell_type": "markdown",
      "metadata": {
        "id": "0F5_kI95LuZ2"
      },
      "source": [
        "# 5 Modelling\n",
        "\n",
        "Describe the ML models that you will implement."
      ]
    },
    {
      "cell_type": "markdown",
      "source": [
        "- We will implement a sequential model.\n",
        "- Model 1 and model 2 have four layers.\n",
        "    - The first layer is a dense layer with 256 perceptrons and rectified linear activation function (ReLU).\n",
        "    - The second layer is the same as the first layer except that it has 512 perceptrons.\n",
        "    - The third layer is the same as the first layer.\n",
        "    - The final layer is the output layer with 2 perceptrons and softmax activation function.\n",
        "- Model 3 is the same with model 1 and model 2 except the activation functions in the hidden layers are Hyperbolic Tangent (Tanh) activation functions."
      ],
      "metadata": {
        "id": "23f0iqMkAQyN"
      }
    },
    {
      "cell_type": "markdown",
      "metadata": {
        "id": "bPTSuaB9L2jU"
      },
      "source": [
        "# 6 Methodology\n",
        "\n",
        "Describe how you will train and validate your models, how model performance is assesssed (i.e. accuracy, confusion matrix, etc)"
      ]
    },
    {
      "cell_type": "markdown",
      "source": [
        "We will create a training, and validation dataset using the features extracted and the labels.\n",
        "- 20% of the features data and labels will be the validation data.\n",
        "- The other 80% data will be used for training.\n",
        "\n",
        "We will train the model with the training data and validate the model with the validation data using:\n",
        "- Categorical cross-entropy loss function.\n",
        "- Adam optimisation and stochastic gradient descent optimisation.\n",
        "- The quality matrix is accuracy.\n",
        "\n",
        "We will use sensitivity, precision, and confusion matrix to double check the performance of the model."
      ],
      "metadata": {
        "id": "3iAVHnohG_AN"
      }
    },
    {
      "cell_type": "markdown",
      "metadata": {
        "id": "HZQPxztuL9AW"
      },
      "source": [
        "# 7 Dataset\n",
        "\n",
        "Describe the dataset that you will use to create your models and validate them. If you need to preprocess it, do it here. Include visualisations too. You can visualise raw data samples or extracted features."
      ]
    },
    {
      "cell_type": "markdown",
      "source": [
        "- We will use all data in the MLEnd Hums and Whistles dataset.\n",
        "- We will create training and validation data from the features extracted from the raw audio segments.\n",
        "    - We will use the training and validation data to train and validate the model."
      ],
      "metadata": {
        "id": "nZNqmgauK1Li"
      }
    },
    {
      "cell_type": "markdown",
      "source": [
        "Import libriaries and mount Google Drive."
      ],
      "metadata": {
        "id": "L-Xkl0dFLYkc"
      }
    },
    {
      "cell_type": "code",
      "source": [
        "from google.colab import drive\n",
        "\n",
        "import numpy as np\n",
        "import pandas as pd\n",
        "import matplotlib.pyplot as plt\n",
        "\n",
        "import os, sys, re, pickle, glob\n",
        "import urllib.request\n",
        "import zipfile\n",
        "\n",
        "import IPython.display as ipd\n",
        "from tqdm import tqdm\n",
        "import librosa\n",
        "\n",
        "drive.mount('/content/drive')"
      ],
      "metadata": {
        "colab": {
          "base_uri": "https://localhost:8080/"
        },
        "id": "21k86PEO754A",
        "outputId": "40f85379-6acb-42da-daf4-99a74c6ae7ac"
      },
      "execution_count": null,
      "outputs": [
        {
          "output_type": "stream",
          "name": "stdout",
          "text": [
            "Mounted at /content/drive\n"
          ]
        }
      ]
    },
    {
      "cell_type": "markdown",
      "source": [
        "## Check our files\n",
        "Check the number of audio segments in each folder."
      ],
      "metadata": {
        "id": "a3f3eD0s_4Tr"
      }
    },
    {
      "cell_type": "code",
      "source": [
        "potter_path = '/content/drive/MyDrive/Data/MLEndHW/potter/*.wav'\n",
        "potter_files = glob.glob(potter_path)\n",
        "len(potter_files)"
      ],
      "metadata": {
        "colab": {
          "base_uri": "https://localhost:8080/"
        },
        "outputId": "399055d6-7076-443f-d1c9-abeefb55aee9",
        "id": "ZdG0UoXnHRYy"
      },
      "execution_count": null,
      "outputs": [
        {
          "output_type": "execute_result",
          "data": {
            "text/plain": [
              "411"
            ]
          },
          "metadata": {},
          "execution_count": 5
        }
      ]
    },
    {
      "cell_type": "code",
      "source": [
        "starwar_path = '/content/drive/MyDrive/Data/MLEndHW/starwar/*.wav'\n",
        "starwar_files = glob.glob(starwar_path)\n",
        "len(starwar_files)"
      ],
      "metadata": {
        "colab": {
          "base_uri": "https://localhost:8080/"
        },
        "id": "Jq0DprIB8J1S",
        "outputId": "200f23e8-064a-4de9-fb1f-544c3196957f"
      },
      "execution_count": null,
      "outputs": [
        {
          "output_type": "execute_result",
          "data": {
            "text/plain": [
              "413"
            ]
          },
          "metadata": {},
          "execution_count": 6
        }
      ]
    },
    {
      "cell_type": "code",
      "source": [
        "panther_path = '/content/drive/MyDrive/Data/MLEndHW/panther/*.wav'\n",
        "panther_files = glob.glob(panther_path)\n",
        "len(panther_files)"
      ],
      "metadata": {
        "colab": {
          "base_uri": "https://localhost:8080/"
        },
        "id": "TCsVdL6QlW9q",
        "outputId": "91838be2-6a68-44c1-f45a-c38f82358cd1"
      },
      "execution_count": null,
      "outputs": [
        {
          "output_type": "execute_result",
          "data": {
            "text/plain": [
              "413"
            ]
          },
          "metadata": {},
          "execution_count": 7
        }
      ]
    },
    {
      "cell_type": "code",
      "source": [
        "rain_path = '/content/drive/MyDrive/Data/MLEndHW/rain/*.wav'\n",
        "rain_files = glob.glob(rain_path)\n",
        "len(rain_files)"
      ],
      "metadata": {
        "colab": {
          "base_uri": "https://localhost:8080/"
        },
        "id": "Wn_Rf-iElqP7",
        "outputId": "099f74be-11f4-482e-fb61-b3719a06c7ef"
      },
      "execution_count": null,
      "outputs": [
        {
          "output_type": "execute_result",
          "data": {
            "text/plain": [
              "413"
            ]
          },
          "metadata": {},
          "execution_count": 8
        }
      ]
    },
    {
      "cell_type": "code",
      "source": [
        "hakuna_path = '/content/drive/MyDrive/Data/MLEndHW/hakuna/*.wav'\n",
        "hakuna_files = glob.glob(hakuna_path)\n",
        "len(hakuna_files)"
      ],
      "metadata": {
        "colab": {
          "base_uri": "https://localhost:8080/"
        },
        "id": "SuQDuOx5l7EA",
        "outputId": "2ac34a80-2457-43e8-ccf4-9242b843c412"
      },
      "execution_count": null,
      "outputs": [
        {
          "output_type": "execute_result",
          "data": {
            "text/plain": [
              "412"
            ]
          },
          "metadata": {},
          "execution_count": 9
        }
      ]
    },
    {
      "cell_type": "code",
      "source": [
        "mamma_path = '/content/drive/MyDrive/Data/MLEndHW/mamma/*.wav'\n",
        "mamma_files = glob.glob(mamma_path)\n",
        "len(mamma_files)"
      ],
      "metadata": {
        "colab": {
          "base_uri": "https://localhost:8080/"
        },
        "id": "Hr8gMVxbmDXt",
        "outputId": "12f6b18e-51e0-4b4f-b1b8-ea5121424606"
      },
      "execution_count": null,
      "outputs": [
        {
          "output_type": "execute_result",
          "data": {
            "text/plain": [
              "412"
            ]
          },
          "metadata": {},
          "execution_count": 10
        }
      ]
    },
    {
      "cell_type": "code",
      "source": [
        "showman_path = '/content/drive/MyDrive/Data/MLEndHW/showman/*.wav'\n",
        "showman_files = glob.glob(showman_path)\n",
        "len(showman_files)"
      ],
      "metadata": {
        "colab": {
          "base_uri": "https://localhost:8080/"
        },
        "id": "Xy5a0ajLmSXD",
        "outputId": "6e154248-e5e1-4eff-b5b9-3ae5920d7b95"
      },
      "execution_count": null,
      "outputs": [
        {
          "output_type": "execute_result",
          "data": {
            "text/plain": [
              "410"
            ]
          },
          "metadata": {},
          "execution_count": 11
        }
      ]
    },
    {
      "cell_type": "code",
      "source": [
        "frozen_path = '/content/drive/MyDrive/Data/MLEndHW/frozen/*.wav'\n",
        "frozen_files = glob.glob(frozen_path)\n",
        "len(frozen_files)"
      ],
      "metadata": {
        "colab": {
          "base_uri": "https://localhost:8080/"
        },
        "id": "-J2uCdtkmdhy",
        "outputId": "a30547b4-4af9-4de9-e930-e8cf0fcc3cef"
      },
      "execution_count": null,
      "outputs": [
        {
          "output_type": "execute_result",
          "data": {
            "text/plain": [
              "410"
            ]
          },
          "metadata": {},
          "execution_count": 12
        }
      ]
    },
    {
      "cell_type": "markdown",
      "source": [
        "## Extract features of Potter"
      ],
      "metadata": {
        "id": "_sNVgwIVQ2hl"
      }
    },
    {
      "cell_type": "markdown",
      "source": [
        "The next cell defines a function that takes a number of files and creates a NumPy array containing the 40 audio features used as predictors (`X_potter`) and a label (`y_potter`), that indicates whether the type of interpretation is a Potter (`y=1`) or StarWars (`y=0`)."
      ],
      "metadata": {
        "id": "a4TdY7clQ2hm"
      }
    },
    {
      "cell_type": "code",
      "source": [
        "def getXy(files, scale_audio=False, onlySingleDigit=False):\n",
        "  X_potter,y_potter =[],[]\n",
        "  for file in tqdm(potter_files):\n",
        "    fileID = file.split('/')[-1]\n",
        "    file_name = file.split('/')[-1]\n",
        "    yi = 0\n",
        "\n",
        "    # load the audio file\n",
        "    fs = None # if None, fs would be 22050\n",
        "    x, fs = librosa.load(file, sr=fs, res_type='kaiser_fast')\n",
        "    # extract features from the data\n",
        "    mfccs = np.mean(librosa.feature.mfcc(y=x, sr=fs, n_mfcc=40).T, axis=0)\n",
        "\n",
        "    xi = [mfccs]\n",
        "    X_potter.append(xi)\n",
        "    y_potter.append(yi)\n",
        "\n",
        "  return np.array(X_potter),np.array(y_potter)"
      ],
      "metadata": {
        "id": "U8ntSHtbQ2hm"
      },
      "execution_count": null,
      "outputs": []
    },
    {
      "cell_type": "markdown",
      "source": [
        "We can apply `getXy` to the subsample and obtain the NumPy predictor array (`X_potter`) and a label (`y_potter`)."
      ],
      "metadata": {
        "id": "_lsCzG_oQ2hn"
      }
    },
    {
      "cell_type": "code",
      "source": [
        "X_potter,y_potter = getXy(potter_files, scale_audio=True, onlySingleDigit=True)"
      ],
      "metadata": {
        "colab": {
          "base_uri": "https://localhost:8080/"
        },
        "outputId": "efdb9038-ab4a-4474-d577-e3095fa18ba2",
        "id": "UvtERwvDQ2hn"
      },
      "execution_count": null,
      "outputs": [
        {
          "output_type": "stream",
          "name": "stderr",
          "text": [
            "100%|██████████| 411/411 [04:55<00:00,  1.39it/s]\n"
          ]
        }
      ]
    },
    {
      "cell_type": "markdown",
      "source": [
        "Check the shape of `X_potter`."
      ],
      "metadata": {
        "id": "39Z6ktaKQ2hn"
      }
    },
    {
      "cell_type": "code",
      "source": [
        "X_potter.shape"
      ],
      "metadata": {
        "colab": {
          "base_uri": "https://localhost:8080/"
        },
        "outputId": "dac68a72-3dbd-4ad2-ae64-629c53b9be09",
        "id": "rok6mb_aQ2hn"
      },
      "execution_count": null,
      "outputs": [
        {
          "output_type": "execute_result",
          "data": {
            "text/plain": [
              "(411, 1, 40)"
            ]
          },
          "metadata": {},
          "execution_count": 79
        }
      ]
    },
    {
      "cell_type": "markdown",
      "source": [
        "Reshape `X_potter`."
      ],
      "metadata": {
        "id": "3pg6YnbAQ2ho"
      }
    },
    {
      "cell_type": "code",
      "source": [
        "X_potter = X_potter[0:412,0,0:41]"
      ],
      "metadata": {
        "id": "KxbJBUWsQ2ho"
      },
      "execution_count": null,
      "outputs": []
    },
    {
      "cell_type": "markdown",
      "source": [
        "Check again the shape of `X_potter`."
      ],
      "metadata": {
        "id": "xEw7rgNfQ2ho"
      }
    },
    {
      "cell_type": "code",
      "source": [
        "X_potter.shape"
      ],
      "metadata": {
        "colab": {
          "base_uri": "https://localhost:8080/"
        },
        "outputId": "5621d62b-0102-49fb-ff67-aa54535ec7bb",
        "id": "hhDflRfgQ2ho"
      },
      "execution_count": null,
      "outputs": [
        {
          "output_type": "execute_result",
          "data": {
            "text/plain": [
              "(411, 40)"
            ]
          },
          "metadata": {},
          "execution_count": 81
        }
      ]
    },
    {
      "cell_type": "markdown",
      "source": [
        "Convert `X_potter` to a Pandas DataFrame."
      ],
      "metadata": {
        "id": "tyA65oUoQ2ho"
      }
    },
    {
      "cell_type": "code",
      "source": [
        "X_potter_df=pd.DataFrame(X_potter)\n",
        "X_potter_df.head()"
      ],
      "metadata": {
        "colab": {
          "base_uri": "https://localhost:8080/",
          "height": 226
        },
        "outputId": "8d3164bd-6b42-466c-d06e-2fa16420f68d",
        "id": "xrngpOS5Q2hp"
      },
      "execution_count": null,
      "outputs": [
        {
          "output_type": "execute_result",
          "data": {
            "text/html": [
              "<div>\n",
              "<style scoped>\n",
              "    .dataframe tbody tr th:only-of-type {\n",
              "        vertical-align: middle;\n",
              "    }\n",
              "\n",
              "    .dataframe tbody tr th {\n",
              "        vertical-align: top;\n",
              "    }\n",
              "\n",
              "    .dataframe thead th {\n",
              "        text-align: right;\n",
              "    }\n",
              "</style>\n",
              "<table border=\"1\" class=\"dataframe\">\n",
              "  <thead>\n",
              "    <tr style=\"text-align: right;\">\n",
              "      <th></th>\n",
              "      <th>0</th>\n",
              "      <th>1</th>\n",
              "      <th>2</th>\n",
              "      <th>3</th>\n",
              "      <th>4</th>\n",
              "      <th>5</th>\n",
              "      <th>6</th>\n",
              "      <th>7</th>\n",
              "      <th>8</th>\n",
              "      <th>9</th>\n",
              "      <th>10</th>\n",
              "      <th>11</th>\n",
              "      <th>12</th>\n",
              "      <th>13</th>\n",
              "      <th>14</th>\n",
              "      <th>15</th>\n",
              "      <th>16</th>\n",
              "      <th>17</th>\n",
              "      <th>18</th>\n",
              "      <th>19</th>\n",
              "      <th>20</th>\n",
              "      <th>21</th>\n",
              "      <th>22</th>\n",
              "      <th>23</th>\n",
              "      <th>24</th>\n",
              "      <th>25</th>\n",
              "      <th>26</th>\n",
              "      <th>27</th>\n",
              "      <th>28</th>\n",
              "      <th>29</th>\n",
              "      <th>30</th>\n",
              "      <th>31</th>\n",
              "      <th>32</th>\n",
              "      <th>33</th>\n",
              "      <th>34</th>\n",
              "      <th>35</th>\n",
              "      <th>36</th>\n",
              "      <th>37</th>\n",
              "      <th>38</th>\n",
              "      <th>39</th>\n",
              "    </tr>\n",
              "  </thead>\n",
              "  <tbody>\n",
              "    <tr>\n",
              "      <th>0</th>\n",
              "      <td>-498.370209</td>\n",
              "      <td>97.484016</td>\n",
              "      <td>20.255665</td>\n",
              "      <td>-10.031797</td>\n",
              "      <td>-9.752161</td>\n",
              "      <td>-1.690022</td>\n",
              "      <td>6.567716</td>\n",
              "      <td>9.084786</td>\n",
              "      <td>7.635784</td>\n",
              "      <td>5.955141</td>\n",
              "      <td>4.689372</td>\n",
              "      <td>1.338151</td>\n",
              "      <td>-1.298640</td>\n",
              "      <td>0.376346</td>\n",
              "      <td>3.199356</td>\n",
              "      <td>4.260131</td>\n",
              "      <td>4.300103</td>\n",
              "      <td>4.383435</td>\n",
              "      <td>2.726830</td>\n",
              "      <td>0.782115</td>\n",
              "      <td>1.572924</td>\n",
              "      <td>2.199916</td>\n",
              "      <td>2.150091</td>\n",
              "      <td>3.379054</td>\n",
              "      <td>4.510384</td>\n",
              "      <td>4.949692</td>\n",
              "      <td>4.880201</td>\n",
              "      <td>3.300941</td>\n",
              "      <td>0.196773</td>\n",
              "      <td>-1.438362</td>\n",
              "      <td>0.111899</td>\n",
              "      <td>1.692866</td>\n",
              "      <td>1.435486</td>\n",
              "      <td>1.659389</td>\n",
              "      <td>2.726424</td>\n",
              "      <td>2.189769</td>\n",
              "      <td>1.197356</td>\n",
              "      <td>1.746855</td>\n",
              "      <td>1.773661</td>\n",
              "      <td>0.833563</td>\n",
              "    </tr>\n",
              "    <tr>\n",
              "      <th>1</th>\n",
              "      <td>-467.573273</td>\n",
              "      <td>156.666748</td>\n",
              "      <td>-0.965877</td>\n",
              "      <td>47.335304</td>\n",
              "      <td>32.652714</td>\n",
              "      <td>0.298054</td>\n",
              "      <td>19.708477</td>\n",
              "      <td>-2.049824</td>\n",
              "      <td>-7.294669</td>\n",
              "      <td>1.911752</td>\n",
              "      <td>-10.282592</td>\n",
              "      <td>0.701614</td>\n",
              "      <td>-1.237265</td>\n",
              "      <td>-13.530456</td>\n",
              "      <td>-0.654368</td>\n",
              "      <td>-2.735156</td>\n",
              "      <td>-7.079937</td>\n",
              "      <td>0.847262</td>\n",
              "      <td>-2.869881</td>\n",
              "      <td>-1.610793</td>\n",
              "      <td>-0.719381</td>\n",
              "      <td>-4.810048</td>\n",
              "      <td>1.644532</td>\n",
              "      <td>-1.631486</td>\n",
              "      <td>-9.043200</td>\n",
              "      <td>-4.613988</td>\n",
              "      <td>-5.218972</td>\n",
              "      <td>-5.761328</td>\n",
              "      <td>-1.898731</td>\n",
              "      <td>-1.923826</td>\n",
              "      <td>0.017936</td>\n",
              "      <td>0.190687</td>\n",
              "      <td>-0.678697</td>\n",
              "      <td>3.681614</td>\n",
              "      <td>3.936953</td>\n",
              "      <td>0.924759</td>\n",
              "      <td>0.377598</td>\n",
              "      <td>-0.717650</td>\n",
              "      <td>-0.536646</td>\n",
              "      <td>0.174785</td>\n",
              "    </tr>\n",
              "    <tr>\n",
              "      <th>2</th>\n",
              "      <td>-442.714539</td>\n",
              "      <td>165.666000</td>\n",
              "      <td>-7.805946</td>\n",
              "      <td>32.387669</td>\n",
              "      <td>16.940914</td>\n",
              "      <td>-13.679734</td>\n",
              "      <td>19.118345</td>\n",
              "      <td>3.762792</td>\n",
              "      <td>-10.579235</td>\n",
              "      <td>1.375375</td>\n",
              "      <td>-1.738564</td>\n",
              "      <td>9.548119</td>\n",
              "      <td>5.287978</td>\n",
              "      <td>-13.872622</td>\n",
              "      <td>-5.304876</td>\n",
              "      <td>-3.862253</td>\n",
              "      <td>-7.346654</td>\n",
              "      <td>-0.181345</td>\n",
              "      <td>-4.636799</td>\n",
              "      <td>-4.849685</td>\n",
              "      <td>-3.578281</td>\n",
              "      <td>-8.049538</td>\n",
              "      <td>-0.040082</td>\n",
              "      <td>-0.518653</td>\n",
              "      <td>-7.205921</td>\n",
              "      <td>-0.536900</td>\n",
              "      <td>-2.320332</td>\n",
              "      <td>-4.534934</td>\n",
              "      <td>2.805769</td>\n",
              "      <td>0.348578</td>\n",
              "      <td>-0.658394</td>\n",
              "      <td>2.465432</td>\n",
              "      <td>-1.999189</td>\n",
              "      <td>-1.918422</td>\n",
              "      <td>1.776085</td>\n",
              "      <td>2.062051</td>\n",
              "      <td>1.902471</td>\n",
              "      <td>0.466852</td>\n",
              "      <td>3.026458</td>\n",
              "      <td>4.793396</td>\n",
              "    </tr>\n",
              "    <tr>\n",
              "      <th>3</th>\n",
              "      <td>-363.968140</td>\n",
              "      <td>102.366737</td>\n",
              "      <td>20.330393</td>\n",
              "      <td>10.679154</td>\n",
              "      <td>14.627174</td>\n",
              "      <td>6.686863</td>\n",
              "      <td>6.697762</td>\n",
              "      <td>-3.174469</td>\n",
              "      <td>-22.694632</td>\n",
              "      <td>-23.275843</td>\n",
              "      <td>-10.959164</td>\n",
              "      <td>-8.413962</td>\n",
              "      <td>-10.935768</td>\n",
              "      <td>-1.495141</td>\n",
              "      <td>2.815476</td>\n",
              "      <td>-4.910904</td>\n",
              "      <td>-6.667121</td>\n",
              "      <td>1.188860</td>\n",
              "      <td>3.702036</td>\n",
              "      <td>4.546562</td>\n",
              "      <td>5.730018</td>\n",
              "      <td>2.182034</td>\n",
              "      <td>2.452709</td>\n",
              "      <td>6.737597</td>\n",
              "      <td>9.413665</td>\n",
              "      <td>11.994285</td>\n",
              "      <td>9.548176</td>\n",
              "      <td>1.364945</td>\n",
              "      <td>0.364573</td>\n",
              "      <td>-0.161158</td>\n",
              "      <td>-2.357872</td>\n",
              "      <td>3.389377</td>\n",
              "      <td>5.676518</td>\n",
              "      <td>-0.306413</td>\n",
              "      <td>1.590397</td>\n",
              "      <td>4.352915</td>\n",
              "      <td>-2.767242</td>\n",
              "      <td>-5.334752</td>\n",
              "      <td>-2.699410</td>\n",
              "      <td>-4.178154</td>\n",
              "    </tr>\n",
              "    <tr>\n",
              "      <th>4</th>\n",
              "      <td>-341.260071</td>\n",
              "      <td>69.972610</td>\n",
              "      <td>9.509030</td>\n",
              "      <td>8.401139</td>\n",
              "      <td>18.115232</td>\n",
              "      <td>29.467592</td>\n",
              "      <td>22.119802</td>\n",
              "      <td>7.183917</td>\n",
              "      <td>-4.451496</td>\n",
              "      <td>-2.594328</td>\n",
              "      <td>3.879213</td>\n",
              "      <td>6.819319</td>\n",
              "      <td>5.604750</td>\n",
              "      <td>3.958717</td>\n",
              "      <td>2.272897</td>\n",
              "      <td>2.114452</td>\n",
              "      <td>2.618180</td>\n",
              "      <td>2.374115</td>\n",
              "      <td>4.594086</td>\n",
              "      <td>5.562335</td>\n",
              "      <td>4.339811</td>\n",
              "      <td>1.868518</td>\n",
              "      <td>2.706414</td>\n",
              "      <td>5.506132</td>\n",
              "      <td>5.159504</td>\n",
              "      <td>2.399642</td>\n",
              "      <td>1.042491</td>\n",
              "      <td>-0.013545</td>\n",
              "      <td>-0.540536</td>\n",
              "      <td>1.233328</td>\n",
              "      <td>0.154888</td>\n",
              "      <td>0.430743</td>\n",
              "      <td>1.198403</td>\n",
              "      <td>0.840828</td>\n",
              "      <td>1.482959</td>\n",
              "      <td>-0.957248</td>\n",
              "      <td>-2.960100</td>\n",
              "      <td>-2.429172</td>\n",
              "      <td>-0.869103</td>\n",
              "      <td>-0.933937</td>\n",
              "    </tr>\n",
              "  </tbody>\n",
              "</table>\n",
              "</div>"
            ],
            "text/plain": [
              "           0           1          2   ...        37        38        39\n",
              "0 -498.370209   97.484016  20.255665  ...  1.746855  1.773661  0.833563\n",
              "1 -467.573273  156.666748  -0.965877  ... -0.717650 -0.536646  0.174785\n",
              "2 -442.714539  165.666000  -7.805946  ...  0.466852  3.026458  4.793396\n",
              "3 -363.968140  102.366737  20.330393  ... -5.334752 -2.699410 -4.178154\n",
              "4 -341.260071   69.972610   9.509030  ... -2.429172 -0.869103 -0.933937\n",
              "\n",
              "[5 rows x 40 columns]"
            ]
          },
          "metadata": {},
          "execution_count": 82
        }
      ]
    },
    {
      "cell_type": "markdown",
      "source": [
        "Check the shape of `y_potter` and display some items of it."
      ],
      "metadata": {
        "id": "vUoj-s1qQ2hp"
      }
    },
    {
      "cell_type": "code",
      "source": [
        "print('shape of y_potter: ', y_potter.shape)\n",
        "display(y_potter[0:5])"
      ],
      "metadata": {
        "colab": {
          "base_uri": "https://localhost:8080/",
          "height": 52
        },
        "outputId": "41cac3ef-1c24-4678-e6de-cde02e47d78c",
        "id": "hwdyHneBQ2hp"
      },
      "execution_count": null,
      "outputs": [
        {
          "output_type": "stream",
          "name": "stdout",
          "text": [
            "shape of y_potter:  (411,)\n"
          ]
        },
        {
          "output_type": "display_data",
          "data": {
            "text/plain": [
              "array([0, 0, 0, 0, 0])"
            ]
          },
          "metadata": {}
        }
      ]
    },
    {
      "cell_type": "markdown",
      "source": [
        "Convert `y_potter` to Pandas DataFrame."
      ],
      "metadata": {
        "id": "byria0f6Q2hq"
      }
    },
    {
      "cell_type": "code",
      "source": [
        "y_potter_df=pd.DataFrame(y_potter, columns=['label'])\n",
        "y_potter_df.head()"
      ],
      "metadata": {
        "colab": {
          "base_uri": "https://localhost:8080/",
          "height": 206
        },
        "outputId": "d62d553a-23b3-454b-a191-a96cf3cca970",
        "id": "ga199pu7Q2hq"
      },
      "execution_count": null,
      "outputs": [
        {
          "output_type": "execute_result",
          "data": {
            "text/html": [
              "<div>\n",
              "<style scoped>\n",
              "    .dataframe tbody tr th:only-of-type {\n",
              "        vertical-align: middle;\n",
              "    }\n",
              "\n",
              "    .dataframe tbody tr th {\n",
              "        vertical-align: top;\n",
              "    }\n",
              "\n",
              "    .dataframe thead th {\n",
              "        text-align: right;\n",
              "    }\n",
              "</style>\n",
              "<table border=\"1\" class=\"dataframe\">\n",
              "  <thead>\n",
              "    <tr style=\"text-align: right;\">\n",
              "      <th></th>\n",
              "      <th>label</th>\n",
              "    </tr>\n",
              "  </thead>\n",
              "  <tbody>\n",
              "    <tr>\n",
              "      <th>0</th>\n",
              "      <td>0</td>\n",
              "    </tr>\n",
              "    <tr>\n",
              "      <th>1</th>\n",
              "      <td>0</td>\n",
              "    </tr>\n",
              "    <tr>\n",
              "      <th>2</th>\n",
              "      <td>0</td>\n",
              "    </tr>\n",
              "    <tr>\n",
              "      <th>3</th>\n",
              "      <td>0</td>\n",
              "    </tr>\n",
              "    <tr>\n",
              "      <th>4</th>\n",
              "      <td>0</td>\n",
              "    </tr>\n",
              "  </tbody>\n",
              "</table>\n",
              "</div>"
            ],
            "text/plain": [
              "   label\n",
              "0      0\n",
              "1      0\n",
              "2      0\n",
              "3      0\n",
              "4      0"
            ]
          },
          "metadata": {},
          "execution_count": 84
        }
      ]
    },
    {
      "cell_type": "markdown",
      "source": [
        "## Extract features of StarWars"
      ],
      "metadata": {
        "id": "mfs0KsAIzQts"
      }
    },
    {
      "cell_type": "markdown",
      "source": [
        "The next cell defines a function that takes a number of files and creates a NumPy array containing the 40 audio features used as predictors (`X_starwar`) and a label (`y_starwar`), that indicates whether the type of interpretation is a Potter (`y=1`) or StarWars (`y=0`)."
      ],
      "metadata": {
        "id": "i-jsKUStO_um"
      }
    },
    {
      "cell_type": "code",
      "source": [
        "def getXy(files, scale_audio=False, onlySingleDigit=False):\n",
        "  X_starwar,y_starwar =[],[]\n",
        "  for file in tqdm(starwar_files):\n",
        "    fileID = file.split('/')[-1]\n",
        "    file_name = file.split('/')[-1]\n",
        "    yi = 1\n",
        "\n",
        "    # load the audio file\n",
        "    fs = None # if None, fs would be 22050\n",
        "    x, fs = librosa.load(file, sr=fs, res_type='kaiser_fast')\n",
        "    # extract features from the data\n",
        "    mfccs = np.mean(librosa.feature.mfcc(y=x, sr=fs, n_mfcc=40).T, axis=0)\n",
        "\n",
        "    xi = [mfccs]\n",
        "    X_starwar.append(xi)\n",
        "    y_starwar.append(yi)\n",
        "\n",
        "  return np.array(X_starwar),np.array(y_starwar)"
      ],
      "metadata": {
        "id": "F4bK4SuyzQuQ"
      },
      "execution_count": null,
      "outputs": []
    },
    {
      "cell_type": "markdown",
      "source": [
        "We can apply `getXy` to the subsample and obtain the NumPy predictor array (`X_starwar`) and a label (`y_starwar`)."
      ],
      "metadata": {
        "id": "FeJS2dg6PFSx"
      }
    },
    {
      "cell_type": "code",
      "source": [
        "X_starwar,y_starwar = getXy(starwar_files, scale_audio=True, onlySingleDigit=True)"
      ],
      "metadata": {
        "colab": {
          "base_uri": "https://localhost:8080/"
        },
        "outputId": "c755fffd-dc43-402f-ca5b-ad6b33c66c49",
        "id": "KRvTho2izQuS"
      },
      "execution_count": null,
      "outputs": [
        {
          "output_type": "stream",
          "name": "stderr",
          "text": [
            "100%|██████████| 413/413 [04:54<00:00,  1.40it/s]\n"
          ]
        }
      ]
    },
    {
      "cell_type": "markdown",
      "source": [
        "Check the shape of `X_starwar`."
      ],
      "metadata": {
        "id": "ZCCGPbRIPLaT"
      }
    },
    {
      "cell_type": "code",
      "source": [
        "X_starwar.shape"
      ],
      "metadata": {
        "colab": {
          "base_uri": "https://localhost:8080/"
        },
        "outputId": "3d093c89-5f6f-44f9-9276-6f080a278fb2",
        "id": "2Fx0mDRGzQuU"
      },
      "execution_count": null,
      "outputs": [
        {
          "output_type": "execute_result",
          "data": {
            "text/plain": [
              "(413, 1, 40)"
            ]
          },
          "metadata": {},
          "execution_count": 87
        }
      ]
    },
    {
      "cell_type": "markdown",
      "source": [
        "Reshape `X_starwar`."
      ],
      "metadata": {
        "id": "f_ee4VPePQWZ"
      }
    },
    {
      "cell_type": "code",
      "source": [
        "X_starwar = X_starwar[0:413,0,0:40]"
      ],
      "metadata": {
        "id": "wGafeueBzQuV"
      },
      "execution_count": null,
      "outputs": []
    },
    {
      "cell_type": "markdown",
      "source": [
        "Check again the shape of `X_starwar`."
      ],
      "metadata": {
        "id": "HHh-Ma5IPU58"
      }
    },
    {
      "cell_type": "code",
      "source": [
        "X_starwar.shape"
      ],
      "metadata": {
        "colab": {
          "base_uri": "https://localhost:8080/"
        },
        "outputId": "940c06fa-09c7-491a-d0de-929cc0b27201",
        "id": "G9oq-7e8zQuW"
      },
      "execution_count": null,
      "outputs": [
        {
          "output_type": "execute_result",
          "data": {
            "text/plain": [
              "(413, 40)"
            ]
          },
          "metadata": {},
          "execution_count": 89
        }
      ]
    },
    {
      "cell_type": "markdown",
      "source": [
        "Convert `X_starwar` to Pandas DataFrame."
      ],
      "metadata": {
        "id": "rLB_ieWZPZPb"
      }
    },
    {
      "cell_type": "code",
      "source": [
        "X_starwar_df=pd.DataFrame(X_starwar)\n",
        "X_starwar_df.head()"
      ],
      "metadata": {
        "colab": {
          "base_uri": "https://localhost:8080/",
          "height": 226
        },
        "outputId": "73a687d4-0050-4dfa-c1c0-efb28f5b7fd1",
        "id": "bsmtonJBzQuX"
      },
      "execution_count": null,
      "outputs": [
        {
          "output_type": "execute_result",
          "data": {
            "text/html": [
              "<div>\n",
              "<style scoped>\n",
              "    .dataframe tbody tr th:only-of-type {\n",
              "        vertical-align: middle;\n",
              "    }\n",
              "\n",
              "    .dataframe tbody tr th {\n",
              "        vertical-align: top;\n",
              "    }\n",
              "\n",
              "    .dataframe thead th {\n",
              "        text-align: right;\n",
              "    }\n",
              "</style>\n",
              "<table border=\"1\" class=\"dataframe\">\n",
              "  <thead>\n",
              "    <tr style=\"text-align: right;\">\n",
              "      <th></th>\n",
              "      <th>0</th>\n",
              "      <th>1</th>\n",
              "      <th>2</th>\n",
              "      <th>3</th>\n",
              "      <th>4</th>\n",
              "      <th>5</th>\n",
              "      <th>6</th>\n",
              "      <th>7</th>\n",
              "      <th>8</th>\n",
              "      <th>9</th>\n",
              "      <th>10</th>\n",
              "      <th>11</th>\n",
              "      <th>12</th>\n",
              "      <th>13</th>\n",
              "      <th>14</th>\n",
              "      <th>15</th>\n",
              "      <th>16</th>\n",
              "      <th>17</th>\n",
              "      <th>18</th>\n",
              "      <th>19</th>\n",
              "      <th>20</th>\n",
              "      <th>21</th>\n",
              "      <th>22</th>\n",
              "      <th>23</th>\n",
              "      <th>24</th>\n",
              "      <th>25</th>\n",
              "      <th>26</th>\n",
              "      <th>27</th>\n",
              "      <th>28</th>\n",
              "      <th>29</th>\n",
              "      <th>30</th>\n",
              "      <th>31</th>\n",
              "      <th>32</th>\n",
              "      <th>33</th>\n",
              "      <th>34</th>\n",
              "      <th>35</th>\n",
              "      <th>36</th>\n",
              "      <th>37</th>\n",
              "      <th>38</th>\n",
              "      <th>39</th>\n",
              "    </tr>\n",
              "  </thead>\n",
              "  <tbody>\n",
              "    <tr>\n",
              "      <th>0</th>\n",
              "      <td>-551.671814</td>\n",
              "      <td>186.078415</td>\n",
              "      <td>24.750504</td>\n",
              "      <td>0.118921</td>\n",
              "      <td>19.549959</td>\n",
              "      <td>-9.476810</td>\n",
              "      <td>7.359761</td>\n",
              "      <td>8.188378</td>\n",
              "      <td>14.269634</td>\n",
              "      <td>-17.606617</td>\n",
              "      <td>-3.672383</td>\n",
              "      <td>3.163726</td>\n",
              "      <td>7.293727</td>\n",
              "      <td>3.628051</td>\n",
              "      <td>2.894598</td>\n",
              "      <td>-4.075535</td>\n",
              "      <td>-5.395344</td>\n",
              "      <td>-0.917197</td>\n",
              "      <td>1.857455</td>\n",
              "      <td>-8.060092</td>\n",
              "      <td>-7.290475</td>\n",
              "      <td>-0.332635</td>\n",
              "      <td>-7.391058</td>\n",
              "      <td>-4.827809</td>\n",
              "      <td>-6.770090</td>\n",
              "      <td>-4.345642</td>\n",
              "      <td>0.280955</td>\n",
              "      <td>-4.479471</td>\n",
              "      <td>-1.981407</td>\n",
              "      <td>2.530434</td>\n",
              "      <td>-1.283515</td>\n",
              "      <td>-1.253448</td>\n",
              "      <td>1.050092</td>\n",
              "      <td>-0.921627</td>\n",
              "      <td>-1.611274</td>\n",
              "      <td>-2.939813</td>\n",
              "      <td>-3.325281</td>\n",
              "      <td>-1.665028</td>\n",
              "      <td>0.998403</td>\n",
              "      <td>0.302152</td>\n",
              "    </tr>\n",
              "    <tr>\n",
              "      <th>1</th>\n",
              "      <td>-625.409851</td>\n",
              "      <td>124.406967</td>\n",
              "      <td>-2.864464</td>\n",
              "      <td>-6.833964</td>\n",
              "      <td>26.612850</td>\n",
              "      <td>7.459406</td>\n",
              "      <td>18.310774</td>\n",
              "      <td>-17.223562</td>\n",
              "      <td>5.544653</td>\n",
              "      <td>-4.479575</td>\n",
              "      <td>13.750098</td>\n",
              "      <td>6.413387</td>\n",
              "      <td>1.576377</td>\n",
              "      <td>0.379906</td>\n",
              "      <td>3.596662</td>\n",
              "      <td>1.478018</td>\n",
              "      <td>1.509076</td>\n",
              "      <td>9.181483</td>\n",
              "      <td>-0.377116</td>\n",
              "      <td>0.560643</td>\n",
              "      <td>-1.022555</td>\n",
              "      <td>-0.460599</td>\n",
              "      <td>3.022701</td>\n",
              "      <td>-1.992195</td>\n",
              "      <td>-1.479058</td>\n",
              "      <td>-0.163593</td>\n",
              "      <td>0.306376</td>\n",
              "      <td>1.875684</td>\n",
              "      <td>2.604237</td>\n",
              "      <td>-3.287473</td>\n",
              "      <td>-2.306627</td>\n",
              "      <td>3.463206</td>\n",
              "      <td>0.141299</td>\n",
              "      <td>0.712291</td>\n",
              "      <td>1.825953</td>\n",
              "      <td>-0.009359</td>\n",
              "      <td>0.806777</td>\n",
              "      <td>0.357042</td>\n",
              "      <td>2.288096</td>\n",
              "      <td>1.332845</td>\n",
              "    </tr>\n",
              "    <tr>\n",
              "      <th>2</th>\n",
              "      <td>-584.373962</td>\n",
              "      <td>130.607712</td>\n",
              "      <td>9.578016</td>\n",
              "      <td>30.866533</td>\n",
              "      <td>4.478142</td>\n",
              "      <td>7.943016</td>\n",
              "      <td>9.733388</td>\n",
              "      <td>-10.319694</td>\n",
              "      <td>20.498806</td>\n",
              "      <td>-15.968716</td>\n",
              "      <td>-17.983942</td>\n",
              "      <td>-14.689214</td>\n",
              "      <td>-1.640939</td>\n",
              "      <td>-3.153715</td>\n",
              "      <td>-1.884190</td>\n",
              "      <td>0.844808</td>\n",
              "      <td>2.489324</td>\n",
              "      <td>-3.038646</td>\n",
              "      <td>-8.144592</td>\n",
              "      <td>-5.900297</td>\n",
              "      <td>1.287056</td>\n",
              "      <td>2.462332</td>\n",
              "      <td>-5.164399</td>\n",
              "      <td>-1.242499</td>\n",
              "      <td>-0.597268</td>\n",
              "      <td>-3.631040</td>\n",
              "      <td>5.189296</td>\n",
              "      <td>3.183764</td>\n",
              "      <td>2.257322</td>\n",
              "      <td>9.814304</td>\n",
              "      <td>0.703836</td>\n",
              "      <td>2.553284</td>\n",
              "      <td>6.731316</td>\n",
              "      <td>-0.517106</td>\n",
              "      <td>2.396914</td>\n",
              "      <td>4.326029</td>\n",
              "      <td>3.678000</td>\n",
              "      <td>2.146780</td>\n",
              "      <td>1.756122</td>\n",
              "      <td>5.131932</td>\n",
              "    </tr>\n",
              "    <tr>\n",
              "      <th>3</th>\n",
              "      <td>-682.921753</td>\n",
              "      <td>65.219688</td>\n",
              "      <td>-18.036055</td>\n",
              "      <td>-6.114809</td>\n",
              "      <td>19.103100</td>\n",
              "      <td>28.034159</td>\n",
              "      <td>19.560919</td>\n",
              "      <td>-6.353008</td>\n",
              "      <td>4.174465</td>\n",
              "      <td>-8.950364</td>\n",
              "      <td>13.478917</td>\n",
              "      <td>3.657822</td>\n",
              "      <td>8.988890</td>\n",
              "      <td>3.859240</td>\n",
              "      <td>3.563860</td>\n",
              "      <td>5.892817</td>\n",
              "      <td>5.257292</td>\n",
              "      <td>5.692070</td>\n",
              "      <td>6.685111</td>\n",
              "      <td>5.790313</td>\n",
              "      <td>6.024724</td>\n",
              "      <td>6.260566</td>\n",
              "      <td>3.947481</td>\n",
              "      <td>6.388127</td>\n",
              "      <td>2.603546</td>\n",
              "      <td>1.986008</td>\n",
              "      <td>3.454039</td>\n",
              "      <td>1.978676</td>\n",
              "      <td>3.590901</td>\n",
              "      <td>3.040340</td>\n",
              "      <td>1.245274</td>\n",
              "      <td>1.597870</td>\n",
              "      <td>1.321995</td>\n",
              "      <td>3.228569</td>\n",
              "      <td>4.172474</td>\n",
              "      <td>2.650764</td>\n",
              "      <td>2.097647</td>\n",
              "      <td>0.420079</td>\n",
              "      <td>2.451832</td>\n",
              "      <td>3.625365</td>\n",
              "    </tr>\n",
              "    <tr>\n",
              "      <th>4</th>\n",
              "      <td>-308.484497</td>\n",
              "      <td>151.198288</td>\n",
              "      <td>15.575806</td>\n",
              "      <td>-14.716273</td>\n",
              "      <td>3.470871</td>\n",
              "      <td>8.172717</td>\n",
              "      <td>-13.937251</td>\n",
              "      <td>-13.970294</td>\n",
              "      <td>-12.572703</td>\n",
              "      <td>-17.350266</td>\n",
              "      <td>-13.515367</td>\n",
              "      <td>2.407248</td>\n",
              "      <td>-0.640804</td>\n",
              "      <td>-9.145527</td>\n",
              "      <td>-3.811310</td>\n",
              "      <td>-4.545970</td>\n",
              "      <td>-9.660947</td>\n",
              "      <td>-7.584137</td>\n",
              "      <td>0.404879</td>\n",
              "      <td>-12.374369</td>\n",
              "      <td>-12.578486</td>\n",
              "      <td>-7.851018</td>\n",
              "      <td>-7.946319</td>\n",
              "      <td>-0.003567</td>\n",
              "      <td>-8.839236</td>\n",
              "      <td>-5.255672</td>\n",
              "      <td>-3.975281</td>\n",
              "      <td>-12.932496</td>\n",
              "      <td>-7.453111</td>\n",
              "      <td>-2.104207</td>\n",
              "      <td>-2.610073</td>\n",
              "      <td>-4.771719</td>\n",
              "      <td>-0.889537</td>\n",
              "      <td>1.969022</td>\n",
              "      <td>3.250509</td>\n",
              "      <td>3.639220</td>\n",
              "      <td>2.592840</td>\n",
              "      <td>6.604378</td>\n",
              "      <td>2.808551</td>\n",
              "      <td>0.713428</td>\n",
              "    </tr>\n",
              "  </tbody>\n",
              "</table>\n",
              "</div>"
            ],
            "text/plain": [
              "           0           1          2   ...        37        38        39\n",
              "0 -551.671814  186.078415  24.750504  ... -1.665028  0.998403  0.302152\n",
              "1 -625.409851  124.406967  -2.864464  ...  0.357042  2.288096  1.332845\n",
              "2 -584.373962  130.607712   9.578016  ...  2.146780  1.756122  5.131932\n",
              "3 -682.921753   65.219688 -18.036055  ...  0.420079  2.451832  3.625365\n",
              "4 -308.484497  151.198288  15.575806  ...  6.604378  2.808551  0.713428\n",
              "\n",
              "[5 rows x 40 columns]"
            ]
          },
          "metadata": {},
          "execution_count": 90
        }
      ]
    },
    {
      "cell_type": "markdown",
      "source": [
        "Check the shape of `y_starwar` and display some items in it."
      ],
      "metadata": {
        "id": "PeOAD2rRPfdx"
      }
    },
    {
      "cell_type": "code",
      "source": [
        "print('shape of y_starwar: ', y_starwar.shape)\n",
        "display(y_starwar[0:5])"
      ],
      "metadata": {
        "colab": {
          "base_uri": "https://localhost:8080/",
          "height": 52
        },
        "outputId": "52af9dea-01bd-46fb-faed-1958dff6d2c6",
        "id": "FerAU_HGzQuZ"
      },
      "execution_count": null,
      "outputs": [
        {
          "output_type": "stream",
          "name": "stdout",
          "text": [
            "shape of y_starwar:  (413,)\n"
          ]
        },
        {
          "output_type": "display_data",
          "data": {
            "text/plain": [
              "array([1, 1, 1, 1, 1])"
            ]
          },
          "metadata": {}
        }
      ]
    },
    {
      "cell_type": "markdown",
      "source": [
        "Convert `y_starwar` to Pandas DataFrame."
      ],
      "metadata": {
        "id": "1MyQVk7_PvVX"
      }
    },
    {
      "cell_type": "code",
      "source": [
        "y_starwar_df=pd.DataFrame(y_starwar, columns=['label'])\n",
        "y_starwar_df.head()"
      ],
      "metadata": {
        "colab": {
          "base_uri": "https://localhost:8080/",
          "height": 206
        },
        "outputId": "08a88a72-dbfc-4abb-8fb2-8e69acab8d2f",
        "id": "A9Ijq09lzQub"
      },
      "execution_count": null,
      "outputs": [
        {
          "output_type": "execute_result",
          "data": {
            "text/html": [
              "<div>\n",
              "<style scoped>\n",
              "    .dataframe tbody tr th:only-of-type {\n",
              "        vertical-align: middle;\n",
              "    }\n",
              "\n",
              "    .dataframe tbody tr th {\n",
              "        vertical-align: top;\n",
              "    }\n",
              "\n",
              "    .dataframe thead th {\n",
              "        text-align: right;\n",
              "    }\n",
              "</style>\n",
              "<table border=\"1\" class=\"dataframe\">\n",
              "  <thead>\n",
              "    <tr style=\"text-align: right;\">\n",
              "      <th></th>\n",
              "      <th>label</th>\n",
              "    </tr>\n",
              "  </thead>\n",
              "  <tbody>\n",
              "    <tr>\n",
              "      <th>0</th>\n",
              "      <td>1</td>\n",
              "    </tr>\n",
              "    <tr>\n",
              "      <th>1</th>\n",
              "      <td>1</td>\n",
              "    </tr>\n",
              "    <tr>\n",
              "      <th>2</th>\n",
              "      <td>1</td>\n",
              "    </tr>\n",
              "    <tr>\n",
              "      <th>3</th>\n",
              "      <td>1</td>\n",
              "    </tr>\n",
              "    <tr>\n",
              "      <th>4</th>\n",
              "      <td>1</td>\n",
              "    </tr>\n",
              "  </tbody>\n",
              "</table>\n",
              "</div>"
            ],
            "text/plain": [
              "   label\n",
              "0      1\n",
              "1      1\n",
              "2      1\n",
              "3      1\n",
              "4      1"
            ]
          },
          "metadata": {},
          "execution_count": 99
        }
      ]
    },
    {
      "cell_type": "markdown",
      "source": [
        "## Extract features of Panther"
      ],
      "metadata": {
        "id": "RBr5uVdEHLl7"
      }
    },
    {
      "cell_type": "markdown",
      "source": [
        "The next cell defines a function that takes a number of files and creates a NumPy array containing the 40 audio features used as predictors (`X_panther`) and a label (`y_panther`), that contain values of 2."
      ],
      "metadata": {
        "id": "f4ixE8qnNGYA"
      }
    },
    {
      "cell_type": "code",
      "source": [
        "def getXy(files, scale_audio=False, onlySingleDigit=False):\n",
        "  X_panther,y_panther =[],[]\n",
        "  for file in tqdm(panther_files):\n",
        "    fileID = file.split('/')[-1]\n",
        "    file_name = file.split('/')[-1]\n",
        "    yi = 2\n",
        "\n",
        "    # load the audio file\n",
        "    fs = None # if None, fs would be 22050\n",
        "    x, fs = librosa.load(file, sr=fs, res_type='kaiser_fast')\n",
        "    # extract features from the data\n",
        "    mfccs = np.mean(librosa.feature.mfcc(y=x, sr=fs, n_mfcc=40).T, axis=0)\n",
        "\n",
        "    xi = [mfccs]\n",
        "    X_panther.append(xi)\n",
        "    y_panther.append(yi)\n",
        "\n",
        "  return np.array(X_panther),np.array(y_panther)"
      ],
      "metadata": {
        "id": "wgfdfvkPG4H8"
      },
      "execution_count": null,
      "outputs": []
    },
    {
      "cell_type": "markdown",
      "source": [
        "We can apply `getXy` to the subsample and obtain the NumPy predictor array (`X_panther`) and a label (`y_panther`)."
      ],
      "metadata": {
        "id": "oRMl8y4ONcaj"
      }
    },
    {
      "cell_type": "code",
      "source": [
        "X_panther,y_panther = getXy(panther_files, scale_audio=True, onlySingleDigit=True)"
      ],
      "metadata": {
        "colab": {
          "base_uri": "https://localhost:8080/"
        },
        "id": "QdibgiVjHw-N",
        "outputId": "85aa2728-284e-421d-e377-d07b670129ab"
      },
      "execution_count": null,
      "outputs": [
        {
          "output_type": "stream",
          "name": "stderr",
          "text": [
            "100%|██████████| 413/413 [01:02<00:00,  6.56it/s]\n"
          ]
        }
      ]
    },
    {
      "cell_type": "markdown",
      "source": [
        "Check the shape of `X_panther`."
      ],
      "metadata": {
        "id": "6bSfv24PNtVK"
      }
    },
    {
      "cell_type": "code",
      "source": [
        "X_panther.shape"
      ],
      "metadata": {
        "colab": {
          "base_uri": "https://localhost:8080/"
        },
        "id": "GOs1B01WWLM5",
        "outputId": "e9552f7f-a868-4e84-8df5-6928e756fe67"
      },
      "execution_count": null,
      "outputs": [
        {
          "output_type": "execute_result",
          "data": {
            "text/plain": [
              "(413, 1, 40)"
            ]
          },
          "metadata": {},
          "execution_count": 15
        }
      ]
    },
    {
      "cell_type": "markdown",
      "source": [
        "Reshape `X_panther`."
      ],
      "metadata": {
        "id": "y5jA3pENNzJR"
      }
    },
    {
      "cell_type": "code",
      "source": [
        "X_panther = X_panther[0:414,0,0:41]"
      ],
      "metadata": {
        "id": "SAOIJq4lKKxU"
      },
      "execution_count": null,
      "outputs": []
    },
    {
      "cell_type": "markdown",
      "source": [
        "Check again the shape of `X_panther`."
      ],
      "metadata": {
        "id": "aEiEpr4mOMfR"
      }
    },
    {
      "cell_type": "code",
      "source": [
        "X_panther.shape"
      ],
      "metadata": {
        "colab": {
          "base_uri": "https://localhost:8080/"
        },
        "id": "4r29YqzjXpqm",
        "outputId": "ff6f73b9-bd24-45f5-dd53-43720c950fb4"
      },
      "execution_count": null,
      "outputs": [
        {
          "output_type": "execute_result",
          "data": {
            "text/plain": [
              "(413, 40)"
            ]
          },
          "metadata": {},
          "execution_count": 18
        }
      ]
    },
    {
      "cell_type": "markdown",
      "source": [
        "Convert `X_panther` to a Pandas DataFrame."
      ],
      "metadata": {
        "id": "-T8AeLXzOXff"
      }
    },
    {
      "cell_type": "code",
      "source": [
        "X_panther_df=pd.DataFrame(X_panther)\n",
        "X_panther_df.head()"
      ],
      "metadata": {
        "colab": {
          "base_uri": "https://localhost:8080/",
          "height": 226
        },
        "id": "mo2AT7VOWh57",
        "outputId": "1b61e161-a959-4bcb-f8c3-973762a32076"
      },
      "execution_count": null,
      "outputs": [
        {
          "output_type": "execute_result",
          "data": {
            "text/html": [
              "<div>\n",
              "<style scoped>\n",
              "    .dataframe tbody tr th:only-of-type {\n",
              "        vertical-align: middle;\n",
              "    }\n",
              "\n",
              "    .dataframe tbody tr th {\n",
              "        vertical-align: top;\n",
              "    }\n",
              "\n",
              "    .dataframe thead th {\n",
              "        text-align: right;\n",
              "    }\n",
              "</style>\n",
              "<table border=\"1\" class=\"dataframe\">\n",
              "  <thead>\n",
              "    <tr style=\"text-align: right;\">\n",
              "      <th></th>\n",
              "      <th>0</th>\n",
              "      <th>1</th>\n",
              "      <th>2</th>\n",
              "      <th>3</th>\n",
              "      <th>4</th>\n",
              "      <th>5</th>\n",
              "      <th>6</th>\n",
              "      <th>7</th>\n",
              "      <th>8</th>\n",
              "      <th>9</th>\n",
              "      <th>10</th>\n",
              "      <th>11</th>\n",
              "      <th>12</th>\n",
              "      <th>13</th>\n",
              "      <th>14</th>\n",
              "      <th>15</th>\n",
              "      <th>16</th>\n",
              "      <th>17</th>\n",
              "      <th>18</th>\n",
              "      <th>19</th>\n",
              "      <th>20</th>\n",
              "      <th>21</th>\n",
              "      <th>22</th>\n",
              "      <th>23</th>\n",
              "      <th>24</th>\n",
              "      <th>25</th>\n",
              "      <th>26</th>\n",
              "      <th>27</th>\n",
              "      <th>28</th>\n",
              "      <th>29</th>\n",
              "      <th>30</th>\n",
              "      <th>31</th>\n",
              "      <th>32</th>\n",
              "      <th>33</th>\n",
              "      <th>34</th>\n",
              "      <th>35</th>\n",
              "      <th>36</th>\n",
              "      <th>37</th>\n",
              "      <th>38</th>\n",
              "      <th>39</th>\n",
              "    </tr>\n",
              "  </thead>\n",
              "  <tbody>\n",
              "    <tr>\n",
              "      <th>0</th>\n",
              "      <td>-597.500305</td>\n",
              "      <td>136.848038</td>\n",
              "      <td>58.946735</td>\n",
              "      <td>22.524927</td>\n",
              "      <td>17.039431</td>\n",
              "      <td>9.187197</td>\n",
              "      <td>13.977017</td>\n",
              "      <td>9.387111</td>\n",
              "      <td>2.808962</td>\n",
              "      <td>-8.597440</td>\n",
              "      <td>-1.743379</td>\n",
              "      <td>4.250392</td>\n",
              "      <td>10.034722</td>\n",
              "      <td>4.427010</td>\n",
              "      <td>-0.516293</td>\n",
              "      <td>-7.720788</td>\n",
              "      <td>-4.940946</td>\n",
              "      <td>-3.650136</td>\n",
              "      <td>-3.357881</td>\n",
              "      <td>-6.587396</td>\n",
              "      <td>-4.866595</td>\n",
              "      <td>-5.591858</td>\n",
              "      <td>-6.711283</td>\n",
              "      <td>-6.044812</td>\n",
              "      <td>-3.246880</td>\n",
              "      <td>-2.844247</td>\n",
              "      <td>-2.318978</td>\n",
              "      <td>-2.778881</td>\n",
              "      <td>-2.588884</td>\n",
              "      <td>-0.668958</td>\n",
              "      <td>-0.419191</td>\n",
              "      <td>-1.239664</td>\n",
              "      <td>-0.577296</td>\n",
              "      <td>-0.139211</td>\n",
              "      <td>-1.665132</td>\n",
              "      <td>-2.871131</td>\n",
              "      <td>-1.972741</td>\n",
              "      <td>0.688751</td>\n",
              "      <td>0.598488</td>\n",
              "      <td>-0.413145</td>\n",
              "    </tr>\n",
              "    <tr>\n",
              "      <th>1</th>\n",
              "      <td>-566.880127</td>\n",
              "      <td>114.250580</td>\n",
              "      <td>-29.786171</td>\n",
              "      <td>6.341318</td>\n",
              "      <td>26.407078</td>\n",
              "      <td>11.615899</td>\n",
              "      <td>15.457595</td>\n",
              "      <td>-17.775049</td>\n",
              "      <td>5.279184</td>\n",
              "      <td>1.642750</td>\n",
              "      <td>18.776506</td>\n",
              "      <td>7.172535</td>\n",
              "      <td>-1.233383</td>\n",
              "      <td>4.285879</td>\n",
              "      <td>1.001164</td>\n",
              "      <td>0.337975</td>\n",
              "      <td>2.808871</td>\n",
              "      <td>4.932030</td>\n",
              "      <td>2.486861</td>\n",
              "      <td>-0.763298</td>\n",
              "      <td>-1.353520</td>\n",
              "      <td>5.932525</td>\n",
              "      <td>-3.030471</td>\n",
              "      <td>-1.492020</td>\n",
              "      <td>1.313620</td>\n",
              "      <td>-3.698952</td>\n",
              "      <td>3.673755</td>\n",
              "      <td>-1.448660</td>\n",
              "      <td>-0.598693</td>\n",
              "      <td>0.811999</td>\n",
              "      <td>-1.112000</td>\n",
              "      <td>0.993522</td>\n",
              "      <td>2.284104</td>\n",
              "      <td>-0.187798</td>\n",
              "      <td>0.709880</td>\n",
              "      <td>0.562868</td>\n",
              "      <td>-0.433824</td>\n",
              "      <td>1.342219</td>\n",
              "      <td>0.963176</td>\n",
              "      <td>-1.375984</td>\n",
              "    </tr>\n",
              "    <tr>\n",
              "      <th>2</th>\n",
              "      <td>-587.578186</td>\n",
              "      <td>144.999405</td>\n",
              "      <td>24.635195</td>\n",
              "      <td>9.876956</td>\n",
              "      <td>17.890760</td>\n",
              "      <td>21.780182</td>\n",
              "      <td>12.265235</td>\n",
              "      <td>-6.469908</td>\n",
              "      <td>22.490471</td>\n",
              "      <td>-6.181688</td>\n",
              "      <td>-15.726422</td>\n",
              "      <td>-5.640171</td>\n",
              "      <td>-0.935915</td>\n",
              "      <td>3.671515</td>\n",
              "      <td>0.447458</td>\n",
              "      <td>0.205995</td>\n",
              "      <td>4.187135</td>\n",
              "      <td>-1.960790</td>\n",
              "      <td>-2.883428</td>\n",
              "      <td>-3.768785</td>\n",
              "      <td>3.068298</td>\n",
              "      <td>4.697410</td>\n",
              "      <td>-3.814787</td>\n",
              "      <td>-2.151880</td>\n",
              "      <td>-5.782963</td>\n",
              "      <td>-3.288117</td>\n",
              "      <td>5.419069</td>\n",
              "      <td>-1.146101</td>\n",
              "      <td>-6.689738</td>\n",
              "      <td>-0.441161</td>\n",
              "      <td>-4.853131</td>\n",
              "      <td>-5.641541</td>\n",
              "      <td>3.458811</td>\n",
              "      <td>-0.910479</td>\n",
              "      <td>-1.645720</td>\n",
              "      <td>-0.247166</td>\n",
              "      <td>-1.288233</td>\n",
              "      <td>2.392697</td>\n",
              "      <td>-0.397658</td>\n",
              "      <td>-1.343885</td>\n",
              "    </tr>\n",
              "    <tr>\n",
              "      <th>3</th>\n",
              "      <td>-683.070679</td>\n",
              "      <td>64.590240</td>\n",
              "      <td>-12.884468</td>\n",
              "      <td>-4.540859</td>\n",
              "      <td>16.108063</td>\n",
              "      <td>22.582790</td>\n",
              "      <td>14.886545</td>\n",
              "      <td>-5.485104</td>\n",
              "      <td>5.529301</td>\n",
              "      <td>-5.570976</td>\n",
              "      <td>10.075209</td>\n",
              "      <td>-0.942828</td>\n",
              "      <td>6.295186</td>\n",
              "      <td>7.141543</td>\n",
              "      <td>7.880639</td>\n",
              "      <td>4.340373</td>\n",
              "      <td>3.990422</td>\n",
              "      <td>4.912961</td>\n",
              "      <td>8.222476</td>\n",
              "      <td>6.537340</td>\n",
              "      <td>6.403953</td>\n",
              "      <td>6.504889</td>\n",
              "      <td>3.433452</td>\n",
              "      <td>6.953270</td>\n",
              "      <td>3.672380</td>\n",
              "      <td>3.697692</td>\n",
              "      <td>5.516174</td>\n",
              "      <td>2.056125</td>\n",
              "      <td>2.493186</td>\n",
              "      <td>1.317830</td>\n",
              "      <td>0.500004</td>\n",
              "      <td>4.323597</td>\n",
              "      <td>4.084955</td>\n",
              "      <td>3.701119</td>\n",
              "      <td>1.227977</td>\n",
              "      <td>0.401419</td>\n",
              "      <td>3.350284</td>\n",
              "      <td>3.182006</td>\n",
              "      <td>3.175537</td>\n",
              "      <td>3.260939</td>\n",
              "    </tr>\n",
              "    <tr>\n",
              "      <th>4</th>\n",
              "      <td>-322.276031</td>\n",
              "      <td>149.245377</td>\n",
              "      <td>19.260334</td>\n",
              "      <td>-7.605924</td>\n",
              "      <td>15.057544</td>\n",
              "      <td>12.665839</td>\n",
              "      <td>-5.753266</td>\n",
              "      <td>-5.426954</td>\n",
              "      <td>-5.526788</td>\n",
              "      <td>-17.420528</td>\n",
              "      <td>-14.673204</td>\n",
              "      <td>0.167980</td>\n",
              "      <td>-0.076543</td>\n",
              "      <td>-6.958005</td>\n",
              "      <td>-4.347667</td>\n",
              "      <td>-2.878030</td>\n",
              "      <td>-7.877413</td>\n",
              "      <td>-5.716974</td>\n",
              "      <td>-0.767082</td>\n",
              "      <td>-7.033300</td>\n",
              "      <td>-11.734410</td>\n",
              "      <td>-8.136024</td>\n",
              "      <td>-4.540065</td>\n",
              "      <td>-3.655019</td>\n",
              "      <td>-6.374809</td>\n",
              "      <td>-6.544573</td>\n",
              "      <td>-7.666318</td>\n",
              "      <td>-10.167533</td>\n",
              "      <td>-6.911439</td>\n",
              "      <td>-4.827108</td>\n",
              "      <td>-5.551845</td>\n",
              "      <td>-3.702437</td>\n",
              "      <td>-0.776745</td>\n",
              "      <td>2.062426</td>\n",
              "      <td>4.707347</td>\n",
              "      <td>6.776474</td>\n",
              "      <td>5.263699</td>\n",
              "      <td>1.049623</td>\n",
              "      <td>-1.807860</td>\n",
              "      <td>-1.610845</td>\n",
              "    </tr>\n",
              "  </tbody>\n",
              "</table>\n",
              "</div>"
            ],
            "text/plain": [
              "           0           1          2   ...        37        38        39\n",
              "0 -597.500305  136.848038  58.946735  ...  0.688751  0.598488 -0.413145\n",
              "1 -566.880127  114.250580 -29.786171  ...  1.342219  0.963176 -1.375984\n",
              "2 -587.578186  144.999405  24.635195  ...  2.392697 -0.397658 -1.343885\n",
              "3 -683.070679   64.590240 -12.884468  ...  3.182006  3.175537  3.260939\n",
              "4 -322.276031  149.245377  19.260334  ...  1.049623 -1.807860 -1.610845\n",
              "\n",
              "[5 rows x 40 columns]"
            ]
          },
          "metadata": {},
          "execution_count": 19
        }
      ]
    },
    {
      "cell_type": "markdown",
      "source": [
        "Check the shape of `y_panther` and display some items of it."
      ],
      "metadata": {
        "id": "3JXL34RdOdOV"
      }
    },
    {
      "cell_type": "code",
      "source": [
        "print('shape of y_potter: ', y_panther.shape)\n",
        "display(y_panther[0:5])"
      ],
      "metadata": {
        "colab": {
          "base_uri": "https://localhost:8080/",
          "height": 52
        },
        "id": "1GI7ZX6ZiN0D",
        "outputId": "47ad21e6-d44d-4ad2-af5d-86fdc0404e5f"
      },
      "execution_count": null,
      "outputs": [
        {
          "output_type": "stream",
          "name": "stdout",
          "text": [
            "shape of y_potter:  (413,)\n"
          ]
        },
        {
          "output_type": "display_data",
          "data": {
            "text/plain": [
              "array([2, 2, 2, 2, 2])"
            ]
          },
          "metadata": {}
        }
      ]
    },
    {
      "cell_type": "markdown",
      "source": [
        "Convert `y_panther` to Pandas DataFrame."
      ],
      "metadata": {
        "id": "N6QpTb5COwCS"
      }
    },
    {
      "cell_type": "code",
      "source": [
        "y_panther_df=pd.DataFrame(y_panther, columns=['label'])\n",
        "y_panther_df.head()"
      ],
      "metadata": {
        "colab": {
          "base_uri": "https://localhost:8080/",
          "height": 206
        },
        "id": "lgKq7mOXPnKs",
        "outputId": "8c7ff528-adcf-4e33-bcb7-bd6162247bb4"
      },
      "execution_count": null,
      "outputs": [
        {
          "output_type": "execute_result",
          "data": {
            "text/html": [
              "<div>\n",
              "<style scoped>\n",
              "    .dataframe tbody tr th:only-of-type {\n",
              "        vertical-align: middle;\n",
              "    }\n",
              "\n",
              "    .dataframe tbody tr th {\n",
              "        vertical-align: top;\n",
              "    }\n",
              "\n",
              "    .dataframe thead th {\n",
              "        text-align: right;\n",
              "    }\n",
              "</style>\n",
              "<table border=\"1\" class=\"dataframe\">\n",
              "  <thead>\n",
              "    <tr style=\"text-align: right;\">\n",
              "      <th></th>\n",
              "      <th>label</th>\n",
              "    </tr>\n",
              "  </thead>\n",
              "  <tbody>\n",
              "    <tr>\n",
              "      <th>0</th>\n",
              "      <td>2</td>\n",
              "    </tr>\n",
              "    <tr>\n",
              "      <th>1</th>\n",
              "      <td>2</td>\n",
              "    </tr>\n",
              "    <tr>\n",
              "      <th>2</th>\n",
              "      <td>2</td>\n",
              "    </tr>\n",
              "    <tr>\n",
              "      <th>3</th>\n",
              "      <td>2</td>\n",
              "    </tr>\n",
              "    <tr>\n",
              "      <th>4</th>\n",
              "      <td>2</td>\n",
              "    </tr>\n",
              "  </tbody>\n",
              "</table>\n",
              "</div>"
            ],
            "text/plain": [
              "   label\n",
              "0      2\n",
              "1      2\n",
              "2      2\n",
              "3      2\n",
              "4      2"
            ]
          },
          "metadata": {},
          "execution_count": 21
        }
      ]
    },
    {
      "cell_type": "markdown",
      "source": [
        "## Extract features of Rain"
      ],
      "metadata": {
        "id": "sEV36yRvFLr0"
      }
    },
    {
      "cell_type": "markdown",
      "source": [
        "The next cell defines a function that takes a number of files and creates a NumPy array containing the 40 audio features used as predictors (`X_rain`) and a label (`y_rain`), that contain values of 3."
      ],
      "metadata": {
        "id": "30h3phIdFLr1"
      }
    },
    {
      "cell_type": "code",
      "source": [
        "def getXy(files, scale_audio=False, onlySingleDigit=False):\n",
        "  X_rain,y_rain =[],[]\n",
        "  for file in tqdm(rain_files):\n",
        "    fileID = file.split('/')[-1]\n",
        "    file_name = file.split('/')[-1]\n",
        "    yi = 3\n",
        "\n",
        "    # load the audio file\n",
        "    fs = None # if None, fs would be 22050\n",
        "    x, fs = librosa.load(file, sr=fs, res_type='kaiser_fast')\n",
        "    # extract features from the data\n",
        "    mfccs = np.mean(librosa.feature.mfcc(y=x, sr=fs, n_mfcc=40).T, axis=0)\n",
        "\n",
        "    xi = [mfccs]\n",
        "    X_rain.append(xi)\n",
        "    y_rain.append(yi)\n",
        "\n",
        "  return np.array(X_rain),np.array(y_rain)"
      ],
      "metadata": {
        "id": "Z5HNn_BbFLr1"
      },
      "execution_count": null,
      "outputs": []
    },
    {
      "cell_type": "markdown",
      "source": [
        "We can apply `getXy` to the subsample and obtain the NumPy predictor array (`X_rain`) and a label (`y_rain`)."
      ],
      "metadata": {
        "id": "0nyX-6MGFLr2"
      }
    },
    {
      "cell_type": "code",
      "source": [
        "X_rain,y_rain = getXy(rain_files, scale_audio=True, onlySingleDigit=True)"
      ],
      "metadata": {
        "colab": {
          "base_uri": "https://localhost:8080/"
        },
        "outputId": "7519f4bc-05dd-4b58-e4cb-39773e0e0d8b",
        "id": "SkzLnqMHFLr2"
      },
      "execution_count": null,
      "outputs": [
        {
          "output_type": "stream",
          "name": "stderr",
          "text": [
            "100%|██████████| 413/413 [04:56<00:00,  1.39it/s]\n"
          ]
        }
      ]
    },
    {
      "cell_type": "markdown",
      "source": [
        "Check the shape of `X_rain`."
      ],
      "metadata": {
        "id": "ky1HP5nSFLr3"
      }
    },
    {
      "cell_type": "code",
      "source": [
        "X_rain.shape"
      ],
      "metadata": {
        "colab": {
          "base_uri": "https://localhost:8080/"
        },
        "outputId": "4b7b1e2e-08b2-425e-b80e-a731f9697cab",
        "id": "0WcGtCa8FLr3"
      },
      "execution_count": null,
      "outputs": [
        {
          "output_type": "execute_result",
          "data": {
            "text/plain": [
              "(413, 1, 40)"
            ]
          },
          "metadata": {},
          "execution_count": 26
        }
      ]
    },
    {
      "cell_type": "markdown",
      "source": [
        "Reshape `X_rain`."
      ],
      "metadata": {
        "id": "V_d-Rib5FLr3"
      }
    },
    {
      "cell_type": "code",
      "source": [
        "X_rain = X_rain[0:414,0,0:41]"
      ],
      "metadata": {
        "id": "sYeniEWFFLr4"
      },
      "execution_count": null,
      "outputs": []
    },
    {
      "cell_type": "markdown",
      "source": [
        "Check again the shape of `X_rain`."
      ],
      "metadata": {
        "id": "i-vbXBI8FLr4"
      }
    },
    {
      "cell_type": "code",
      "source": [
        "X_rain.shape"
      ],
      "metadata": {
        "colab": {
          "base_uri": "https://localhost:8080/"
        },
        "outputId": "94bd7546-4538-41ef-b55d-3b550d2c4744",
        "id": "M1oh2cNyFLr4"
      },
      "execution_count": null,
      "outputs": [
        {
          "output_type": "execute_result",
          "data": {
            "text/plain": [
              "(413, 40)"
            ]
          },
          "metadata": {},
          "execution_count": 28
        }
      ]
    },
    {
      "cell_type": "markdown",
      "source": [
        "Convert `X_rain` to a Pandas DataFrame."
      ],
      "metadata": {
        "id": "akYsnf0xFLr4"
      }
    },
    {
      "cell_type": "code",
      "source": [
        "X_rain_df=pd.DataFrame(X_rain)\n",
        "X_rain_df.head()"
      ],
      "metadata": {
        "colab": {
          "base_uri": "https://localhost:8080/",
          "height": 226
        },
        "outputId": "a33d2448-02ca-4b19-ee63-9acc0b5c5064",
        "id": "uc38UQkFFLr5"
      },
      "execution_count": null,
      "outputs": [
        {
          "output_type": "execute_result",
          "data": {
            "text/html": [
              "<div>\n",
              "<style scoped>\n",
              "    .dataframe tbody tr th:only-of-type {\n",
              "        vertical-align: middle;\n",
              "    }\n",
              "\n",
              "    .dataframe tbody tr th {\n",
              "        vertical-align: top;\n",
              "    }\n",
              "\n",
              "    .dataframe thead th {\n",
              "        text-align: right;\n",
              "    }\n",
              "</style>\n",
              "<table border=\"1\" class=\"dataframe\">\n",
              "  <thead>\n",
              "    <tr style=\"text-align: right;\">\n",
              "      <th></th>\n",
              "      <th>0</th>\n",
              "      <th>1</th>\n",
              "      <th>2</th>\n",
              "      <th>3</th>\n",
              "      <th>4</th>\n",
              "      <th>5</th>\n",
              "      <th>6</th>\n",
              "      <th>7</th>\n",
              "      <th>8</th>\n",
              "      <th>9</th>\n",
              "      <th>10</th>\n",
              "      <th>11</th>\n",
              "      <th>12</th>\n",
              "      <th>13</th>\n",
              "      <th>14</th>\n",
              "      <th>15</th>\n",
              "      <th>16</th>\n",
              "      <th>17</th>\n",
              "      <th>18</th>\n",
              "      <th>19</th>\n",
              "      <th>20</th>\n",
              "      <th>21</th>\n",
              "      <th>22</th>\n",
              "      <th>23</th>\n",
              "      <th>24</th>\n",
              "      <th>25</th>\n",
              "      <th>26</th>\n",
              "      <th>27</th>\n",
              "      <th>28</th>\n",
              "      <th>29</th>\n",
              "      <th>30</th>\n",
              "      <th>31</th>\n",
              "      <th>32</th>\n",
              "      <th>33</th>\n",
              "      <th>34</th>\n",
              "      <th>35</th>\n",
              "      <th>36</th>\n",
              "      <th>37</th>\n",
              "      <th>38</th>\n",
              "      <th>39</th>\n",
              "    </tr>\n",
              "  </thead>\n",
              "  <tbody>\n",
              "    <tr>\n",
              "      <th>0</th>\n",
              "      <td>-591.073669</td>\n",
              "      <td>164.614670</td>\n",
              "      <td>37.349548</td>\n",
              "      <td>10.412332</td>\n",
              "      <td>24.567806</td>\n",
              "      <td>2.415777</td>\n",
              "      <td>19.506813</td>\n",
              "      <td>2.706050</td>\n",
              "      <td>10.333131</td>\n",
              "      <td>-16.585497</td>\n",
              "      <td>3.407679</td>\n",
              "      <td>7.456293</td>\n",
              "      <td>4.473676</td>\n",
              "      <td>1.007123</td>\n",
              "      <td>0.669938</td>\n",
              "      <td>-3.636530</td>\n",
              "      <td>-2.080571</td>\n",
              "      <td>2.184112</td>\n",
              "      <td>-3.628925</td>\n",
              "      <td>-4.430689</td>\n",
              "      <td>-7.468464</td>\n",
              "      <td>-6.106180</td>\n",
              "      <td>-7.298341</td>\n",
              "      <td>-6.233606</td>\n",
              "      <td>-3.276052</td>\n",
              "      <td>-1.426566</td>\n",
              "      <td>-4.004629</td>\n",
              "      <td>-4.471626</td>\n",
              "      <td>0.725991</td>\n",
              "      <td>-0.845306</td>\n",
              "      <td>-0.502040</td>\n",
              "      <td>1.518360</td>\n",
              "      <td>2.926049</td>\n",
              "      <td>0.045167</td>\n",
              "      <td>-1.767300</td>\n",
              "      <td>-1.268787</td>\n",
              "      <td>-0.720229</td>\n",
              "      <td>0.273743</td>\n",
              "      <td>0.102020</td>\n",
              "      <td>-2.119873</td>\n",
              "    </tr>\n",
              "    <tr>\n",
              "      <th>1</th>\n",
              "      <td>-582.830200</td>\n",
              "      <td>136.365570</td>\n",
              "      <td>-22.770599</td>\n",
              "      <td>-7.415135</td>\n",
              "      <td>28.293221</td>\n",
              "      <td>10.752197</td>\n",
              "      <td>17.661945</td>\n",
              "      <td>-20.368141</td>\n",
              "      <td>6.946357</td>\n",
              "      <td>-4.099774</td>\n",
              "      <td>15.347651</td>\n",
              "      <td>8.137754</td>\n",
              "      <td>2.705540</td>\n",
              "      <td>7.235118</td>\n",
              "      <td>5.233834</td>\n",
              "      <td>-1.885309</td>\n",
              "      <td>1.766113</td>\n",
              "      <td>9.733741</td>\n",
              "      <td>0.833362</td>\n",
              "      <td>0.155872</td>\n",
              "      <td>-1.801119</td>\n",
              "      <td>-0.541403</td>\n",
              "      <td>-0.469005</td>\n",
              "      <td>-2.516221</td>\n",
              "      <td>4.174208</td>\n",
              "      <td>1.613042</td>\n",
              "      <td>-0.953649</td>\n",
              "      <td>1.478769</td>\n",
              "      <td>-1.249019</td>\n",
              "      <td>-0.490945</td>\n",
              "      <td>2.259180</td>\n",
              "      <td>-0.272634</td>\n",
              "      <td>-0.181238</td>\n",
              "      <td>-0.156437</td>\n",
              "      <td>-0.244004</td>\n",
              "      <td>1.622696</td>\n",
              "      <td>1.762900</td>\n",
              "      <td>1.099177</td>\n",
              "      <td>1.014368</td>\n",
              "      <td>-0.235764</td>\n",
              "    </tr>\n",
              "    <tr>\n",
              "      <th>2</th>\n",
              "      <td>-634.887390</td>\n",
              "      <td>110.682686</td>\n",
              "      <td>34.985283</td>\n",
              "      <td>24.014435</td>\n",
              "      <td>12.623847</td>\n",
              "      <td>11.489980</td>\n",
              "      <td>10.094329</td>\n",
              "      <td>-7.862767</td>\n",
              "      <td>20.679255</td>\n",
              "      <td>-6.732246</td>\n",
              "      <td>-20.673487</td>\n",
              "      <td>-9.081136</td>\n",
              "      <td>-6.352580</td>\n",
              "      <td>-1.406190</td>\n",
              "      <td>-0.494209</td>\n",
              "      <td>-4.065084</td>\n",
              "      <td>5.562197</td>\n",
              "      <td>-4.649055</td>\n",
              "      <td>-9.149065</td>\n",
              "      <td>-7.339177</td>\n",
              "      <td>-1.190216</td>\n",
              "      <td>3.163661</td>\n",
              "      <td>-8.481378</td>\n",
              "      <td>-6.480396</td>\n",
              "      <td>-3.808796</td>\n",
              "      <td>-9.502646</td>\n",
              "      <td>-2.219368</td>\n",
              "      <td>1.445395</td>\n",
              "      <td>-3.193711</td>\n",
              "      <td>5.961212</td>\n",
              "      <td>4.025880</td>\n",
              "      <td>5.208909</td>\n",
              "      <td>12.896733</td>\n",
              "      <td>3.379955</td>\n",
              "      <td>4.220943</td>\n",
              "      <td>5.031330</td>\n",
              "      <td>0.468552</td>\n",
              "      <td>2.895473</td>\n",
              "      <td>2.471006</td>\n",
              "      <td>3.393090</td>\n",
              "    </tr>\n",
              "    <tr>\n",
              "      <th>3</th>\n",
              "      <td>-692.115540</td>\n",
              "      <td>68.986748</td>\n",
              "      <td>3.793696</td>\n",
              "      <td>-14.173713</td>\n",
              "      <td>20.469526</td>\n",
              "      <td>22.295860</td>\n",
              "      <td>16.137070</td>\n",
              "      <td>-1.511975</td>\n",
              "      <td>4.127073</td>\n",
              "      <td>0.233137</td>\n",
              "      <td>6.524339</td>\n",
              "      <td>2.845904</td>\n",
              "      <td>2.502483</td>\n",
              "      <td>4.729844</td>\n",
              "      <td>9.098675</td>\n",
              "      <td>7.140750</td>\n",
              "      <td>6.088317</td>\n",
              "      <td>2.362231</td>\n",
              "      <td>6.662111</td>\n",
              "      <td>5.492915</td>\n",
              "      <td>5.837000</td>\n",
              "      <td>4.890015</td>\n",
              "      <td>3.161572</td>\n",
              "      <td>6.248257</td>\n",
              "      <td>3.411565</td>\n",
              "      <td>3.053761</td>\n",
              "      <td>1.452906</td>\n",
              "      <td>1.021911</td>\n",
              "      <td>2.327718</td>\n",
              "      <td>3.485064</td>\n",
              "      <td>1.753686</td>\n",
              "      <td>2.518147</td>\n",
              "      <td>2.386054</td>\n",
              "      <td>2.987979</td>\n",
              "      <td>3.899280</td>\n",
              "      <td>1.622458</td>\n",
              "      <td>2.178171</td>\n",
              "      <td>1.451049</td>\n",
              "      <td>2.340529</td>\n",
              "      <td>2.001179</td>\n",
              "    </tr>\n",
              "    <tr>\n",
              "      <th>4</th>\n",
              "      <td>-341.332214</td>\n",
              "      <td>128.340988</td>\n",
              "      <td>20.194277</td>\n",
              "      <td>0.640727</td>\n",
              "      <td>22.689169</td>\n",
              "      <td>9.755526</td>\n",
              "      <td>-16.599007</td>\n",
              "      <td>-13.745111</td>\n",
              "      <td>-6.563968</td>\n",
              "      <td>-16.934277</td>\n",
              "      <td>-17.215967</td>\n",
              "      <td>-3.398251</td>\n",
              "      <td>-0.313150</td>\n",
              "      <td>-5.277260</td>\n",
              "      <td>-3.913385</td>\n",
              "      <td>-2.512556</td>\n",
              "      <td>-8.840605</td>\n",
              "      <td>-8.827023</td>\n",
              "      <td>-0.488335</td>\n",
              "      <td>-2.302255</td>\n",
              "      <td>-8.207927</td>\n",
              "      <td>-6.521854</td>\n",
              "      <td>-4.202477</td>\n",
              "      <td>-6.243341</td>\n",
              "      <td>-7.525401</td>\n",
              "      <td>-4.424049</td>\n",
              "      <td>-4.864706</td>\n",
              "      <td>-10.538309</td>\n",
              "      <td>-10.537683</td>\n",
              "      <td>-5.216373</td>\n",
              "      <td>-1.851625</td>\n",
              "      <td>0.861764</td>\n",
              "      <td>4.145649</td>\n",
              "      <td>6.003322</td>\n",
              "      <td>6.003371</td>\n",
              "      <td>6.973162</td>\n",
              "      <td>8.098186</td>\n",
              "      <td>6.177290</td>\n",
              "      <td>3.006737</td>\n",
              "      <td>0.813854</td>\n",
              "    </tr>\n",
              "  </tbody>\n",
              "</table>\n",
              "</div>"
            ],
            "text/plain": [
              "           0           1          2   ...        37        38        39\n",
              "0 -591.073669  164.614670  37.349548  ...  0.273743  0.102020 -2.119873\n",
              "1 -582.830200  136.365570 -22.770599  ...  1.099177  1.014368 -0.235764\n",
              "2 -634.887390  110.682686  34.985283  ...  2.895473  2.471006  3.393090\n",
              "3 -692.115540   68.986748   3.793696  ...  1.451049  2.340529  2.001179\n",
              "4 -341.332214  128.340988  20.194277  ...  6.177290  3.006737  0.813854\n",
              "\n",
              "[5 rows x 40 columns]"
            ]
          },
          "metadata": {},
          "execution_count": 29
        }
      ]
    },
    {
      "cell_type": "markdown",
      "source": [
        "Check the shape of `y_rain` and display some items of it."
      ],
      "metadata": {
        "id": "-FHMzRRIFLr5"
      }
    },
    {
      "cell_type": "code",
      "source": [
        "print('shape of y_rain: ', y_rain.shape)\n",
        "display(y_rain[0:5])"
      ],
      "metadata": {
        "colab": {
          "base_uri": "https://localhost:8080/",
          "height": 52
        },
        "outputId": "6c08a177-9c7b-4b6d-e289-fcb2744db61d",
        "id": "9PtVeY0UFLr5"
      },
      "execution_count": null,
      "outputs": [
        {
          "output_type": "stream",
          "name": "stdout",
          "text": [
            "shape of y_rain:  (413,)\n"
          ]
        },
        {
          "output_type": "display_data",
          "data": {
            "text/plain": [
              "array([3, 3, 3, 3, 3])"
            ]
          },
          "metadata": {}
        }
      ]
    },
    {
      "cell_type": "markdown",
      "source": [
        "Convert `y_rain` to Pandas DataFrame."
      ],
      "metadata": {
        "id": "XvQZmNjGFLr6"
      }
    },
    {
      "cell_type": "code",
      "source": [
        "y_rain_df=pd.DataFrame(y_rain, columns=['label'])\n",
        "y_rain_df.head()"
      ],
      "metadata": {
        "colab": {
          "base_uri": "https://localhost:8080/",
          "height": 206
        },
        "outputId": "e81a3be0-c032-471e-b118-a319ee6ff235",
        "id": "IuHdE4FeFLr6"
      },
      "execution_count": null,
      "outputs": [
        {
          "output_type": "execute_result",
          "data": {
            "text/html": [
              "<div>\n",
              "<style scoped>\n",
              "    .dataframe tbody tr th:only-of-type {\n",
              "        vertical-align: middle;\n",
              "    }\n",
              "\n",
              "    .dataframe tbody tr th {\n",
              "        vertical-align: top;\n",
              "    }\n",
              "\n",
              "    .dataframe thead th {\n",
              "        text-align: right;\n",
              "    }\n",
              "</style>\n",
              "<table border=\"1\" class=\"dataframe\">\n",
              "  <thead>\n",
              "    <tr style=\"text-align: right;\">\n",
              "      <th></th>\n",
              "      <th>label</th>\n",
              "    </tr>\n",
              "  </thead>\n",
              "  <tbody>\n",
              "    <tr>\n",
              "      <th>0</th>\n",
              "      <td>3</td>\n",
              "    </tr>\n",
              "    <tr>\n",
              "      <th>1</th>\n",
              "      <td>3</td>\n",
              "    </tr>\n",
              "    <tr>\n",
              "      <th>2</th>\n",
              "      <td>3</td>\n",
              "    </tr>\n",
              "    <tr>\n",
              "      <th>3</th>\n",
              "      <td>3</td>\n",
              "    </tr>\n",
              "    <tr>\n",
              "      <th>4</th>\n",
              "      <td>3</td>\n",
              "    </tr>\n",
              "  </tbody>\n",
              "</table>\n",
              "</div>"
            ],
            "text/plain": [
              "   label\n",
              "0      3\n",
              "1      3\n",
              "2      3\n",
              "3      3\n",
              "4      3"
            ]
          },
          "metadata": {},
          "execution_count": 35
        }
      ]
    },
    {
      "cell_type": "markdown",
      "source": [
        "## Extract features of Hakuna"
      ],
      "metadata": {
        "id": "8c7Djn87FMFk"
      }
    },
    {
      "cell_type": "markdown",
      "source": [
        "The next cell defines a function that takes a number of files and creates a NumPy array containing the 40 audio features used as predictors (`X_hakuna`) and a label (`y_hakuna`), that contain values of 4."
      ],
      "metadata": {
        "id": "6wX6aVATFMFl"
      }
    },
    {
      "cell_type": "code",
      "source": [
        "def getXy(files, scale_audio=False, onlySingleDigit=False):\n",
        "  X_hakuna,y_hakuna =[],[]\n",
        "  for file in tqdm(hakuna_files):\n",
        "    fileID = file.split('/')[-1]\n",
        "    file_name = file.split('/')[-1]\n",
        "    yi = 4\n",
        "\n",
        "    # load the audio file\n",
        "    fs = None # if None, fs would be 22050\n",
        "    x, fs = librosa.load(file, sr=fs, res_type='kaiser_fast')\n",
        "    # extract features from the data\n",
        "    mfccs = np.mean(librosa.feature.mfcc(y=x, sr=fs, n_mfcc=40).T, axis=0)\n",
        "\n",
        "    xi = [mfccs]\n",
        "    X_hakuna.append(xi)\n",
        "    y_hakuna.append(yi)\n",
        "\n",
        "  return np.array(X_hakuna),np.array(y_hakuna)"
      ],
      "metadata": {
        "id": "-6I_kL7BFMFl"
      },
      "execution_count": null,
      "outputs": []
    },
    {
      "cell_type": "markdown",
      "source": [
        "We can apply `getXy` to the subsample and obtain the NumPy predictor array (`X_hakuna`) and a label (`y_hakuna`)."
      ],
      "metadata": {
        "id": "WRgm43qgFMFm"
      }
    },
    {
      "cell_type": "code",
      "source": [
        "X_hakuna,y_hakuna = getXy(hakuna_files, scale_audio=True, onlySingleDigit=True)"
      ],
      "metadata": {
        "colab": {
          "base_uri": "https://localhost:8080/"
        },
        "outputId": "75eeb55e-fee7-4cba-9475-07da9126422a",
        "id": "JVNhsbgJFMFm"
      },
      "execution_count": null,
      "outputs": [
        {
          "output_type": "stream",
          "name": "stderr",
          "text": [
            "100%|██████████| 412/412 [04:50<00:00,  1.42it/s]\n"
          ]
        }
      ]
    },
    {
      "cell_type": "markdown",
      "source": [
        "Check the shape of `X_hakuna`."
      ],
      "metadata": {
        "id": "CxgzTTyGFMFn"
      }
    },
    {
      "cell_type": "code",
      "source": [
        "X_hakuna.shape"
      ],
      "metadata": {
        "colab": {
          "base_uri": "https://localhost:8080/"
        },
        "outputId": "e850b251-9ff8-4b92-b3a2-db398b72ebd6",
        "id": "qPoERxQoFMFn"
      },
      "execution_count": null,
      "outputs": [
        {
          "output_type": "execute_result",
          "data": {
            "text/plain": [
              "(412, 1, 40)"
            ]
          },
          "metadata": {},
          "execution_count": 38
        }
      ]
    },
    {
      "cell_type": "markdown",
      "source": [
        "Reshape `X_hakuna`."
      ],
      "metadata": {
        "id": "T14OQg8CFMFn"
      }
    },
    {
      "cell_type": "code",
      "source": [
        "X_hakuna = X_hakuna[0:414,0,0:41]"
      ],
      "metadata": {
        "id": "japtcI6LFMFo"
      },
      "execution_count": null,
      "outputs": []
    },
    {
      "cell_type": "markdown",
      "source": [
        "Check again the shape of `X_hakuna`."
      ],
      "metadata": {
        "id": "TjVFc0TYFMFo"
      }
    },
    {
      "cell_type": "code",
      "source": [
        "X_hakuna.shape"
      ],
      "metadata": {
        "colab": {
          "base_uri": "https://localhost:8080/"
        },
        "outputId": "21b7969a-6b05-4eb6-9c0e-67f4322ca05d",
        "id": "HPwfHhwMFMFo"
      },
      "execution_count": null,
      "outputs": [
        {
          "output_type": "execute_result",
          "data": {
            "text/plain": [
              "(412, 40)"
            ]
          },
          "metadata": {},
          "execution_count": 40
        }
      ]
    },
    {
      "cell_type": "markdown",
      "source": [
        "Convert `X_hakuna` to a Pandas DataFrame."
      ],
      "metadata": {
        "id": "YgKY-y26FMFp"
      }
    },
    {
      "cell_type": "code",
      "source": [
        "X_hakuna_df=pd.DataFrame(X_hakuna)\n",
        "X_hakuna_df.head()"
      ],
      "metadata": {
        "colab": {
          "base_uri": "https://localhost:8080/",
          "height": 226
        },
        "outputId": "80a0ca68-1834-42f3-f3a5-0be81dbaf922",
        "id": "NnP6DUq-FMFp"
      },
      "execution_count": null,
      "outputs": [
        {
          "output_type": "execute_result",
          "data": {
            "text/html": [
              "<div>\n",
              "<style scoped>\n",
              "    .dataframe tbody tr th:only-of-type {\n",
              "        vertical-align: middle;\n",
              "    }\n",
              "\n",
              "    .dataframe tbody tr th {\n",
              "        vertical-align: top;\n",
              "    }\n",
              "\n",
              "    .dataframe thead th {\n",
              "        text-align: right;\n",
              "    }\n",
              "</style>\n",
              "<table border=\"1\" class=\"dataframe\">\n",
              "  <thead>\n",
              "    <tr style=\"text-align: right;\">\n",
              "      <th></th>\n",
              "      <th>0</th>\n",
              "      <th>1</th>\n",
              "      <th>2</th>\n",
              "      <th>3</th>\n",
              "      <th>4</th>\n",
              "      <th>5</th>\n",
              "      <th>6</th>\n",
              "      <th>7</th>\n",
              "      <th>8</th>\n",
              "      <th>9</th>\n",
              "      <th>10</th>\n",
              "      <th>11</th>\n",
              "      <th>12</th>\n",
              "      <th>13</th>\n",
              "      <th>14</th>\n",
              "      <th>15</th>\n",
              "      <th>16</th>\n",
              "      <th>17</th>\n",
              "      <th>18</th>\n",
              "      <th>19</th>\n",
              "      <th>20</th>\n",
              "      <th>21</th>\n",
              "      <th>22</th>\n",
              "      <th>23</th>\n",
              "      <th>24</th>\n",
              "      <th>25</th>\n",
              "      <th>26</th>\n",
              "      <th>27</th>\n",
              "      <th>28</th>\n",
              "      <th>29</th>\n",
              "      <th>30</th>\n",
              "      <th>31</th>\n",
              "      <th>32</th>\n",
              "      <th>33</th>\n",
              "      <th>34</th>\n",
              "      <th>35</th>\n",
              "      <th>36</th>\n",
              "      <th>37</th>\n",
              "      <th>38</th>\n",
              "      <th>39</th>\n",
              "    </tr>\n",
              "  </thead>\n",
              "  <tbody>\n",
              "    <tr>\n",
              "      <th>0</th>\n",
              "      <td>-579.691589</td>\n",
              "      <td>172.699249</td>\n",
              "      <td>38.089115</td>\n",
              "      <td>14.125843</td>\n",
              "      <td>27.127476</td>\n",
              "      <td>-2.054229</td>\n",
              "      <td>13.980891</td>\n",
              "      <td>3.383949</td>\n",
              "      <td>3.161155</td>\n",
              "      <td>-25.021116</td>\n",
              "      <td>2.445572</td>\n",
              "      <td>4.688621</td>\n",
              "      <td>0.812183</td>\n",
              "      <td>4.968496</td>\n",
              "      <td>3.872755</td>\n",
              "      <td>-9.805517</td>\n",
              "      <td>-6.973175</td>\n",
              "      <td>2.064229</td>\n",
              "      <td>4.193573</td>\n",
              "      <td>0.304139</td>\n",
              "      <td>-6.767214</td>\n",
              "      <td>-2.576063</td>\n",
              "      <td>-3.702734</td>\n",
              "      <td>-4.256461</td>\n",
              "      <td>-3.931674</td>\n",
              "      <td>-0.178446</td>\n",
              "      <td>-0.403327</td>\n",
              "      <td>-4.879457</td>\n",
              "      <td>-3.356504</td>\n",
              "      <td>-4.291518</td>\n",
              "      <td>-2.665607</td>\n",
              "      <td>0.137106</td>\n",
              "      <td>-2.143034</td>\n",
              "      <td>-2.516060</td>\n",
              "      <td>-0.040102</td>\n",
              "      <td>-2.411791</td>\n",
              "      <td>-1.916309</td>\n",
              "      <td>-0.958569</td>\n",
              "      <td>1.859842</td>\n",
              "      <td>1.214490</td>\n",
              "    </tr>\n",
              "    <tr>\n",
              "      <th>1</th>\n",
              "      <td>-570.788452</td>\n",
              "      <td>130.891846</td>\n",
              "      <td>9.605249</td>\n",
              "      <td>13.304388</td>\n",
              "      <td>24.521072</td>\n",
              "      <td>23.367414</td>\n",
              "      <td>17.913994</td>\n",
              "      <td>-10.240404</td>\n",
              "      <td>4.601552</td>\n",
              "      <td>0.798389</td>\n",
              "      <td>12.887916</td>\n",
              "      <td>5.748777</td>\n",
              "      <td>-0.039806</td>\n",
              "      <td>-1.076718</td>\n",
              "      <td>3.480085</td>\n",
              "      <td>-3.095488</td>\n",
              "      <td>-0.171135</td>\n",
              "      <td>-1.515422</td>\n",
              "      <td>-0.699616</td>\n",
              "      <td>-1.852640</td>\n",
              "      <td>-5.878209</td>\n",
              "      <td>-2.257870</td>\n",
              "      <td>-0.968347</td>\n",
              "      <td>0.394317</td>\n",
              "      <td>-2.269948</td>\n",
              "      <td>-2.677459</td>\n",
              "      <td>-0.500974</td>\n",
              "      <td>-0.160717</td>\n",
              "      <td>-0.884504</td>\n",
              "      <td>-1.664750</td>\n",
              "      <td>-1.891542</td>\n",
              "      <td>-0.260774</td>\n",
              "      <td>-1.184056</td>\n",
              "      <td>-0.169594</td>\n",
              "      <td>0.993747</td>\n",
              "      <td>-0.216318</td>\n",
              "      <td>1.023278</td>\n",
              "      <td>0.977877</td>\n",
              "      <td>0.811697</td>\n",
              "      <td>-0.439380</td>\n",
              "    </tr>\n",
              "    <tr>\n",
              "      <th>2</th>\n",
              "      <td>-604.463074</td>\n",
              "      <td>126.065933</td>\n",
              "      <td>23.560081</td>\n",
              "      <td>22.866425</td>\n",
              "      <td>15.846570</td>\n",
              "      <td>12.597810</td>\n",
              "      <td>13.242457</td>\n",
              "      <td>-3.759074</td>\n",
              "      <td>24.625576</td>\n",
              "      <td>-12.381685</td>\n",
              "      <td>-18.227747</td>\n",
              "      <td>-2.661923</td>\n",
              "      <td>-6.931143</td>\n",
              "      <td>0.733200</td>\n",
              "      <td>1.934837</td>\n",
              "      <td>-4.841068</td>\n",
              "      <td>4.043143</td>\n",
              "      <td>-0.791995</td>\n",
              "      <td>-5.151467</td>\n",
              "      <td>-2.637218</td>\n",
              "      <td>-1.372955</td>\n",
              "      <td>3.879490</td>\n",
              "      <td>-3.364628</td>\n",
              "      <td>-5.744053</td>\n",
              "      <td>-1.511099</td>\n",
              "      <td>-5.409320</td>\n",
              "      <td>-1.093323</td>\n",
              "      <td>0.213820</td>\n",
              "      <td>-5.819728</td>\n",
              "      <td>-2.416908</td>\n",
              "      <td>-5.117824</td>\n",
              "      <td>-2.239950</td>\n",
              "      <td>0.570701</td>\n",
              "      <td>-7.478972</td>\n",
              "      <td>-2.953465</td>\n",
              "      <td>0.987096</td>\n",
              "      <td>0.955247</td>\n",
              "      <td>1.548061</td>\n",
              "      <td>0.346294</td>\n",
              "      <td>2.156683</td>\n",
              "    </tr>\n",
              "    <tr>\n",
              "      <th>3</th>\n",
              "      <td>-688.912598</td>\n",
              "      <td>68.550392</td>\n",
              "      <td>6.140799</td>\n",
              "      <td>-22.133610</td>\n",
              "      <td>-1.789154</td>\n",
              "      <td>13.131292</td>\n",
              "      <td>23.507954</td>\n",
              "      <td>15.262273</td>\n",
              "      <td>19.564642</td>\n",
              "      <td>1.707197</td>\n",
              "      <td>-3.360315</td>\n",
              "      <td>-6.690668</td>\n",
              "      <td>-2.019740</td>\n",
              "      <td>7.656985</td>\n",
              "      <td>12.334503</td>\n",
              "      <td>9.548789</td>\n",
              "      <td>10.204216</td>\n",
              "      <td>3.489686</td>\n",
              "      <td>4.657259</td>\n",
              "      <td>2.199838</td>\n",
              "      <td>4.837304</td>\n",
              "      <td>9.095669</td>\n",
              "      <td>7.914565</td>\n",
              "      <td>8.423535</td>\n",
              "      <td>1.688422</td>\n",
              "      <td>2.848105</td>\n",
              "      <td>4.205755</td>\n",
              "      <td>3.664386</td>\n",
              "      <td>3.118335</td>\n",
              "      <td>2.257107</td>\n",
              "      <td>2.193376</td>\n",
              "      <td>3.163279</td>\n",
              "      <td>3.049794</td>\n",
              "      <td>1.674014</td>\n",
              "      <td>3.117304</td>\n",
              "      <td>2.655313</td>\n",
              "      <td>3.419966</td>\n",
              "      <td>2.419988</td>\n",
              "      <td>1.766680</td>\n",
              "      <td>3.112438</td>\n",
              "    </tr>\n",
              "    <tr>\n",
              "      <th>4</th>\n",
              "      <td>-304.157166</td>\n",
              "      <td>127.676147</td>\n",
              "      <td>8.872360</td>\n",
              "      <td>1.273469</td>\n",
              "      <td>6.043256</td>\n",
              "      <td>-3.953104</td>\n",
              "      <td>-11.842663</td>\n",
              "      <td>-5.784102</td>\n",
              "      <td>-8.948973</td>\n",
              "      <td>-25.702868</td>\n",
              "      <td>-16.980137</td>\n",
              "      <td>3.120893</td>\n",
              "      <td>-1.118423</td>\n",
              "      <td>-5.966943</td>\n",
              "      <td>-3.686097</td>\n",
              "      <td>-7.338800</td>\n",
              "      <td>-8.377063</td>\n",
              "      <td>-0.826034</td>\n",
              "      <td>3.047028</td>\n",
              "      <td>-11.142880</td>\n",
              "      <td>-12.051886</td>\n",
              "      <td>-2.222438</td>\n",
              "      <td>-7.112014</td>\n",
              "      <td>-7.556722</td>\n",
              "      <td>-4.879268</td>\n",
              "      <td>-4.960468</td>\n",
              "      <td>-6.311437</td>\n",
              "      <td>-9.416735</td>\n",
              "      <td>-6.268110</td>\n",
              "      <td>-2.564207</td>\n",
              "      <td>-3.927971</td>\n",
              "      <td>-5.351252</td>\n",
              "      <td>-4.235071</td>\n",
              "      <td>-2.248518</td>\n",
              "      <td>-1.310707</td>\n",
              "      <td>0.700805</td>\n",
              "      <td>2.365191</td>\n",
              "      <td>3.768921</td>\n",
              "      <td>3.909250</td>\n",
              "      <td>2.730378</td>\n",
              "    </tr>\n",
              "  </tbody>\n",
              "</table>\n",
              "</div>"
            ],
            "text/plain": [
              "           0           1          2   ...        37        38        39\n",
              "0 -579.691589  172.699249  38.089115  ... -0.958569  1.859842  1.214490\n",
              "1 -570.788452  130.891846   9.605249  ...  0.977877  0.811697 -0.439380\n",
              "2 -604.463074  126.065933  23.560081  ...  1.548061  0.346294  2.156683\n",
              "3 -688.912598   68.550392   6.140799  ...  2.419988  1.766680  3.112438\n",
              "4 -304.157166  127.676147   8.872360  ...  3.768921  3.909250  2.730378\n",
              "\n",
              "[5 rows x 40 columns]"
            ]
          },
          "metadata": {},
          "execution_count": 41
        }
      ]
    },
    {
      "cell_type": "markdown",
      "source": [
        "Check the shape of `y_hakuna` and display some items of it."
      ],
      "metadata": {
        "id": "aL2QBLSfFMFp"
      }
    },
    {
      "cell_type": "code",
      "source": [
        "print('shape of y_hakuna: ', y_hakuna.shape)\n",
        "display(y_hakuna[0:5])"
      ],
      "metadata": {
        "colab": {
          "base_uri": "https://localhost:8080/",
          "height": 52
        },
        "outputId": "d07c7ccf-2473-417b-a33d-721a233bd8e1",
        "id": "aRJ45MfZFMFq"
      },
      "execution_count": null,
      "outputs": [
        {
          "output_type": "stream",
          "name": "stdout",
          "text": [
            "shape of y_hakuna:  (412,)\n"
          ]
        },
        {
          "output_type": "display_data",
          "data": {
            "text/plain": [
              "array([4, 4, 4, 4, 4])"
            ]
          },
          "metadata": {}
        }
      ]
    },
    {
      "cell_type": "markdown",
      "source": [
        "Convert `y_hakuna` to Pandas DataFrame."
      ],
      "metadata": {
        "id": "VDTsw-2kFMFq"
      }
    },
    {
      "cell_type": "code",
      "source": [
        "y_hakuna_df=pd.DataFrame(y_hakuna, columns=['label'])\n",
        "y_hakuna_df.head()"
      ],
      "metadata": {
        "colab": {
          "base_uri": "https://localhost:8080/",
          "height": 206
        },
        "outputId": "52550a06-f22b-4b67-d60a-a53c184f7013",
        "id": "-0Wv8Rj0FMFq"
      },
      "execution_count": null,
      "outputs": [
        {
          "output_type": "execute_result",
          "data": {
            "text/html": [
              "<div>\n",
              "<style scoped>\n",
              "    .dataframe tbody tr th:only-of-type {\n",
              "        vertical-align: middle;\n",
              "    }\n",
              "\n",
              "    .dataframe tbody tr th {\n",
              "        vertical-align: top;\n",
              "    }\n",
              "\n",
              "    .dataframe thead th {\n",
              "        text-align: right;\n",
              "    }\n",
              "</style>\n",
              "<table border=\"1\" class=\"dataframe\">\n",
              "  <thead>\n",
              "    <tr style=\"text-align: right;\">\n",
              "      <th></th>\n",
              "      <th>label</th>\n",
              "    </tr>\n",
              "  </thead>\n",
              "  <tbody>\n",
              "    <tr>\n",
              "      <th>0</th>\n",
              "      <td>4</td>\n",
              "    </tr>\n",
              "    <tr>\n",
              "      <th>1</th>\n",
              "      <td>4</td>\n",
              "    </tr>\n",
              "    <tr>\n",
              "      <th>2</th>\n",
              "      <td>4</td>\n",
              "    </tr>\n",
              "    <tr>\n",
              "      <th>3</th>\n",
              "      <td>4</td>\n",
              "    </tr>\n",
              "    <tr>\n",
              "      <th>4</th>\n",
              "      <td>4</td>\n",
              "    </tr>\n",
              "  </tbody>\n",
              "</table>\n",
              "</div>"
            ],
            "text/plain": [
              "   label\n",
              "0      4\n",
              "1      4\n",
              "2      4\n",
              "3      4\n",
              "4      4"
            ]
          },
          "metadata": {},
          "execution_count": 43
        }
      ]
    },
    {
      "cell_type": "markdown",
      "source": [
        "## Extract features of Mamma"
      ],
      "metadata": {
        "id": "TSCe-FaOFPPl"
      }
    },
    {
      "cell_type": "markdown",
      "source": [
        "The next cell defines a function that takes a number of files and creates a NumPy array containing the 40 audio features used as predictors (`X_mamma`) and a label (`y_mamma`), that contain values of 5."
      ],
      "metadata": {
        "id": "3iZuNR-MFPPl"
      }
    },
    {
      "cell_type": "code",
      "source": [
        "def getXy(files, scale_audio=False, onlySingleDigit=False):\n",
        "  X_mamma,y_mamma =[],[]\n",
        "  for file in tqdm(mamma_files):\n",
        "    fileID = file.split('/')[-1]\n",
        "    file_name = file.split('/')[-1]\n",
        "    yi = 5\n",
        "\n",
        "    # load the audio file\n",
        "    fs = None # if None, fs would be 22050\n",
        "    x, fs = librosa.load(file, sr=fs, res_type='kaiser_fast')\n",
        "    # extract features from the data\n",
        "    mfccs = np.mean(librosa.feature.mfcc(y=x, sr=fs, n_mfcc=40).T, axis=0)\n",
        "\n",
        "    xi = [mfccs]\n",
        "    X_mamma.append(xi)\n",
        "    y_mamma.append(yi)\n",
        "\n",
        "  return np.array(X_mamma),np.array(y_mamma)"
      ],
      "metadata": {
        "id": "oqYkqXdcFPPl"
      },
      "execution_count": null,
      "outputs": []
    },
    {
      "cell_type": "markdown",
      "source": [
        "We can apply `getXy` to the subsample and obtain the NumPy predictor array (`X_mamma`) and a label (`y_mamma`)."
      ],
      "metadata": {
        "id": "FYCC2vcrFPPm"
      }
    },
    {
      "cell_type": "code",
      "source": [
        "X_mamma,y_mamma = getXy(mamma_files, scale_audio=True, onlySingleDigit=True)"
      ],
      "metadata": {
        "colab": {
          "base_uri": "https://localhost:8080/"
        },
        "outputId": "038e7656-4a3c-4bbe-e44f-c811b8227827",
        "id": "ZIeHAPoJFPPm"
      },
      "execution_count": null,
      "outputs": [
        {
          "output_type": "stream",
          "name": "stderr",
          "text": [
            "100%|██████████| 412/412 [05:10<00:00,  1.33it/s]\n"
          ]
        }
      ]
    },
    {
      "cell_type": "markdown",
      "source": [
        "Check the shape of `X_mamma`."
      ],
      "metadata": {
        "id": "gU_Jz1AYFPPm"
      }
    },
    {
      "cell_type": "code",
      "source": [
        "X_mamma.shape"
      ],
      "metadata": {
        "colab": {
          "base_uri": "https://localhost:8080/"
        },
        "outputId": "83982088-8509-4e94-f8f8-4e3900f14ab8",
        "id": "tHfq5n56FPPm"
      },
      "execution_count": null,
      "outputs": [
        {
          "output_type": "execute_result",
          "data": {
            "text/plain": [
              "(412, 1, 40)"
            ]
          },
          "metadata": {},
          "execution_count": 46
        }
      ]
    },
    {
      "cell_type": "markdown",
      "source": [
        "Reshape `X_mamma`."
      ],
      "metadata": {
        "id": "GIZQLF0QFPPm"
      }
    },
    {
      "cell_type": "code",
      "source": [
        "X_mamma = X_mamma[0:414,0,0:41]"
      ],
      "metadata": {
        "id": "CM-Ro165FPPn"
      },
      "execution_count": null,
      "outputs": []
    },
    {
      "cell_type": "markdown",
      "source": [
        "Check again the shape of `X_mamma`."
      ],
      "metadata": {
        "id": "ZPi2oTTLFPPn"
      }
    },
    {
      "cell_type": "code",
      "source": [
        "X_mamma.shape"
      ],
      "metadata": {
        "colab": {
          "base_uri": "https://localhost:8080/"
        },
        "outputId": "be717645-7499-43e2-b05a-2a7e9e42e8c9",
        "id": "vl2sblOUFPPn"
      },
      "execution_count": null,
      "outputs": [
        {
          "output_type": "execute_result",
          "data": {
            "text/plain": [
              "(412, 40)"
            ]
          },
          "metadata": {},
          "execution_count": 48
        }
      ]
    },
    {
      "cell_type": "markdown",
      "source": [
        "Convert `X_mamma` to a Pandas DataFrame."
      ],
      "metadata": {
        "id": "t_1Weu15FPPn"
      }
    },
    {
      "cell_type": "code",
      "source": [
        "X_mamma_df=pd.DataFrame(X_mamma)\n",
        "X_mamma_df.head()"
      ],
      "metadata": {
        "colab": {
          "base_uri": "https://localhost:8080/",
          "height": 226
        },
        "outputId": "e88e32c4-5353-4709-aa5b-4a6b012bd4c5",
        "id": "YwAfVKncFPPn"
      },
      "execution_count": null,
      "outputs": [
        {
          "output_type": "execute_result",
          "data": {
            "text/html": [
              "<div>\n",
              "<style scoped>\n",
              "    .dataframe tbody tr th:only-of-type {\n",
              "        vertical-align: middle;\n",
              "    }\n",
              "\n",
              "    .dataframe tbody tr th {\n",
              "        vertical-align: top;\n",
              "    }\n",
              "\n",
              "    .dataframe thead th {\n",
              "        text-align: right;\n",
              "    }\n",
              "</style>\n",
              "<table border=\"1\" class=\"dataframe\">\n",
              "  <thead>\n",
              "    <tr style=\"text-align: right;\">\n",
              "      <th></th>\n",
              "      <th>0</th>\n",
              "      <th>1</th>\n",
              "      <th>2</th>\n",
              "      <th>3</th>\n",
              "      <th>4</th>\n",
              "      <th>5</th>\n",
              "      <th>6</th>\n",
              "      <th>7</th>\n",
              "      <th>8</th>\n",
              "      <th>9</th>\n",
              "      <th>10</th>\n",
              "      <th>11</th>\n",
              "      <th>12</th>\n",
              "      <th>13</th>\n",
              "      <th>14</th>\n",
              "      <th>15</th>\n",
              "      <th>16</th>\n",
              "      <th>17</th>\n",
              "      <th>18</th>\n",
              "      <th>19</th>\n",
              "      <th>20</th>\n",
              "      <th>21</th>\n",
              "      <th>22</th>\n",
              "      <th>23</th>\n",
              "      <th>24</th>\n",
              "      <th>25</th>\n",
              "      <th>26</th>\n",
              "      <th>27</th>\n",
              "      <th>28</th>\n",
              "      <th>29</th>\n",
              "      <th>30</th>\n",
              "      <th>31</th>\n",
              "      <th>32</th>\n",
              "      <th>33</th>\n",
              "      <th>34</th>\n",
              "      <th>35</th>\n",
              "      <th>36</th>\n",
              "      <th>37</th>\n",
              "      <th>38</th>\n",
              "      <th>39</th>\n",
              "    </tr>\n",
              "  </thead>\n",
              "  <tbody>\n",
              "    <tr>\n",
              "      <th>0</th>\n",
              "      <td>-594.227234</td>\n",
              "      <td>132.813019</td>\n",
              "      <td>52.036552</td>\n",
              "      <td>16.420122</td>\n",
              "      <td>20.266098</td>\n",
              "      <td>16.783735</td>\n",
              "      <td>11.988706</td>\n",
              "      <td>8.309484</td>\n",
              "      <td>5.727381</td>\n",
              "      <td>-5.332343</td>\n",
              "      <td>0.644324</td>\n",
              "      <td>8.248197</td>\n",
              "      <td>8.819643</td>\n",
              "      <td>-2.161890</td>\n",
              "      <td>-5.139993</td>\n",
              "      <td>-4.135852</td>\n",
              "      <td>-0.352358</td>\n",
              "      <td>-3.817797</td>\n",
              "      <td>-5.012893</td>\n",
              "      <td>-5.559133</td>\n",
              "      <td>-4.210712</td>\n",
              "      <td>-6.953071</td>\n",
              "      <td>-6.542664</td>\n",
              "      <td>-2.587457</td>\n",
              "      <td>0.270419</td>\n",
              "      <td>-4.106387</td>\n",
              "      <td>-5.221077</td>\n",
              "      <td>-1.156199</td>\n",
              "      <td>0.426991</td>\n",
              "      <td>-3.811245</td>\n",
              "      <td>-4.048694</td>\n",
              "      <td>-0.969174</td>\n",
              "      <td>-1.502644</td>\n",
              "      <td>-3.808126</td>\n",
              "      <td>-3.133043</td>\n",
              "      <td>-1.631717</td>\n",
              "      <td>-2.411281</td>\n",
              "      <td>-2.075402</td>\n",
              "      <td>-0.018304</td>\n",
              "      <td>-0.558301</td>\n",
              "    </tr>\n",
              "    <tr>\n",
              "      <th>1</th>\n",
              "      <td>-563.217224</td>\n",
              "      <td>109.377228</td>\n",
              "      <td>-20.322378</td>\n",
              "      <td>24.083546</td>\n",
              "      <td>36.015133</td>\n",
              "      <td>13.305452</td>\n",
              "      <td>3.377703</td>\n",
              "      <td>-6.899644</td>\n",
              "      <td>11.589702</td>\n",
              "      <td>-1.415567</td>\n",
              "      <td>13.318898</td>\n",
              "      <td>0.611329</td>\n",
              "      <td>7.173684</td>\n",
              "      <td>1.892617</td>\n",
              "      <td>1.257991</td>\n",
              "      <td>2.488020</td>\n",
              "      <td>0.407857</td>\n",
              "      <td>3.108302</td>\n",
              "      <td>0.957583</td>\n",
              "      <td>-1.052944</td>\n",
              "      <td>-4.545571</td>\n",
              "      <td>1.593774</td>\n",
              "      <td>-2.904802</td>\n",
              "      <td>2.948863</td>\n",
              "      <td>0.544304</td>\n",
              "      <td>-4.500444</td>\n",
              "      <td>0.909397</td>\n",
              "      <td>-2.164408</td>\n",
              "      <td>3.049672</td>\n",
              "      <td>-4.426815</td>\n",
              "      <td>-0.982749</td>\n",
              "      <td>0.707028</td>\n",
              "      <td>-1.376043</td>\n",
              "      <td>1.604268</td>\n",
              "      <td>-2.880112</td>\n",
              "      <td>3.231457</td>\n",
              "      <td>1.925339</td>\n",
              "      <td>-2.143846</td>\n",
              "      <td>2.356462</td>\n",
              "      <td>1.370838</td>\n",
              "    </tr>\n",
              "    <tr>\n",
              "      <th>2</th>\n",
              "      <td>-618.224487</td>\n",
              "      <td>110.848480</td>\n",
              "      <td>22.808687</td>\n",
              "      <td>23.822580</td>\n",
              "      <td>13.621285</td>\n",
              "      <td>16.063320</td>\n",
              "      <td>12.505229</td>\n",
              "      <td>-5.902927</td>\n",
              "      <td>20.633581</td>\n",
              "      <td>-12.861341</td>\n",
              "      <td>-16.295895</td>\n",
              "      <td>-1.998805</td>\n",
              "      <td>-2.076058</td>\n",
              "      <td>0.252435</td>\n",
              "      <td>0.778243</td>\n",
              "      <td>-1.785802</td>\n",
              "      <td>5.772278</td>\n",
              "      <td>-1.580612</td>\n",
              "      <td>-5.268777</td>\n",
              "      <td>-1.840176</td>\n",
              "      <td>-0.488938</td>\n",
              "      <td>3.293240</td>\n",
              "      <td>-5.429353</td>\n",
              "      <td>-6.618026</td>\n",
              "      <td>-3.357618</td>\n",
              "      <td>-5.764779</td>\n",
              "      <td>-0.156298</td>\n",
              "      <td>0.943734</td>\n",
              "      <td>-3.973799</td>\n",
              "      <td>-4.046574</td>\n",
              "      <td>-8.411953</td>\n",
              "      <td>-2.272413</td>\n",
              "      <td>0.091748</td>\n",
              "      <td>-4.990863</td>\n",
              "      <td>-1.877006</td>\n",
              "      <td>-0.951410</td>\n",
              "      <td>0.349048</td>\n",
              "      <td>-0.491927</td>\n",
              "      <td>1.196387</td>\n",
              "      <td>6.464885</td>\n",
              "    </tr>\n",
              "    <tr>\n",
              "      <th>3</th>\n",
              "      <td>-695.632446</td>\n",
              "      <td>66.551018</td>\n",
              "      <td>5.632280</td>\n",
              "      <td>-13.830639</td>\n",
              "      <td>11.425182</td>\n",
              "      <td>18.432644</td>\n",
              "      <td>25.411924</td>\n",
              "      <td>7.812140</td>\n",
              "      <td>2.262369</td>\n",
              "      <td>-8.815428</td>\n",
              "      <td>0.826595</td>\n",
              "      <td>5.984366</td>\n",
              "      <td>14.275745</td>\n",
              "      <td>9.873601</td>\n",
              "      <td>7.303347</td>\n",
              "      <td>4.322067</td>\n",
              "      <td>5.990830</td>\n",
              "      <td>4.561253</td>\n",
              "      <td>4.657689</td>\n",
              "      <td>5.393109</td>\n",
              "      <td>5.876043</td>\n",
              "      <td>5.718577</td>\n",
              "      <td>3.737340</td>\n",
              "      <td>1.692729</td>\n",
              "      <td>0.835452</td>\n",
              "      <td>4.321971</td>\n",
              "      <td>6.096457</td>\n",
              "      <td>5.385579</td>\n",
              "      <td>3.004710</td>\n",
              "      <td>2.911920</td>\n",
              "      <td>2.364392</td>\n",
              "      <td>1.629373</td>\n",
              "      <td>1.648872</td>\n",
              "      <td>2.318105</td>\n",
              "      <td>2.271434</td>\n",
              "      <td>2.161193</td>\n",
              "      <td>2.086746</td>\n",
              "      <td>2.307251</td>\n",
              "      <td>2.990885</td>\n",
              "      <td>2.730562</td>\n",
              "    </tr>\n",
              "    <tr>\n",
              "      <th>4</th>\n",
              "      <td>-427.744141</td>\n",
              "      <td>158.105255</td>\n",
              "      <td>21.263443</td>\n",
              "      <td>4.174831</td>\n",
              "      <td>14.716042</td>\n",
              "      <td>7.709280</td>\n",
              "      <td>-4.909433</td>\n",
              "      <td>1.068929</td>\n",
              "      <td>-6.764546</td>\n",
              "      <td>-25.607141</td>\n",
              "      <td>-11.672549</td>\n",
              "      <td>7.679379</td>\n",
              "      <td>-0.921036</td>\n",
              "      <td>-2.375846</td>\n",
              "      <td>1.349774</td>\n",
              "      <td>-7.622733</td>\n",
              "      <td>-7.188732</td>\n",
              "      <td>-2.735826</td>\n",
              "      <td>3.093834</td>\n",
              "      <td>-0.377592</td>\n",
              "      <td>-6.655844</td>\n",
              "      <td>-4.135328</td>\n",
              "      <td>-7.705787</td>\n",
              "      <td>-4.529055</td>\n",
              "      <td>-2.149821</td>\n",
              "      <td>-4.119173</td>\n",
              "      <td>-7.295900</td>\n",
              "      <td>-8.255719</td>\n",
              "      <td>-2.941781</td>\n",
              "      <td>-5.089757</td>\n",
              "      <td>-6.067799</td>\n",
              "      <td>-3.330085</td>\n",
              "      <td>-3.146924</td>\n",
              "      <td>-3.399710</td>\n",
              "      <td>-4.891221</td>\n",
              "      <td>-3.367815</td>\n",
              "      <td>-0.834976</td>\n",
              "      <td>-0.601338</td>\n",
              "      <td>-4.550115</td>\n",
              "      <td>-3.435087</td>\n",
              "    </tr>\n",
              "  </tbody>\n",
              "</table>\n",
              "</div>"
            ],
            "text/plain": [
              "           0           1          2   ...        37        38        39\n",
              "0 -594.227234  132.813019  52.036552  ... -2.075402 -0.018304 -0.558301\n",
              "1 -563.217224  109.377228 -20.322378  ... -2.143846  2.356462  1.370838\n",
              "2 -618.224487  110.848480  22.808687  ... -0.491927  1.196387  6.464885\n",
              "3 -695.632446   66.551018   5.632280  ...  2.307251  2.990885  2.730562\n",
              "4 -427.744141  158.105255  21.263443  ... -0.601338 -4.550115 -3.435087\n",
              "\n",
              "[5 rows x 40 columns]"
            ]
          },
          "metadata": {},
          "execution_count": 49
        }
      ]
    },
    {
      "cell_type": "markdown",
      "source": [
        "Check the shape of `y_mamma` and display some items of it."
      ],
      "metadata": {
        "id": "zisdwIDhFPPo"
      }
    },
    {
      "cell_type": "code",
      "source": [
        "print('shape of y_mamma: ', y_mamma.shape)\n",
        "display(y_mamma[0:5])"
      ],
      "metadata": {
        "colab": {
          "base_uri": "https://localhost:8080/",
          "height": 52
        },
        "outputId": "1fec6c43-b274-46d1-e316-219450cbeb1d",
        "id": "a099BoRhFPPo"
      },
      "execution_count": null,
      "outputs": [
        {
          "output_type": "stream",
          "name": "stdout",
          "text": [
            "shape of y_mamma:  (412,)\n"
          ]
        },
        {
          "output_type": "display_data",
          "data": {
            "text/plain": [
              "array([5, 5, 5, 5, 5])"
            ]
          },
          "metadata": {}
        }
      ]
    },
    {
      "cell_type": "markdown",
      "source": [
        "Convert `y_mamma` to Pandas DataFrame."
      ],
      "metadata": {
        "id": "phKbBsc4FPPo"
      }
    },
    {
      "cell_type": "code",
      "source": [
        "y_mamma_df=pd.DataFrame(y_mamma, columns=['label'])\n",
        "y_mamma_df.head()"
      ],
      "metadata": {
        "colab": {
          "base_uri": "https://localhost:8080/",
          "height": 206
        },
        "outputId": "138f3f1c-2877-4064-fd52-dfb26351d72b",
        "id": "fSO4VnEGFPPo"
      },
      "execution_count": null,
      "outputs": [
        {
          "output_type": "execute_result",
          "data": {
            "text/html": [
              "<div>\n",
              "<style scoped>\n",
              "    .dataframe tbody tr th:only-of-type {\n",
              "        vertical-align: middle;\n",
              "    }\n",
              "\n",
              "    .dataframe tbody tr th {\n",
              "        vertical-align: top;\n",
              "    }\n",
              "\n",
              "    .dataframe thead th {\n",
              "        text-align: right;\n",
              "    }\n",
              "</style>\n",
              "<table border=\"1\" class=\"dataframe\">\n",
              "  <thead>\n",
              "    <tr style=\"text-align: right;\">\n",
              "      <th></th>\n",
              "      <th>label</th>\n",
              "    </tr>\n",
              "  </thead>\n",
              "  <tbody>\n",
              "    <tr>\n",
              "      <th>0</th>\n",
              "      <td>5</td>\n",
              "    </tr>\n",
              "    <tr>\n",
              "      <th>1</th>\n",
              "      <td>5</td>\n",
              "    </tr>\n",
              "    <tr>\n",
              "      <th>2</th>\n",
              "      <td>5</td>\n",
              "    </tr>\n",
              "    <tr>\n",
              "      <th>3</th>\n",
              "      <td>5</td>\n",
              "    </tr>\n",
              "    <tr>\n",
              "      <th>4</th>\n",
              "      <td>5</td>\n",
              "    </tr>\n",
              "  </tbody>\n",
              "</table>\n",
              "</div>"
            ],
            "text/plain": [
              "   label\n",
              "0      5\n",
              "1      5\n",
              "2      5\n",
              "3      5\n",
              "4      5"
            ]
          },
          "metadata": {},
          "execution_count": 51
        }
      ]
    },
    {
      "cell_type": "markdown",
      "source": [
        "## Extract features of Showman"
      ],
      "metadata": {
        "id": "SBFKUj5UFPp4"
      }
    },
    {
      "cell_type": "markdown",
      "source": [
        "The next cell defines a function that takes a number of files and creates a NumPy array containing the 40 audio features used as predictors (`X_showman`) and a label (`y_showman`), that contain values of 6."
      ],
      "metadata": {
        "id": "9mWifUMzFPp5"
      }
    },
    {
      "cell_type": "code",
      "source": [
        "def getXy(files, scale_audio=False, onlySingleDigit=False):\n",
        "  X_showman,y_showman =[],[]\n",
        "  for file in tqdm(showman_files):\n",
        "    fileID = file.split('/')[-1]\n",
        "    file_name = file.split('/')[-1]\n",
        "    yi = 6\n",
        "\n",
        "    # load the audio file\n",
        "    fs = None # if None, fs would be 22050\n",
        "    x, fs = librosa.load(file, sr=fs, res_type='kaiser_fast')\n",
        "    # extract features from the data\n",
        "    mfccs = np.mean(librosa.feature.mfcc(y=x, sr=fs, n_mfcc=40).T, axis=0)\n",
        "\n",
        "    xi = [mfccs]\n",
        "    X_showman.append(xi)\n",
        "    y_showman.append(yi)\n",
        "\n",
        "  return np.array(X_showman),np.array(y_showman)"
      ],
      "metadata": {
        "id": "A7JmM8hvFPp6"
      },
      "execution_count": null,
      "outputs": []
    },
    {
      "cell_type": "markdown",
      "source": [
        "We can apply `getXy` to the subsample and obtain the NumPy predictor array (`X_showman`) and a label (`y_showman`)."
      ],
      "metadata": {
        "id": "Z9zneOJxFPp7"
      }
    },
    {
      "cell_type": "code",
      "source": [
        "X_showman,y_showman = getXy(showman_files, scale_audio=True, onlySingleDigit=True)"
      ],
      "metadata": {
        "colab": {
          "base_uri": "https://localhost:8080/"
        },
        "outputId": "790d9197-f463-4197-f83b-e49e57f0f37f",
        "id": "WNRkNddSFPp8"
      },
      "execution_count": null,
      "outputs": [
        {
          "output_type": "stream",
          "name": "stderr",
          "text": [
            "100%|██████████| 410/410 [05:05<00:00,  1.34it/s]\n"
          ]
        }
      ]
    },
    {
      "cell_type": "markdown",
      "source": [
        "Check the shape of `X_showman`."
      ],
      "metadata": {
        "id": "4oNlwFx1FPp9"
      }
    },
    {
      "cell_type": "code",
      "source": [
        "X_showman.shape"
      ],
      "metadata": {
        "colab": {
          "base_uri": "https://localhost:8080/"
        },
        "outputId": "945a5ff3-3e31-4f65-deae-b7afb91992ee",
        "id": "qMSH_o2tFPp-"
      },
      "execution_count": null,
      "outputs": [
        {
          "output_type": "execute_result",
          "data": {
            "text/plain": [
              "(410, 1, 40)"
            ]
          },
          "metadata": {},
          "execution_count": 54
        }
      ]
    },
    {
      "cell_type": "markdown",
      "source": [
        "Reshape `X_showman`."
      ],
      "metadata": {
        "id": "KOY-4Nc1FPqA"
      }
    },
    {
      "cell_type": "code",
      "source": [
        "X_showman = X_showman[0:414,0,0:41]"
      ],
      "metadata": {
        "id": "7W2bHYbcFPqB"
      },
      "execution_count": null,
      "outputs": []
    },
    {
      "cell_type": "markdown",
      "source": [
        "Check again the shape of `X_showman`."
      ],
      "metadata": {
        "id": "MNMD8Oe1FPqB"
      }
    },
    {
      "cell_type": "code",
      "source": [
        "X_showman.shape"
      ],
      "metadata": {
        "colab": {
          "base_uri": "https://localhost:8080/"
        },
        "outputId": "23193822-0819-457d-ea32-48dc9ff936aa",
        "id": "fH3q85XfFPqC"
      },
      "execution_count": null,
      "outputs": [
        {
          "output_type": "execute_result",
          "data": {
            "text/plain": [
              "(410, 40)"
            ]
          },
          "metadata": {},
          "execution_count": 56
        }
      ]
    },
    {
      "cell_type": "markdown",
      "source": [
        "Convert `X_showman` to a Pandas DataFrame."
      ],
      "metadata": {
        "id": "q82DYnCGFPqC"
      }
    },
    {
      "cell_type": "code",
      "source": [
        "X_showman_df=pd.DataFrame(X_showman)\n",
        "X_showman_df.head()"
      ],
      "metadata": {
        "colab": {
          "base_uri": "https://localhost:8080/",
          "height": 226
        },
        "outputId": "988b233e-c192-44dd-bd00-83a771525b45",
        "id": "oFWC5MP8FPqD"
      },
      "execution_count": null,
      "outputs": [
        {
          "output_type": "execute_result",
          "data": {
            "text/html": [
              "<div>\n",
              "<style scoped>\n",
              "    .dataframe tbody tr th:only-of-type {\n",
              "        vertical-align: middle;\n",
              "    }\n",
              "\n",
              "    .dataframe tbody tr th {\n",
              "        vertical-align: top;\n",
              "    }\n",
              "\n",
              "    .dataframe thead th {\n",
              "        text-align: right;\n",
              "    }\n",
              "</style>\n",
              "<table border=\"1\" class=\"dataframe\">\n",
              "  <thead>\n",
              "    <tr style=\"text-align: right;\">\n",
              "      <th></th>\n",
              "      <th>0</th>\n",
              "      <th>1</th>\n",
              "      <th>2</th>\n",
              "      <th>3</th>\n",
              "      <th>4</th>\n",
              "      <th>5</th>\n",
              "      <th>6</th>\n",
              "      <th>7</th>\n",
              "      <th>8</th>\n",
              "      <th>9</th>\n",
              "      <th>10</th>\n",
              "      <th>11</th>\n",
              "      <th>12</th>\n",
              "      <th>13</th>\n",
              "      <th>14</th>\n",
              "      <th>15</th>\n",
              "      <th>16</th>\n",
              "      <th>17</th>\n",
              "      <th>18</th>\n",
              "      <th>19</th>\n",
              "      <th>20</th>\n",
              "      <th>21</th>\n",
              "      <th>22</th>\n",
              "      <th>23</th>\n",
              "      <th>24</th>\n",
              "      <th>25</th>\n",
              "      <th>26</th>\n",
              "      <th>27</th>\n",
              "      <th>28</th>\n",
              "      <th>29</th>\n",
              "      <th>30</th>\n",
              "      <th>31</th>\n",
              "      <th>32</th>\n",
              "      <th>33</th>\n",
              "      <th>34</th>\n",
              "      <th>35</th>\n",
              "      <th>36</th>\n",
              "      <th>37</th>\n",
              "      <th>38</th>\n",
              "      <th>39</th>\n",
              "    </tr>\n",
              "  </thead>\n",
              "  <tbody>\n",
              "    <tr>\n",
              "      <th>0</th>\n",
              "      <td>-557.154114</td>\n",
              "      <td>182.966995</td>\n",
              "      <td>22.677654</td>\n",
              "      <td>5.401155</td>\n",
              "      <td>22.218550</td>\n",
              "      <td>-6.071883</td>\n",
              "      <td>16.624773</td>\n",
              "      <td>3.479758</td>\n",
              "      <td>3.039945</td>\n",
              "      <td>-20.398710</td>\n",
              "      <td>2.247555</td>\n",
              "      <td>-2.814142</td>\n",
              "      <td>11.055830</td>\n",
              "      <td>13.980705</td>\n",
              "      <td>-2.799765</td>\n",
              "      <td>-5.442109</td>\n",
              "      <td>1.368912</td>\n",
              "      <td>4.120046</td>\n",
              "      <td>3.454515</td>\n",
              "      <td>1.830245</td>\n",
              "      <td>-2.088632</td>\n",
              "      <td>-3.908147</td>\n",
              "      <td>-2.819874</td>\n",
              "      <td>-1.211430</td>\n",
              "      <td>-8.956218</td>\n",
              "      <td>0.164330</td>\n",
              "      <td>1.452982</td>\n",
              "      <td>-7.591622</td>\n",
              "      <td>-2.588705</td>\n",
              "      <td>-1.148016</td>\n",
              "      <td>1.825509</td>\n",
              "      <td>1.749417</td>\n",
              "      <td>-0.956708</td>\n",
              "      <td>-2.209224</td>\n",
              "      <td>-0.854922</td>\n",
              "      <td>-1.197910</td>\n",
              "      <td>-0.782695</td>\n",
              "      <td>1.819808</td>\n",
              "      <td>1.942163</td>\n",
              "      <td>0.579844</td>\n",
              "    </tr>\n",
              "    <tr>\n",
              "      <th>1</th>\n",
              "      <td>-587.280151</td>\n",
              "      <td>117.957909</td>\n",
              "      <td>6.018815</td>\n",
              "      <td>-3.508405</td>\n",
              "      <td>7.229102</td>\n",
              "      <td>19.356064</td>\n",
              "      <td>27.509514</td>\n",
              "      <td>-2.449022</td>\n",
              "      <td>-3.483609</td>\n",
              "      <td>-7.008448</td>\n",
              "      <td>3.914177</td>\n",
              "      <td>11.886271</td>\n",
              "      <td>11.835200</td>\n",
              "      <td>3.791048</td>\n",
              "      <td>3.555205</td>\n",
              "      <td>-7.878225</td>\n",
              "      <td>3.069758</td>\n",
              "      <td>7.090811</td>\n",
              "      <td>0.522239</td>\n",
              "      <td>-3.793942</td>\n",
              "      <td>-0.318164</td>\n",
              "      <td>-2.814577</td>\n",
              "      <td>-0.438907</td>\n",
              "      <td>-0.014161</td>\n",
              "      <td>-2.678887</td>\n",
              "      <td>1.976365</td>\n",
              "      <td>0.047345</td>\n",
              "      <td>0.242107</td>\n",
              "      <td>-0.659425</td>\n",
              "      <td>-1.701436</td>\n",
              "      <td>1.181139</td>\n",
              "      <td>2.809833</td>\n",
              "      <td>0.198628</td>\n",
              "      <td>0.607068</td>\n",
              "      <td>0.191449</td>\n",
              "      <td>-1.780709</td>\n",
              "      <td>1.344763</td>\n",
              "      <td>1.171174</td>\n",
              "      <td>0.428085</td>\n",
              "      <td>0.475636</td>\n",
              "    </tr>\n",
              "    <tr>\n",
              "      <th>2</th>\n",
              "      <td>-650.973694</td>\n",
              "      <td>104.452286</td>\n",
              "      <td>44.313335</td>\n",
              "      <td>32.937313</td>\n",
              "      <td>18.120222</td>\n",
              "      <td>13.085624</td>\n",
              "      <td>13.651599</td>\n",
              "      <td>-2.897225</td>\n",
              "      <td>19.638847</td>\n",
              "      <td>-7.643499</td>\n",
              "      <td>-11.608545</td>\n",
              "      <td>0.499897</td>\n",
              "      <td>-3.053141</td>\n",
              "      <td>-6.969652</td>\n",
              "      <td>0.529129</td>\n",
              "      <td>-0.439575</td>\n",
              "      <td>2.221646</td>\n",
              "      <td>1.968274</td>\n",
              "      <td>-3.758791</td>\n",
              "      <td>-4.562754</td>\n",
              "      <td>-1.024912</td>\n",
              "      <td>0.822033</td>\n",
              "      <td>-3.796250</td>\n",
              "      <td>-1.415291</td>\n",
              "      <td>-1.926601</td>\n",
              "      <td>-8.726317</td>\n",
              "      <td>-1.836424</td>\n",
              "      <td>-2.939102</td>\n",
              "      <td>-7.825526</td>\n",
              "      <td>-0.119559</td>\n",
              "      <td>-3.827047</td>\n",
              "      <td>-2.823111</td>\n",
              "      <td>-1.558656</td>\n",
              "      <td>-6.657711</td>\n",
              "      <td>0.418977</td>\n",
              "      <td>3.314079</td>\n",
              "      <td>1.400100</td>\n",
              "      <td>2.630598</td>\n",
              "      <td>2.598640</td>\n",
              "      <td>1.742528</td>\n",
              "    </tr>\n",
              "    <tr>\n",
              "      <th>3</th>\n",
              "      <td>-704.012085</td>\n",
              "      <td>73.276634</td>\n",
              "      <td>7.827379</td>\n",
              "      <td>-21.138420</td>\n",
              "      <td>12.628654</td>\n",
              "      <td>18.861116</td>\n",
              "      <td>27.936022</td>\n",
              "      <td>6.037374</td>\n",
              "      <td>3.179592</td>\n",
              "      <td>-8.333061</td>\n",
              "      <td>-0.013328</td>\n",
              "      <td>3.981794</td>\n",
              "      <td>11.662866</td>\n",
              "      <td>9.889352</td>\n",
              "      <td>6.224330</td>\n",
              "      <td>3.613069</td>\n",
              "      <td>5.627945</td>\n",
              "      <td>5.402457</td>\n",
              "      <td>4.187891</td>\n",
              "      <td>4.891625</td>\n",
              "      <td>6.530906</td>\n",
              "      <td>6.118605</td>\n",
              "      <td>3.986560</td>\n",
              "      <td>2.882542</td>\n",
              "      <td>2.658403</td>\n",
              "      <td>3.859097</td>\n",
              "      <td>3.600628</td>\n",
              "      <td>2.899709</td>\n",
              "      <td>2.050137</td>\n",
              "      <td>3.385954</td>\n",
              "      <td>3.581891</td>\n",
              "      <td>2.006536</td>\n",
              "      <td>0.306168</td>\n",
              "      <td>0.662772</td>\n",
              "      <td>2.130593</td>\n",
              "      <td>4.312837</td>\n",
              "      <td>3.683190</td>\n",
              "      <td>1.677224</td>\n",
              "      <td>1.129710</td>\n",
              "      <td>1.256931</td>\n",
              "    </tr>\n",
              "    <tr>\n",
              "      <th>4</th>\n",
              "      <td>-338.162567</td>\n",
              "      <td>154.294373</td>\n",
              "      <td>21.480530</td>\n",
              "      <td>3.490898</td>\n",
              "      <td>-2.561947</td>\n",
              "      <td>-3.086858</td>\n",
              "      <td>-8.056766</td>\n",
              "      <td>-0.794791</td>\n",
              "      <td>-4.172585</td>\n",
              "      <td>-26.639641</td>\n",
              "      <td>-20.080952</td>\n",
              "      <td>4.291934</td>\n",
              "      <td>-1.333521</td>\n",
              "      <td>-4.389613</td>\n",
              "      <td>1.332713</td>\n",
              "      <td>-10.580923</td>\n",
              "      <td>-13.365264</td>\n",
              "      <td>-7.935424</td>\n",
              "      <td>-0.535325</td>\n",
              "      <td>-4.825071</td>\n",
              "      <td>-8.465108</td>\n",
              "      <td>-6.102338</td>\n",
              "      <td>-9.907734</td>\n",
              "      <td>-4.974411</td>\n",
              "      <td>-4.924157</td>\n",
              "      <td>-0.536991</td>\n",
              "      <td>-0.239144</td>\n",
              "      <td>-8.972867</td>\n",
              "      <td>-5.676310</td>\n",
              "      <td>-4.184528</td>\n",
              "      <td>-4.582043</td>\n",
              "      <td>-5.619879</td>\n",
              "      <td>-5.642587</td>\n",
              "      <td>-5.095360</td>\n",
              "      <td>-8.167784</td>\n",
              "      <td>-6.635159</td>\n",
              "      <td>-2.751284</td>\n",
              "      <td>-1.177471</td>\n",
              "      <td>-4.695455</td>\n",
              "      <td>-3.227740</td>\n",
              "    </tr>\n",
              "  </tbody>\n",
              "</table>\n",
              "</div>"
            ],
            "text/plain": [
              "           0           1          2   ...        37        38        39\n",
              "0 -557.154114  182.966995  22.677654  ...  1.819808  1.942163  0.579844\n",
              "1 -587.280151  117.957909   6.018815  ...  1.171174  0.428085  0.475636\n",
              "2 -650.973694  104.452286  44.313335  ...  2.630598  2.598640  1.742528\n",
              "3 -704.012085   73.276634   7.827379  ...  1.677224  1.129710  1.256931\n",
              "4 -338.162567  154.294373  21.480530  ... -1.177471 -4.695455 -3.227740\n",
              "\n",
              "[5 rows x 40 columns]"
            ]
          },
          "metadata": {},
          "execution_count": 57
        }
      ]
    },
    {
      "cell_type": "markdown",
      "source": [
        "Check the shape of `y_showman` and display some items of it."
      ],
      "metadata": {
        "id": "WUcIeE55FPqD"
      }
    },
    {
      "cell_type": "code",
      "source": [
        "print('shape of y_showman: ', y_showman.shape)\n",
        "display(y_showman[0:5])"
      ],
      "metadata": {
        "colab": {
          "base_uri": "https://localhost:8080/",
          "height": 52
        },
        "outputId": "3e4ee10e-d323-4aee-8331-40b1ecfe2bdd",
        "id": "hb2lYqy8FPqE"
      },
      "execution_count": null,
      "outputs": [
        {
          "output_type": "stream",
          "name": "stdout",
          "text": [
            "shape of y_showman:  (410,)\n"
          ]
        },
        {
          "output_type": "display_data",
          "data": {
            "text/plain": [
              "array([6, 6, 6, 6, 6])"
            ]
          },
          "metadata": {}
        }
      ]
    },
    {
      "cell_type": "markdown",
      "source": [
        "Convert `y_showman` to Pandas DataFrame."
      ],
      "metadata": {
        "id": "kynf6_YjFPqF"
      }
    },
    {
      "cell_type": "code",
      "source": [
        "y_showman_df=pd.DataFrame(y_showman, columns=['label'])\n",
        "y_showman_df.head()"
      ],
      "metadata": {
        "colab": {
          "base_uri": "https://localhost:8080/",
          "height": 206
        },
        "outputId": "863fb235-e3f3-4c5f-c678-f25ceec15359",
        "id": "fCcWLjVcFPqF"
      },
      "execution_count": null,
      "outputs": [
        {
          "output_type": "execute_result",
          "data": {
            "text/html": [
              "<div>\n",
              "<style scoped>\n",
              "    .dataframe tbody tr th:only-of-type {\n",
              "        vertical-align: middle;\n",
              "    }\n",
              "\n",
              "    .dataframe tbody tr th {\n",
              "        vertical-align: top;\n",
              "    }\n",
              "\n",
              "    .dataframe thead th {\n",
              "        text-align: right;\n",
              "    }\n",
              "</style>\n",
              "<table border=\"1\" class=\"dataframe\">\n",
              "  <thead>\n",
              "    <tr style=\"text-align: right;\">\n",
              "      <th></th>\n",
              "      <th>label</th>\n",
              "    </tr>\n",
              "  </thead>\n",
              "  <tbody>\n",
              "    <tr>\n",
              "      <th>0</th>\n",
              "      <td>6</td>\n",
              "    </tr>\n",
              "    <tr>\n",
              "      <th>1</th>\n",
              "      <td>6</td>\n",
              "    </tr>\n",
              "    <tr>\n",
              "      <th>2</th>\n",
              "      <td>6</td>\n",
              "    </tr>\n",
              "    <tr>\n",
              "      <th>3</th>\n",
              "      <td>6</td>\n",
              "    </tr>\n",
              "    <tr>\n",
              "      <th>4</th>\n",
              "      <td>6</td>\n",
              "    </tr>\n",
              "  </tbody>\n",
              "</table>\n",
              "</div>"
            ],
            "text/plain": [
              "   label\n",
              "0      6\n",
              "1      6\n",
              "2      6\n",
              "3      6\n",
              "4      6"
            ]
          },
          "metadata": {},
          "execution_count": 59
        }
      ]
    },
    {
      "cell_type": "markdown",
      "source": [
        "## Extract features of Frozen"
      ],
      "metadata": {
        "id": "rlFy9oVFFQDf"
      }
    },
    {
      "cell_type": "markdown",
      "source": [
        "The next cell defines a function that takes a number of files and creates a NumPy array containing the 40 audio features used as predictors (`X_frozen`) and a label (`y_frozen`), that contain values of 7."
      ],
      "metadata": {
        "id": "YebiFqG_FQDg"
      }
    },
    {
      "cell_type": "code",
      "source": [
        "def getXy(files, scale_audio=False, onlySingleDigit=False):\n",
        "  X_frozen,y_frozen =[],[]\n",
        "  for file in tqdm(frozen_files):\n",
        "    fileID = file.split('/')[-1]\n",
        "    file_name = file.split('/')[-1]\n",
        "    yi = 7\n",
        "\n",
        "    # load the audio file\n",
        "    fs = None # if None, fs would be 22050\n",
        "    x, fs = librosa.load(file, sr=fs, res_type='kaiser_fast')\n",
        "    # extract features from the data\n",
        "    mfccs = np.mean(librosa.feature.mfcc(y=x, sr=fs, n_mfcc=40).T, axis=0)\n",
        "\n",
        "    xi = [mfccs]\n",
        "    X_frozen.append(xi)\n",
        "    y_frozen.append(yi)\n",
        "\n",
        "  return np.array(X_frozen),np.array(y_frozen)"
      ],
      "metadata": {
        "id": "DzWdHUe7FQDh"
      },
      "execution_count": null,
      "outputs": []
    },
    {
      "cell_type": "markdown",
      "source": [
        "We can apply `getXy` to the subsample and obtain the NumPy predictor array (`X_frozen`) and a label (`y_frozen`)."
      ],
      "metadata": {
        "id": "nG5F-fjvFQDh"
      }
    },
    {
      "cell_type": "code",
      "source": [
        "X_frozen,y_frozen = getXy(frozen_files, scale_audio=True, onlySingleDigit=True)"
      ],
      "metadata": {
        "colab": {
          "base_uri": "https://localhost:8080/"
        },
        "outputId": "ad26bcb8-2882-474e-a92f-1199ba21fedf",
        "id": "VkhUqE7cFQDi"
      },
      "execution_count": null,
      "outputs": [
        {
          "output_type": "stream",
          "name": "stderr",
          "text": [
            "100%|██████████| 410/410 [05:08<00:00,  1.33it/s]\n"
          ]
        }
      ]
    },
    {
      "cell_type": "markdown",
      "source": [
        "Check the shape of `X_frozen`."
      ],
      "metadata": {
        "id": "ToUp32P_FQDi"
      }
    },
    {
      "cell_type": "code",
      "source": [
        "X_frozen.shape"
      ],
      "metadata": {
        "colab": {
          "base_uri": "https://localhost:8080/"
        },
        "outputId": "289c128d-b545-46bb-ec59-bdbe434b8ac6",
        "id": "9pwKQMjtFQDj"
      },
      "execution_count": null,
      "outputs": [
        {
          "output_type": "execute_result",
          "data": {
            "text/plain": [
              "(410, 1, 40)"
            ]
          },
          "metadata": {},
          "execution_count": 62
        }
      ]
    },
    {
      "cell_type": "markdown",
      "source": [
        "Reshape `X_frozen`."
      ],
      "metadata": {
        "id": "zFNA-ZUKFQDj"
      }
    },
    {
      "cell_type": "code",
      "source": [
        "X_frozen = X_frozen[0:414,0,0:41]"
      ],
      "metadata": {
        "id": "fjNiUvt3FQDj"
      },
      "execution_count": null,
      "outputs": []
    },
    {
      "cell_type": "markdown",
      "source": [
        "Check again the shape of `X_frozen`."
      ],
      "metadata": {
        "id": "wAY3JS2LFQDk"
      }
    },
    {
      "cell_type": "code",
      "source": [
        "X_frozen.shape"
      ],
      "metadata": {
        "colab": {
          "base_uri": "https://localhost:8080/"
        },
        "outputId": "3415d7b6-57b7-4ee2-d1c8-c8760d87c43c",
        "id": "DY2FTBsZFQDk"
      },
      "execution_count": null,
      "outputs": [
        {
          "output_type": "execute_result",
          "data": {
            "text/plain": [
              "(410, 40)"
            ]
          },
          "metadata": {},
          "execution_count": 64
        }
      ]
    },
    {
      "cell_type": "markdown",
      "source": [
        "Convert `X_frozen` to a Pandas DataFrame."
      ],
      "metadata": {
        "id": "3BtTXIr6FQDl"
      }
    },
    {
      "cell_type": "code",
      "source": [
        "X_frozen_df=pd.DataFrame(X_frozen)\n",
        "X_frozen_df.head()"
      ],
      "metadata": {
        "colab": {
          "base_uri": "https://localhost:8080/",
          "height": 226
        },
        "outputId": "df9b86b4-63d7-42b5-b9c5-b5ff1d4ea94b",
        "id": "6fdVq1JqFQDl"
      },
      "execution_count": null,
      "outputs": [
        {
          "output_type": "execute_result",
          "data": {
            "text/html": [
              "<div>\n",
              "<style scoped>\n",
              "    .dataframe tbody tr th:only-of-type {\n",
              "        vertical-align: middle;\n",
              "    }\n",
              "\n",
              "    .dataframe tbody tr th {\n",
              "        vertical-align: top;\n",
              "    }\n",
              "\n",
              "    .dataframe thead th {\n",
              "        text-align: right;\n",
              "    }\n",
              "</style>\n",
              "<table border=\"1\" class=\"dataframe\">\n",
              "  <thead>\n",
              "    <tr style=\"text-align: right;\">\n",
              "      <th></th>\n",
              "      <th>0</th>\n",
              "      <th>1</th>\n",
              "      <th>2</th>\n",
              "      <th>3</th>\n",
              "      <th>4</th>\n",
              "      <th>5</th>\n",
              "      <th>6</th>\n",
              "      <th>7</th>\n",
              "      <th>8</th>\n",
              "      <th>9</th>\n",
              "      <th>10</th>\n",
              "      <th>11</th>\n",
              "      <th>12</th>\n",
              "      <th>13</th>\n",
              "      <th>14</th>\n",
              "      <th>15</th>\n",
              "      <th>16</th>\n",
              "      <th>17</th>\n",
              "      <th>18</th>\n",
              "      <th>19</th>\n",
              "      <th>20</th>\n",
              "      <th>21</th>\n",
              "      <th>22</th>\n",
              "      <th>23</th>\n",
              "      <th>24</th>\n",
              "      <th>25</th>\n",
              "      <th>26</th>\n",
              "      <th>27</th>\n",
              "      <th>28</th>\n",
              "      <th>29</th>\n",
              "      <th>30</th>\n",
              "      <th>31</th>\n",
              "      <th>32</th>\n",
              "      <th>33</th>\n",
              "      <th>34</th>\n",
              "      <th>35</th>\n",
              "      <th>36</th>\n",
              "      <th>37</th>\n",
              "      <th>38</th>\n",
              "      <th>39</th>\n",
              "    </tr>\n",
              "  </thead>\n",
              "  <tbody>\n",
              "    <tr>\n",
              "      <th>0</th>\n",
              "      <td>-566.630127</td>\n",
              "      <td>183.214447</td>\n",
              "      <td>38.114697</td>\n",
              "      <td>11.900343</td>\n",
              "      <td>28.108316</td>\n",
              "      <td>-2.060310</td>\n",
              "      <td>8.167237</td>\n",
              "      <td>6.380401</td>\n",
              "      <td>13.373220</td>\n",
              "      <td>-25.369137</td>\n",
              "      <td>-1.813113</td>\n",
              "      <td>5.109578</td>\n",
              "      <td>2.658654</td>\n",
              "      <td>9.638428</td>\n",
              "      <td>4.095430</td>\n",
              "      <td>-11.818909</td>\n",
              "      <td>-1.551350</td>\n",
              "      <td>0.497090</td>\n",
              "      <td>-3.208986</td>\n",
              "      <td>-3.191259</td>\n",
              "      <td>-6.957482</td>\n",
              "      <td>-4.317121</td>\n",
              "      <td>-8.174199</td>\n",
              "      <td>-8.017358</td>\n",
              "      <td>-8.820094</td>\n",
              "      <td>-4.907777</td>\n",
              "      <td>0.953874</td>\n",
              "      <td>-5.642965</td>\n",
              "      <td>-6.673833</td>\n",
              "      <td>0.132975</td>\n",
              "      <td>-1.569756</td>\n",
              "      <td>-2.672117</td>\n",
              "      <td>1.136885</td>\n",
              "      <td>1.789965</td>\n",
              "      <td>0.696404</td>\n",
              "      <td>-3.097572</td>\n",
              "      <td>-3.119709</td>\n",
              "      <td>-0.692985</td>\n",
              "      <td>1.691194</td>\n",
              "      <td>-0.157745</td>\n",
              "    </tr>\n",
              "    <tr>\n",
              "      <th>1</th>\n",
              "      <td>-599.786682</td>\n",
              "      <td>137.321960</td>\n",
              "      <td>-5.459307</td>\n",
              "      <td>-11.624510</td>\n",
              "      <td>24.622503</td>\n",
              "      <td>21.012672</td>\n",
              "      <td>29.381935</td>\n",
              "      <td>-15.533507</td>\n",
              "      <td>-0.495888</td>\n",
              "      <td>-8.370393</td>\n",
              "      <td>18.718655</td>\n",
              "      <td>15.138190</td>\n",
              "      <td>4.425621</td>\n",
              "      <td>0.053781</td>\n",
              "      <td>-0.247031</td>\n",
              "      <td>-1.215305</td>\n",
              "      <td>3.309223</td>\n",
              "      <td>5.657512</td>\n",
              "      <td>-1.730671</td>\n",
              "      <td>-3.779717</td>\n",
              "      <td>-2.899338</td>\n",
              "      <td>0.941837</td>\n",
              "      <td>-3.473776</td>\n",
              "      <td>-0.970591</td>\n",
              "      <td>1.880981</td>\n",
              "      <td>-0.514503</td>\n",
              "      <td>-0.810522</td>\n",
              "      <td>-2.814707</td>\n",
              "      <td>1.072627</td>\n",
              "      <td>1.263512</td>\n",
              "      <td>-0.552881</td>\n",
              "      <td>-0.026237</td>\n",
              "      <td>-1.502730</td>\n",
              "      <td>-0.506875</td>\n",
              "      <td>1.475152</td>\n",
              "      <td>0.317635</td>\n",
              "      <td>1.163506</td>\n",
              "      <td>0.248639</td>\n",
              "      <td>-0.851648</td>\n",
              "      <td>1.320381</td>\n",
              "    </tr>\n",
              "    <tr>\n",
              "      <th>2</th>\n",
              "      <td>-597.953430</td>\n",
              "      <td>106.798576</td>\n",
              "      <td>23.308565</td>\n",
              "      <td>37.959019</td>\n",
              "      <td>14.530394</td>\n",
              "      <td>16.379007</td>\n",
              "      <td>4.477546</td>\n",
              "      <td>-9.895967</td>\n",
              "      <td>11.887319</td>\n",
              "      <td>-20.472775</td>\n",
              "      <td>-25.567598</td>\n",
              "      <td>-6.359756</td>\n",
              "      <td>2.120179</td>\n",
              "      <td>-6.981861</td>\n",
              "      <td>-1.373827</td>\n",
              "      <td>-1.205510</td>\n",
              "      <td>-1.672462</td>\n",
              "      <td>-7.057589</td>\n",
              "      <td>-11.990426</td>\n",
              "      <td>-1.030135</td>\n",
              "      <td>1.383218</td>\n",
              "      <td>-2.377877</td>\n",
              "      <td>-5.252954</td>\n",
              "      <td>-6.973200</td>\n",
              "      <td>-3.763956</td>\n",
              "      <td>-7.736864</td>\n",
              "      <td>-0.469290</td>\n",
              "      <td>1.043386</td>\n",
              "      <td>-9.746729</td>\n",
              "      <td>3.324018</td>\n",
              "      <td>-2.493792</td>\n",
              "      <td>-5.856855</td>\n",
              "      <td>7.989238</td>\n",
              "      <td>0.981793</td>\n",
              "      <td>1.887598</td>\n",
              "      <td>10.362411</td>\n",
              "      <td>4.502498</td>\n",
              "      <td>3.938474</td>\n",
              "      <td>8.756151</td>\n",
              "      <td>12.343248</td>\n",
              "    </tr>\n",
              "    <tr>\n",
              "      <th>3</th>\n",
              "      <td>-675.847778</td>\n",
              "      <td>61.249920</td>\n",
              "      <td>-9.261105</td>\n",
              "      <td>-9.029731</td>\n",
              "      <td>22.311211</td>\n",
              "      <td>28.108967</td>\n",
              "      <td>15.138248</td>\n",
              "      <td>-13.099102</td>\n",
              "      <td>-6.795393</td>\n",
              "      <td>-3.643256</td>\n",
              "      <td>13.227169</td>\n",
              "      <td>12.044265</td>\n",
              "      <td>5.139194</td>\n",
              "      <td>3.461109</td>\n",
              "      <td>2.844809</td>\n",
              "      <td>5.763164</td>\n",
              "      <td>10.348549</td>\n",
              "      <td>4.837348</td>\n",
              "      <td>8.073152</td>\n",
              "      <td>7.273701</td>\n",
              "      <td>6.345839</td>\n",
              "      <td>3.793946</td>\n",
              "      <td>3.600794</td>\n",
              "      <td>6.369759</td>\n",
              "      <td>4.165672</td>\n",
              "      <td>3.217930</td>\n",
              "      <td>3.580792</td>\n",
              "      <td>4.580967</td>\n",
              "      <td>3.395434</td>\n",
              "      <td>4.534713</td>\n",
              "      <td>1.238185</td>\n",
              "      <td>1.537934</td>\n",
              "      <td>2.962723</td>\n",
              "      <td>4.207952</td>\n",
              "      <td>4.099204</td>\n",
              "      <td>0.868225</td>\n",
              "      <td>0.751816</td>\n",
              "      <td>2.365131</td>\n",
              "      <td>5.584699</td>\n",
              "      <td>4.917990</td>\n",
              "    </tr>\n",
              "    <tr>\n",
              "      <th>4</th>\n",
              "      <td>-344.506531</td>\n",
              "      <td>160.974182</td>\n",
              "      <td>20.738245</td>\n",
              "      <td>0.570275</td>\n",
              "      <td>-1.720078</td>\n",
              "      <td>2.632355</td>\n",
              "      <td>-5.640784</td>\n",
              "      <td>10.244653</td>\n",
              "      <td>2.092454</td>\n",
              "      <td>-14.618852</td>\n",
              "      <td>-10.703465</td>\n",
              "      <td>8.742620</td>\n",
              "      <td>-1.644900</td>\n",
              "      <td>4.820880</td>\n",
              "      <td>5.033715</td>\n",
              "      <td>-8.222275</td>\n",
              "      <td>-7.560361</td>\n",
              "      <td>-11.792583</td>\n",
              "      <td>-0.525156</td>\n",
              "      <td>-2.851954</td>\n",
              "      <td>-3.382459</td>\n",
              "      <td>-4.671748</td>\n",
              "      <td>-6.026375</td>\n",
              "      <td>-0.732824</td>\n",
              "      <td>-5.459595</td>\n",
              "      <td>-0.968421</td>\n",
              "      <td>3.152836</td>\n",
              "      <td>-2.196889</td>\n",
              "      <td>-1.040878</td>\n",
              "      <td>-0.744519</td>\n",
              "      <td>-3.823862</td>\n",
              "      <td>-4.627502</td>\n",
              "      <td>-2.071388</td>\n",
              "      <td>-2.927394</td>\n",
              "      <td>-5.760420</td>\n",
              "      <td>-4.776157</td>\n",
              "      <td>-2.306746</td>\n",
              "      <td>0.575830</td>\n",
              "      <td>-4.900225</td>\n",
              "      <td>-0.422173</td>\n",
              "    </tr>\n",
              "  </tbody>\n",
              "</table>\n",
              "</div>"
            ],
            "text/plain": [
              "           0           1          2   ...        37        38         39\n",
              "0 -566.630127  183.214447  38.114697  ... -0.692985  1.691194  -0.157745\n",
              "1 -599.786682  137.321960  -5.459307  ...  0.248639 -0.851648   1.320381\n",
              "2 -597.953430  106.798576  23.308565  ...  3.938474  8.756151  12.343248\n",
              "3 -675.847778   61.249920  -9.261105  ...  2.365131  5.584699   4.917990\n",
              "4 -344.506531  160.974182  20.738245  ...  0.575830 -4.900225  -0.422173\n",
              "\n",
              "[5 rows x 40 columns]"
            ]
          },
          "metadata": {},
          "execution_count": 65
        }
      ]
    },
    {
      "cell_type": "markdown",
      "source": [
        "Check the shape of `y_frozen` and display some items of it."
      ],
      "metadata": {
        "id": "6kpZuwoGFQDl"
      }
    },
    {
      "cell_type": "code",
      "source": [
        "print('shape of y_frozen: ', y_frozen.shape)\n",
        "display(y_frozen[0:5])"
      ],
      "metadata": {
        "colab": {
          "base_uri": "https://localhost:8080/",
          "height": 52
        },
        "outputId": "002a8858-6af9-485f-ab38-b760c2485061",
        "id": "X-79kw38FQDm"
      },
      "execution_count": null,
      "outputs": [
        {
          "output_type": "stream",
          "name": "stdout",
          "text": [
            "shape of y_frozen:  (410,)\n"
          ]
        },
        {
          "output_type": "display_data",
          "data": {
            "text/plain": [
              "array([7, 7, 7, 7, 7])"
            ]
          },
          "metadata": {}
        }
      ]
    },
    {
      "cell_type": "markdown",
      "source": [
        "Convert `y_frozen` to Pandas DataFrame."
      ],
      "metadata": {
        "id": "Zs4tVjq2FQDm"
      }
    },
    {
      "cell_type": "code",
      "source": [
        "y_frozen_df=pd.DataFrame(y_frozen, columns=['label'])\n",
        "y_frozen_df.head()"
      ],
      "metadata": {
        "colab": {
          "base_uri": "https://localhost:8080/",
          "height": 206
        },
        "outputId": "9ad78e01-60da-40c2-bc1b-f49a323f1af6",
        "id": "NmESewCFFQDm"
      },
      "execution_count": null,
      "outputs": [
        {
          "output_type": "execute_result",
          "data": {
            "text/html": [
              "<div>\n",
              "<style scoped>\n",
              "    .dataframe tbody tr th:only-of-type {\n",
              "        vertical-align: middle;\n",
              "    }\n",
              "\n",
              "    .dataframe tbody tr th {\n",
              "        vertical-align: top;\n",
              "    }\n",
              "\n",
              "    .dataframe thead th {\n",
              "        text-align: right;\n",
              "    }\n",
              "</style>\n",
              "<table border=\"1\" class=\"dataframe\">\n",
              "  <thead>\n",
              "    <tr style=\"text-align: right;\">\n",
              "      <th></th>\n",
              "      <th>label</th>\n",
              "    </tr>\n",
              "  </thead>\n",
              "  <tbody>\n",
              "    <tr>\n",
              "      <th>0</th>\n",
              "      <td>7</td>\n",
              "    </tr>\n",
              "    <tr>\n",
              "      <th>1</th>\n",
              "      <td>7</td>\n",
              "    </tr>\n",
              "    <tr>\n",
              "      <th>2</th>\n",
              "      <td>7</td>\n",
              "    </tr>\n",
              "    <tr>\n",
              "      <th>3</th>\n",
              "      <td>7</td>\n",
              "    </tr>\n",
              "    <tr>\n",
              "      <th>4</th>\n",
              "      <td>7</td>\n",
              "    </tr>\n",
              "  </tbody>\n",
              "</table>\n",
              "</div>"
            ],
            "text/plain": [
              "   label\n",
              "0      7\n",
              "1      7\n",
              "2      7\n",
              "3      7\n",
              "4      7"
            ]
          },
          "metadata": {},
          "execution_count": 67
        }
      ]
    },
    {
      "cell_type": "markdown",
      "source": [
        "## Concatenate features and labels\n",
        "Concatenate features data of Potter and StarWars, and their labels."
      ],
      "metadata": {
        "id": "iLVxYAGc5DVP"
      }
    },
    {
      "cell_type": "code",
      "source": [
        "X_all_df = pd.concat([X_potter_df, X_starwar_df,\n",
        "                      X_panther_df, X_rain_df, X_hakuna_df,\n",
        "                      X_mamma_df, X_showman_df, X_frozen_df],\n",
        "                     axis=0, ignore_index=True)\n",
        "print('shape of X_all_df: ', X_all_df.shape)\n",
        "X_all_df[409:415]"
      ],
      "metadata": {
        "colab": {
          "base_uri": "https://localhost:8080/",
          "height": 274
        },
        "id": "_N09WRHf5zOi",
        "outputId": "1357ae5c-e073-4229-c892-529992f29fc3"
      },
      "execution_count": null,
      "outputs": [
        {
          "output_type": "stream",
          "name": "stdout",
          "text": [
            "shape of X_all_df:  (3294, 40)\n"
          ]
        },
        {
          "output_type": "execute_result",
          "data": {
            "text/html": [
              "<div>\n",
              "<style scoped>\n",
              "    .dataframe tbody tr th:only-of-type {\n",
              "        vertical-align: middle;\n",
              "    }\n",
              "\n",
              "    .dataframe tbody tr th {\n",
              "        vertical-align: top;\n",
              "    }\n",
              "\n",
              "    .dataframe thead th {\n",
              "        text-align: right;\n",
              "    }\n",
              "</style>\n",
              "<table border=\"1\" class=\"dataframe\">\n",
              "  <thead>\n",
              "    <tr style=\"text-align: right;\">\n",
              "      <th></th>\n",
              "      <th>0</th>\n",
              "      <th>1</th>\n",
              "      <th>2</th>\n",
              "      <th>3</th>\n",
              "      <th>4</th>\n",
              "      <th>5</th>\n",
              "      <th>6</th>\n",
              "      <th>7</th>\n",
              "      <th>8</th>\n",
              "      <th>9</th>\n",
              "      <th>10</th>\n",
              "      <th>11</th>\n",
              "      <th>12</th>\n",
              "      <th>13</th>\n",
              "      <th>14</th>\n",
              "      <th>15</th>\n",
              "      <th>16</th>\n",
              "      <th>17</th>\n",
              "      <th>18</th>\n",
              "      <th>19</th>\n",
              "      <th>20</th>\n",
              "      <th>21</th>\n",
              "      <th>22</th>\n",
              "      <th>23</th>\n",
              "      <th>24</th>\n",
              "      <th>25</th>\n",
              "      <th>26</th>\n",
              "      <th>27</th>\n",
              "      <th>28</th>\n",
              "      <th>29</th>\n",
              "      <th>30</th>\n",
              "      <th>31</th>\n",
              "      <th>32</th>\n",
              "      <th>33</th>\n",
              "      <th>34</th>\n",
              "      <th>35</th>\n",
              "      <th>36</th>\n",
              "      <th>37</th>\n",
              "      <th>38</th>\n",
              "      <th>39</th>\n",
              "    </tr>\n",
              "  </thead>\n",
              "  <tbody>\n",
              "    <tr>\n",
              "      <th>409</th>\n",
              "      <td>-505.121399</td>\n",
              "      <td>106.286385</td>\n",
              "      <td>65.701172</td>\n",
              "      <td>39.146816</td>\n",
              "      <td>33.144356</td>\n",
              "      <td>32.141479</td>\n",
              "      <td>22.161907</td>\n",
              "      <td>5.410016</td>\n",
              "      <td>-7.409410</td>\n",
              "      <td>-7.364269</td>\n",
              "      <td>2.045385</td>\n",
              "      <td>10.542979</td>\n",
              "      <td>9.000758</td>\n",
              "      <td>-0.628785</td>\n",
              "      <td>-7.957297</td>\n",
              "      <td>-7.283499</td>\n",
              "      <td>-3.821778</td>\n",
              "      <td>-4.488692</td>\n",
              "      <td>-6.555415</td>\n",
              "      <td>-5.598104</td>\n",
              "      <td>-2.972703</td>\n",
              "      <td>-2.388756</td>\n",
              "      <td>-2.177035</td>\n",
              "      <td>-0.665626</td>\n",
              "      <td>-0.430651</td>\n",
              "      <td>-3.370285</td>\n",
              "      <td>-6.678500</td>\n",
              "      <td>-5.849835</td>\n",
              "      <td>-2.043236</td>\n",
              "      <td>0.189860</td>\n",
              "      <td>-1.107081</td>\n",
              "      <td>-3.123980</td>\n",
              "      <td>-3.995692</td>\n",
              "      <td>-3.279050</td>\n",
              "      <td>-1.070825</td>\n",
              "      <td>1.420599</td>\n",
              "      <td>2.493868</td>\n",
              "      <td>1.433233</td>\n",
              "      <td>0.655586</td>\n",
              "      <td>1.385861</td>\n",
              "    </tr>\n",
              "    <tr>\n",
              "      <th>410</th>\n",
              "      <td>-510.252167</td>\n",
              "      <td>104.041649</td>\n",
              "      <td>47.853672</td>\n",
              "      <td>31.881836</td>\n",
              "      <td>25.965767</td>\n",
              "      <td>7.592874</td>\n",
              "      <td>2.963772</td>\n",
              "      <td>11.393150</td>\n",
              "      <td>10.805842</td>\n",
              "      <td>7.996090</td>\n",
              "      <td>10.533876</td>\n",
              "      <td>7.544964</td>\n",
              "      <td>0.525624</td>\n",
              "      <td>-2.799248</td>\n",
              "      <td>-6.268720</td>\n",
              "      <td>-7.022234</td>\n",
              "      <td>-0.419429</td>\n",
              "      <td>1.287879</td>\n",
              "      <td>-6.174531</td>\n",
              "      <td>-8.878509</td>\n",
              "      <td>-6.289004</td>\n",
              "      <td>-6.842598</td>\n",
              "      <td>-4.308674</td>\n",
              "      <td>1.806324</td>\n",
              "      <td>-1.307458</td>\n",
              "      <td>-8.500934</td>\n",
              "      <td>-4.865834</td>\n",
              "      <td>1.633939</td>\n",
              "      <td>-1.175830</td>\n",
              "      <td>-4.460098</td>\n",
              "      <td>-0.915559</td>\n",
              "      <td>1.382163</td>\n",
              "      <td>-0.560424</td>\n",
              "      <td>-0.993047</td>\n",
              "      <td>0.171495</td>\n",
              "      <td>0.047011</td>\n",
              "      <td>0.264836</td>\n",
              "      <td>1.936235</td>\n",
              "      <td>3.018204</td>\n",
              "      <td>2.552148</td>\n",
              "    </tr>\n",
              "    <tr>\n",
              "      <th>411</th>\n",
              "      <td>-551.671814</td>\n",
              "      <td>186.078415</td>\n",
              "      <td>24.750504</td>\n",
              "      <td>0.118921</td>\n",
              "      <td>19.549959</td>\n",
              "      <td>-9.476810</td>\n",
              "      <td>7.359761</td>\n",
              "      <td>8.188378</td>\n",
              "      <td>14.269634</td>\n",
              "      <td>-17.606617</td>\n",
              "      <td>-3.672383</td>\n",
              "      <td>3.163726</td>\n",
              "      <td>7.293727</td>\n",
              "      <td>3.628051</td>\n",
              "      <td>2.894598</td>\n",
              "      <td>-4.075535</td>\n",
              "      <td>-5.395344</td>\n",
              "      <td>-0.917197</td>\n",
              "      <td>1.857455</td>\n",
              "      <td>-8.060092</td>\n",
              "      <td>-7.290475</td>\n",
              "      <td>-0.332635</td>\n",
              "      <td>-7.391058</td>\n",
              "      <td>-4.827809</td>\n",
              "      <td>-6.770090</td>\n",
              "      <td>-4.345642</td>\n",
              "      <td>0.280955</td>\n",
              "      <td>-4.479471</td>\n",
              "      <td>-1.981407</td>\n",
              "      <td>2.530434</td>\n",
              "      <td>-1.283515</td>\n",
              "      <td>-1.253448</td>\n",
              "      <td>1.050092</td>\n",
              "      <td>-0.921627</td>\n",
              "      <td>-1.611274</td>\n",
              "      <td>-2.939813</td>\n",
              "      <td>-3.325281</td>\n",
              "      <td>-1.665028</td>\n",
              "      <td>0.998403</td>\n",
              "      <td>0.302152</td>\n",
              "    </tr>\n",
              "    <tr>\n",
              "      <th>412</th>\n",
              "      <td>-625.409851</td>\n",
              "      <td>124.406967</td>\n",
              "      <td>-2.864464</td>\n",
              "      <td>-6.833964</td>\n",
              "      <td>26.612850</td>\n",
              "      <td>7.459406</td>\n",
              "      <td>18.310774</td>\n",
              "      <td>-17.223562</td>\n",
              "      <td>5.544653</td>\n",
              "      <td>-4.479575</td>\n",
              "      <td>13.750098</td>\n",
              "      <td>6.413387</td>\n",
              "      <td>1.576377</td>\n",
              "      <td>0.379906</td>\n",
              "      <td>3.596662</td>\n",
              "      <td>1.478018</td>\n",
              "      <td>1.509076</td>\n",
              "      <td>9.181483</td>\n",
              "      <td>-0.377116</td>\n",
              "      <td>0.560643</td>\n",
              "      <td>-1.022555</td>\n",
              "      <td>-0.460599</td>\n",
              "      <td>3.022701</td>\n",
              "      <td>-1.992195</td>\n",
              "      <td>-1.479058</td>\n",
              "      <td>-0.163593</td>\n",
              "      <td>0.306376</td>\n",
              "      <td>1.875684</td>\n",
              "      <td>2.604237</td>\n",
              "      <td>-3.287473</td>\n",
              "      <td>-2.306627</td>\n",
              "      <td>3.463206</td>\n",
              "      <td>0.141299</td>\n",
              "      <td>0.712291</td>\n",
              "      <td>1.825953</td>\n",
              "      <td>-0.009359</td>\n",
              "      <td>0.806777</td>\n",
              "      <td>0.357042</td>\n",
              "      <td>2.288096</td>\n",
              "      <td>1.332845</td>\n",
              "    </tr>\n",
              "    <tr>\n",
              "      <th>413</th>\n",
              "      <td>-584.373962</td>\n",
              "      <td>130.607712</td>\n",
              "      <td>9.578016</td>\n",
              "      <td>30.866533</td>\n",
              "      <td>4.478142</td>\n",
              "      <td>7.943016</td>\n",
              "      <td>9.733388</td>\n",
              "      <td>-10.319694</td>\n",
              "      <td>20.498806</td>\n",
              "      <td>-15.968716</td>\n",
              "      <td>-17.983942</td>\n",
              "      <td>-14.689214</td>\n",
              "      <td>-1.640939</td>\n",
              "      <td>-3.153715</td>\n",
              "      <td>-1.884190</td>\n",
              "      <td>0.844808</td>\n",
              "      <td>2.489324</td>\n",
              "      <td>-3.038646</td>\n",
              "      <td>-8.144592</td>\n",
              "      <td>-5.900297</td>\n",
              "      <td>1.287056</td>\n",
              "      <td>2.462332</td>\n",
              "      <td>-5.164399</td>\n",
              "      <td>-1.242499</td>\n",
              "      <td>-0.597268</td>\n",
              "      <td>-3.631040</td>\n",
              "      <td>5.189296</td>\n",
              "      <td>3.183764</td>\n",
              "      <td>2.257322</td>\n",
              "      <td>9.814304</td>\n",
              "      <td>0.703836</td>\n",
              "      <td>2.553284</td>\n",
              "      <td>6.731316</td>\n",
              "      <td>-0.517106</td>\n",
              "      <td>2.396914</td>\n",
              "      <td>4.326029</td>\n",
              "      <td>3.678000</td>\n",
              "      <td>2.146780</td>\n",
              "      <td>1.756122</td>\n",
              "      <td>5.131932</td>\n",
              "    </tr>\n",
              "    <tr>\n",
              "      <th>414</th>\n",
              "      <td>-682.921753</td>\n",
              "      <td>65.219688</td>\n",
              "      <td>-18.036055</td>\n",
              "      <td>-6.114809</td>\n",
              "      <td>19.103100</td>\n",
              "      <td>28.034159</td>\n",
              "      <td>19.560919</td>\n",
              "      <td>-6.353008</td>\n",
              "      <td>4.174465</td>\n",
              "      <td>-8.950364</td>\n",
              "      <td>13.478917</td>\n",
              "      <td>3.657822</td>\n",
              "      <td>8.988890</td>\n",
              "      <td>3.859240</td>\n",
              "      <td>3.563860</td>\n",
              "      <td>5.892817</td>\n",
              "      <td>5.257292</td>\n",
              "      <td>5.692070</td>\n",
              "      <td>6.685111</td>\n",
              "      <td>5.790313</td>\n",
              "      <td>6.024724</td>\n",
              "      <td>6.260566</td>\n",
              "      <td>3.947481</td>\n",
              "      <td>6.388127</td>\n",
              "      <td>2.603546</td>\n",
              "      <td>1.986008</td>\n",
              "      <td>3.454039</td>\n",
              "      <td>1.978676</td>\n",
              "      <td>3.590901</td>\n",
              "      <td>3.040340</td>\n",
              "      <td>1.245274</td>\n",
              "      <td>1.597870</td>\n",
              "      <td>1.321995</td>\n",
              "      <td>3.228569</td>\n",
              "      <td>4.172474</td>\n",
              "      <td>2.650764</td>\n",
              "      <td>2.097647</td>\n",
              "      <td>0.420079</td>\n",
              "      <td>2.451832</td>\n",
              "      <td>3.625365</td>\n",
              "    </tr>\n",
              "  </tbody>\n",
              "</table>\n",
              "</div>"
            ],
            "text/plain": [
              "             0           1          2   ...        37        38        39\n",
              "409 -505.121399  106.286385  65.701172  ...  1.433233  0.655586  1.385861\n",
              "410 -510.252167  104.041649  47.853672  ...  1.936235  3.018204  2.552148\n",
              "411 -551.671814  186.078415  24.750504  ... -1.665028  0.998403  0.302152\n",
              "412 -625.409851  124.406967  -2.864464  ...  0.357042  2.288096  1.332845\n",
              "413 -584.373962  130.607712   9.578016  ...  2.146780  1.756122  5.131932\n",
              "414 -682.921753   65.219688 -18.036055  ...  0.420079  2.451832  3.625365\n",
              "\n",
              "[6 rows x 40 columns]"
            ]
          },
          "metadata": {},
          "execution_count": 93
        }
      ]
    },
    {
      "cell_type": "code",
      "source": [
        "y_all_df = pd.concat([y_potter_df, y_starwar_df,\n",
        "                      y_panther_df, y_rain_df, y_hakuna_df,\n",
        "                      y_mamma_df, y_showman_df, y_frozen_df],\n",
        "                     axis=0, ignore_index=True)\n",
        "print('shape of y_all_df: ', y_all_df.shape)\n",
        "print('some rows of y_all_df: ')\n",
        "display(y_all_df[409:415])"
      ],
      "metadata": {
        "colab": {
          "base_uri": "https://localhost:8080/",
          "height": 272
        },
        "id": "vC0bQsBu63AA",
        "outputId": "5cb39a84-7d4d-4337-bf0e-f2ba15998daa"
      },
      "execution_count": null,
      "outputs": [
        {
          "output_type": "stream",
          "name": "stdout",
          "text": [
            "shape of y_all_df:  (3294, 1)\n",
            "some rows of y_all_df: \n"
          ]
        },
        {
          "output_type": "display_data",
          "data": {
            "text/html": [
              "<div>\n",
              "<style scoped>\n",
              "    .dataframe tbody tr th:only-of-type {\n",
              "        vertical-align: middle;\n",
              "    }\n",
              "\n",
              "    .dataframe tbody tr th {\n",
              "        vertical-align: top;\n",
              "    }\n",
              "\n",
              "    .dataframe thead th {\n",
              "        text-align: right;\n",
              "    }\n",
              "</style>\n",
              "<table border=\"1\" class=\"dataframe\">\n",
              "  <thead>\n",
              "    <tr style=\"text-align: right;\">\n",
              "      <th></th>\n",
              "      <th>label</th>\n",
              "    </tr>\n",
              "  </thead>\n",
              "  <tbody>\n",
              "    <tr>\n",
              "      <th>409</th>\n",
              "      <td>0</td>\n",
              "    </tr>\n",
              "    <tr>\n",
              "      <th>410</th>\n",
              "      <td>0</td>\n",
              "    </tr>\n",
              "    <tr>\n",
              "      <th>411</th>\n",
              "      <td>1</td>\n",
              "    </tr>\n",
              "    <tr>\n",
              "      <th>412</th>\n",
              "      <td>1</td>\n",
              "    </tr>\n",
              "    <tr>\n",
              "      <th>413</th>\n",
              "      <td>1</td>\n",
              "    </tr>\n",
              "    <tr>\n",
              "      <th>414</th>\n",
              "      <td>1</td>\n",
              "    </tr>\n",
              "  </tbody>\n",
              "</table>\n",
              "</div>"
            ],
            "text/plain": [
              "     label\n",
              "409      0\n",
              "410      0\n",
              "411      1\n",
              "412      1\n",
              "413      1\n",
              "414      1"
            ]
          },
          "metadata": {}
        }
      ]
    },
    {
      "cell_type": "markdown",
      "source": [
        "Download the data so we do not have to generate them every time we open the notebook."
      ],
      "metadata": {
        "id": "NaBWHkV-QF1Y"
      }
    },
    {
      "cell_type": "code",
      "source": [
        "from google.colab import files\n",
        "X_all_df.to_csv('X_all_df.csv')\n",
        "files.download('X_all_df.csv')"
      ],
      "metadata": {
        "colab": {
          "base_uri": "https://localhost:8080/",
          "height": 17
        },
        "id": "vcB6VU6NEq13",
        "outputId": "8696f952-8c13-4027-cbfe-3ac3a2565d52"
      },
      "execution_count": null,
      "outputs": [
        {
          "output_type": "display_data",
          "data": {
            "application/javascript": [
              "\n",
              "    async function download(id, filename, size) {\n",
              "      if (!google.colab.kernel.accessAllowed) {\n",
              "        return;\n",
              "      }\n",
              "      const div = document.createElement('div');\n",
              "      const label = document.createElement('label');\n",
              "      label.textContent = `Downloading \"${filename}\": `;\n",
              "      div.appendChild(label);\n",
              "      const progress = document.createElement('progress');\n",
              "      progress.max = size;\n",
              "      div.appendChild(progress);\n",
              "      document.body.appendChild(div);\n",
              "\n",
              "      const buffers = [];\n",
              "      let downloaded = 0;\n",
              "\n",
              "      const channel = await google.colab.kernel.comms.open(id);\n",
              "      // Send a message to notify the kernel that we're ready.\n",
              "      channel.send({})\n",
              "\n",
              "      for await (const message of channel.messages) {\n",
              "        // Send a message to notify the kernel that we're ready.\n",
              "        channel.send({})\n",
              "        if (message.buffers) {\n",
              "          for (const buffer of message.buffers) {\n",
              "            buffers.push(buffer);\n",
              "            downloaded += buffer.byteLength;\n",
              "            progress.value = downloaded;\n",
              "          }\n",
              "        }\n",
              "      }\n",
              "      const blob = new Blob(buffers, {type: 'application/binary'});\n",
              "      const a = document.createElement('a');\n",
              "      a.href = window.URL.createObjectURL(blob);\n",
              "      a.download = filename;\n",
              "      div.appendChild(a);\n",
              "      a.click();\n",
              "      div.remove();\n",
              "    }\n",
              "  "
            ],
            "text/plain": [
              "<IPython.core.display.Javascript object>"
            ]
          },
          "metadata": {}
        },
        {
          "output_type": "display_data",
          "data": {
            "application/javascript": [
              "download(\"download_2988b73f-b878-4648-abfe-e45497b9bac2\", \"X_all_df.csv\", 1380692)"
            ],
            "text/plain": [
              "<IPython.core.display.Javascript object>"
            ]
          },
          "metadata": {}
        }
      ]
    },
    {
      "cell_type": "code",
      "source": [
        "from google.colab import files\n",
        "y_all_df.to_csv('y_all_df.csv')\n",
        "files.download('y_all_df.csv')"
      ],
      "metadata": {
        "colab": {
          "base_uri": "https://localhost:8080/",
          "height": 17
        },
        "id": "u9P0hMA5E1r5",
        "outputId": "09a204c0-e9da-45b8-df6b-baf9980ddd8f"
      },
      "execution_count": null,
      "outputs": [
        {
          "output_type": "display_data",
          "data": {
            "application/javascript": [
              "\n",
              "    async function download(id, filename, size) {\n",
              "      if (!google.colab.kernel.accessAllowed) {\n",
              "        return;\n",
              "      }\n",
              "      const div = document.createElement('div');\n",
              "      const label = document.createElement('label');\n",
              "      label.textContent = `Downloading \"${filename}\": `;\n",
              "      div.appendChild(label);\n",
              "      const progress = document.createElement('progress');\n",
              "      progress.max = size;\n",
              "      div.appendChild(progress);\n",
              "      document.body.appendChild(div);\n",
              "\n",
              "      const buffers = [];\n",
              "      let downloaded = 0;\n",
              "\n",
              "      const channel = await google.colab.kernel.comms.open(id);\n",
              "      // Send a message to notify the kernel that we're ready.\n",
              "      channel.send({})\n",
              "\n",
              "      for await (const message of channel.messages) {\n",
              "        // Send a message to notify the kernel that we're ready.\n",
              "        channel.send({})\n",
              "        if (message.buffers) {\n",
              "          for (const buffer of message.buffers) {\n",
              "            buffers.push(buffer);\n",
              "            downloaded += buffer.byteLength;\n",
              "            progress.value = downloaded;\n",
              "          }\n",
              "        }\n",
              "      }\n",
              "      const blob = new Blob(buffers, {type: 'application/binary'});\n",
              "      const a = document.createElement('a');\n",
              "      a.href = window.URL.createObjectURL(blob);\n",
              "      a.download = filename;\n",
              "      div.appendChild(a);\n",
              "      a.click();\n",
              "      div.remove();\n",
              "    }\n",
              "  "
            ],
            "text/plain": [
              "<IPython.core.display.Javascript object>"
            ]
          },
          "metadata": {}
        },
        {
          "output_type": "display_data",
          "data": {
            "application/javascript": [
              "download(\"download_5988ae86-3d02-4b4a-a6d9-4196a2625f14\", \"y_all_df.csv\", 21955)"
            ],
            "text/plain": [
              "<IPython.core.display.Javascript object>"
            ]
          },
          "metadata": {}
        }
      ]
    },
    {
      "cell_type": "markdown",
      "source": [
        "## Load data from GitHub\n",
        "When we open the notebook again, we can directly load data from GitHub."
      ],
      "metadata": {
        "id": "y_MZs1GMDL0B"
      }
    },
    {
      "cell_type": "code",
      "source": [
        "import pandas as pd\n",
        "import numpy as np\n",
        "\n",
        "X_all_df = pd.read_csv('https://raw.githubusercontent.com/YLiu95/ml/main/X_all_df.csv')\n",
        "X_all_df = X_all_df.drop(columns=['Unnamed: 0'])\n",
        "X_all_df.shape"
      ],
      "metadata": {
        "colab": {
          "base_uri": "https://localhost:8080/"
        },
        "id": "X5GOdylLDPaC",
        "outputId": "ad05ac47-23b6-4d47-a490-a6632758679f"
      },
      "execution_count": null,
      "outputs": [
        {
          "output_type": "execute_result",
          "data": {
            "text/plain": [
              "(3294, 40)"
            ]
          },
          "metadata": {},
          "execution_count": 1
        }
      ]
    },
    {
      "cell_type": "code",
      "source": [
        "y_all_df = pd.read_csv('https://raw.githubusercontent.com/YLiu95/ml/main/y_all_df.csv')\n",
        "y_all_df = y_all_df.drop(columns=['Unnamed: 0'])\n",
        "y_all_df.shape"
      ],
      "metadata": {
        "colab": {
          "base_uri": "https://localhost:8080/"
        },
        "id": "9ndOXkMQDnjG",
        "outputId": "69ee5a40-6fef-4a82-9718-633ce26d6efd"
      },
      "execution_count": null,
      "outputs": [
        {
          "output_type": "execute_result",
          "data": {
            "text/plain": [
              "(3294, 1)"
            ]
          },
          "metadata": {},
          "execution_count": 2
        }
      ]
    },
    {
      "cell_type": "markdown",
      "source": [
        "Conver data to numpy arrays."
      ],
      "metadata": {
        "id": "UKksqdTwQkxZ"
      }
    },
    {
      "cell_type": "code",
      "source": [
        "X_all = X_all_df.to_numpy()\n",
        "print('shape of X_all: ', X_all.shape)\n",
        "X_all[3293]"
      ],
      "metadata": {
        "colab": {
          "base_uri": "https://localhost:8080/"
        },
        "id": "yHkbX1FDEJ6g",
        "outputId": "eabd5f62-293a-4543-dd1b-d64f4984bfce"
      },
      "execution_count": null,
      "outputs": [
        {
          "output_type": "stream",
          "name": "stdout",
          "text": [
            "shape of X_all:  (3294, 40)\n"
          ]
        },
        {
          "output_type": "execute_result",
          "data": {
            "text/plain": [
              "array([-5.0224017e+02,  4.4923890e+01, -7.8823643e+00, -3.5604282e+01,\n",
              "       -2.8410471e+01, -6.3712454e+00,  1.0801268e+01,  1.3854952e+01,\n",
              "        3.7563257e+00, -7.6164180e+00, -1.2754961e+01, -1.0874611e+01,\n",
              "       -6.6182130e+00, -9.9498180e-01,  2.0335622e+00,  1.7087756e+00,\n",
              "        6.6100220e-01,  1.3804545e+00,  2.4133930e+00,  2.3119419e+00,\n",
              "        7.3604310e-01, -2.5033757e-01, -4.2340666e-01, -6.2936760e-01,\n",
              "       -5.7057630e-01,  4.9833003e-02,  3.8543963e-01, -3.5272630e-01,\n",
              "       -9.2675280e-01, -6.2361670e-01, -2.7665704e-02, -4.2708594e-02,\n",
              "       -4.0611854e-01, -2.4647048e-01,  4.0433240e-01,  9.4789934e-01,\n",
              "        1.1608564e+00,  3.9655530e-01, -5.2729640e-01, -8.9479780e-01])"
            ]
          },
          "metadata": {},
          "execution_count": 3
        }
      ]
    },
    {
      "cell_type": "code",
      "source": [
        "y_all = y_all_df.to_numpy()\n",
        "y_all = y_all.ravel()\n",
        "y_all = np.array(pd.get_dummies(y_all))\n",
        "print('shape of y_all: ', y_all.shape)\n",
        "print('some rows of y_all: ')\n",
        "y_all[409:413]"
      ],
      "metadata": {
        "colab": {
          "base_uri": "https://localhost:8080/"
        },
        "id": "_1ZSus0nEMm5",
        "outputId": "90ff6a7b-50e0-4f0f-b183-90789930ce1b"
      },
      "execution_count": null,
      "outputs": [
        {
          "output_type": "stream",
          "name": "stdout",
          "text": [
            "shape of y_all:  (3294, 8)\n",
            "some rows of y_all: \n"
          ]
        },
        {
          "output_type": "execute_result",
          "data": {
            "text/plain": [
              "array([[1, 0, 0, 0, 0, 0, 0, 0],\n",
              "       [1, 0, 0, 0, 0, 0, 0, 0],\n",
              "       [0, 1, 0, 0, 0, 0, 0, 0],\n",
              "       [0, 1, 0, 0, 0, 0, 0, 0]], dtype=uint8)"
            ]
          },
          "metadata": {},
          "execution_count": 4
        }
      ]
    },
    {
      "cell_type": "markdown",
      "source": [
        "## Visualise the data"
      ],
      "metadata": {
        "id": "m-5Z2WQBMbjQ"
      }
    },
    {
      "cell_type": "markdown",
      "source": [
        "Since we cannot see 40 dimensions, we use principle component analysis to reduce the dimensionality and visualise the data."
      ],
      "metadata": {
        "id": "iXNBVoF-QpHs"
      }
    },
    {
      "cell_type": "code",
      "source": [
        "from sklearn.decomposition import PCA\n",
        "from sklearn import preprocessing\n",
        "\n",
        "scaled_X = preprocessing.scale(X_all_df)\n",
        "pca = PCA(n_components=2)\n",
        "pca.fit(scaled_X)\n",
        "projected_X = pca.transform(scaled_X)\n",
        "per_var = np.round(pca.explained_variance_ratio_* 100, decimals=2)\n",
        "\n",
        "print('shape of projected_X: ', projected_X.shape)\n",
        "print('explained variance ratio of principle component 1 (PC1): ', per_var[0],'%')\n",
        "print('explained variance ratio of principle component 2 (PC2): ', per_var[1],'%')\n",
        "plt.figure(figsize=(8,6))\n",
        "plt.scatter(projected_X[:,0], projected_X[:,1], c=y_all_df.to_numpy().ravel())\n",
        "plt.title('PC1 and PC2 generated from X_df')\n",
        "plt.xlabel('PC1 - 20.94 %')\n",
        "plt.ylabel('PC2 - 11.79 %')"
      ],
      "metadata": {
        "colab": {
          "base_uri": "https://localhost:8080/",
          "height": 562
        },
        "id": "OILYMaUbMfpa",
        "outputId": "6de2bf77-f699-44d1-c7a0-03988da72f10"
      },
      "execution_count": null,
      "outputs": [
        {
          "output_type": "stream",
          "name": "stdout",
          "text": [
            "shape of projected_X:  (3294, 2)\n",
            "explained variance ratio of principle component 1 (PC1):  20.94 %\n",
            "explained variance ratio of principle component 2 (PC2):  11.79 %\n"
          ]
        },
        {
          "output_type": "stream",
          "name": "stderr",
          "text": [
            "/usr/local/lib/python3.7/dist-packages/sklearn/preprocessing/_data.py:236: UserWarning: Numerical issues were encountered when centering the data and might not be solved. Dataset may contain too large values. You may need to prescale your features.\n",
            "  \"Numerical issues were encountered \"\n",
            "/usr/local/lib/python3.7/dist-packages/sklearn/preprocessing/_data.py:255: UserWarning: Numerical issues were encountered when scaling the data and might not be solved. The standard deviation of the data is probably very close to 0. \n",
            "  \"Numerical issues were encountered \"\n"
          ]
        },
        {
          "output_type": "execute_result",
          "data": {
            "text/plain": [
              "Text(0, 0.5, 'PC2 - 11.79 %')"
            ]
          },
          "metadata": {},
          "execution_count": 106
        },
        {
          "output_type": "display_data",
          "data": {
            "image/png": "[encoded data removed]",
            "text/plain": [
              "<Figure size 576x432 with 1 Axes>"
            ]
          },
          "metadata": {
            "needs_background": "light"
          }
        }
      ]
    },
    {
      "cell_type": "markdown",
      "source": [
        "From the plot, we can see data points of the two classes overlap.\n",
        "- We will see if the deep learning model can achieve a high accuracy predicting the eight classes."
      ],
      "metadata": {
        "id": "GVC23KoqRR_H"
      }
    },
    {
      "cell_type": "markdown",
      "source": [
        "We will also visualise the features extracted using one Hakuna sample and one Panther sample."
      ],
      "metadata": {
        "id": "Ra5DgcqcSHnb"
      }
    },
    {
      "cell_type": "code",
      "source": [
        "import librosa.display\n",
        "\n",
        "audio_file = \"/content/drive/MyDrive/Data/MLEndHW/hakuna/S1_hum_2_Hakuna.wav\"\n",
        "ipd.Audio(audio_file)\n",
        "\n",
        "# load audio files with librosa\n",
        "signal, sr = librosa.load(audio_file)\n",
        "\n",
        "mfccs = librosa.feature.mfcc(y=signal, n_mfcc=40, sr=sr)\n",
        "\n",
        "plt.figure(figsize=(14, 5))\n",
        "librosa.display.specshow(mfccs,\n",
        "                         x_axis=\"time\",\n",
        "                         sr=sr)\n",
        "plt.colorbar(format=\"%+2.f\")\n",
        "plt.show()"
      ],
      "metadata": {
        "colab": {
          "base_uri": "https://localhost:8080/",
          "height": 336
        },
        "id": "bpavFFWFOjTD",
        "outputId": "bd577529-5ac8-4662-8c19-6660cc1cd4bc"
      },
      "execution_count": null,
      "outputs": [
        {
          "output_type": "display_data",
          "data": {
            "image/png": "[encoded data removed]",
            "text/plain": [
              "<Figure size 1008x360 with 2 Axes>"
            ]
          },
          "metadata": {
            "needs_background": "light"
          }
        }
      ]
    },
    {
      "cell_type": "code",
      "source": [
        "audio_file = \"/content/drive/MyDrive/Data/MLEndHW/panther/S1_hum_2_Panther.wav\"\n",
        "#ipd.Audio(audio_file)\n",
        "\n",
        "# load audio files with librosa\n",
        "signal, sr = librosa.load(audio_file)\n",
        "\n",
        "mfccs = librosa.feature.mfcc(y=signal, n_mfcc=40, sr=sr)\n",
        "\n",
        "plt.figure(figsize=(14, 5))\n",
        "librosa.display.specshow(mfccs,\n",
        "                         x_axis=\"time\",\n",
        "                         sr=sr)\n",
        "plt.colorbar(format=\"%+2.f\")\n",
        "plt.show()"
      ],
      "metadata": {
        "colab": {
          "base_uri": "https://localhost:8080/",
          "height": 336
        },
        "id": "Yb3U0vJyShyT",
        "outputId": "8fa2bb29-5b04-4137-af44-0fd2e08d281e"
      },
      "execution_count": null,
      "outputs": [
        {
          "output_type": "display_data",
          "data": {
            "image/png": "[encoded data removed]",
            "text/plain": [
              "<Figure size 1008x360 with 2 Axes>"
            ]
          },
          "metadata": {
            "needs_background": "light"
          }
        }
      ]
    },
    {
      "cell_type": "markdown",
      "source": [
        "From the two plots above, it seems there are pattern differences in Hakuna and Panther audio segments.\n",
        "- We will see if our deep learning model will be able to make predictions based on the features extracted."
      ],
      "metadata": {
        "id": "CQJ2Q1rAT2a9"
      }
    },
    {
      "cell_type": "markdown",
      "source": [
        "## Create training and validation data"
      ],
      "metadata": {
        "id": "VNZltuxBzG9M"
      }
    },
    {
      "cell_type": "code",
      "source": [
        "from sklearn.model_selection import train_test_split\n",
        "X_train,X_val,y_train,y_val=train_test_split(X_all,y_all,test_size=0.2,random_state=0)"
      ],
      "metadata": {
        "id": "a0WitipgiUGf"
      },
      "execution_count": null,
      "outputs": []
    },
    {
      "cell_type": "markdown",
      "source": [
        "Normalise training and validation data."
      ],
      "metadata": {
        "id": "ET3udEJCx648"
      }
    },
    {
      "cell_type": "code",
      "source": [
        "import tensorflow.keras as keras\n",
        "import tensorflow as tf\n",
        "\n",
        "X_train = tf.keras.utils.normalize(X_train, axis=1)\n",
        "X_val = tf.keras.utils.normalize(X_val, axis=1)"
      ],
      "metadata": {
        "id": "b2UawNiEpIMs"
      },
      "execution_count": null,
      "outputs": []
    },
    {
      "cell_type": "markdown",
      "source": [
        "Normalise all the data we have."
      ],
      "metadata": {
        "id": "yNt7k_vJ6MS2"
      }
    },
    {
      "cell_type": "code",
      "source": [
        "X_all = tf.keras.utils.normalize(X_all, axis=1)"
      ],
      "metadata": {
        "id": "9lqrpLQN6Q2V"
      },
      "execution_count": null,
      "outputs": []
    },
    {
      "cell_type": "markdown",
      "metadata": {
        "id": "2qf7GN1aeXJI"
      },
      "source": [
        "# 8 Results\n",
        "\n",
        "Carry out your experiments here, explain your results."
      ]
    },
    {
      "cell_type": "markdown",
      "source": [
        "## Model 1\n",
        "Let's create our first model."
      ],
      "metadata": {
        "id": "_TX0LNU9UZ5u"
      }
    },
    {
      "cell_type": "code",
      "source": [
        "from keras.models import Sequential\n",
        "from keras.layers import Dense, Dropout, Activation, Flatten\n",
        "\n",
        "num_classes = 8\n",
        "\n",
        "# model creation\n",
        "model = Sequential()\n",
        "\n",
        "model.add(Dense(256, input_shape=(40,)))\n",
        "model.add(Activation('relu'))\n",
        "model.add(Dropout(0.2))\n",
        "\n",
        "model.add(Dense(512))\n",
        "model.add(Activation('relu'))\n",
        "model.add(Dropout(0.2))\n",
        "\n",
        "model.add(Dense(256))\n",
        "model.add(Activation('relu'))\n",
        "model.add(Dropout(0.2))\n",
        "\n",
        "model.add(Dense(num_classes))\n",
        "model.add(Activation('softmax'))\n",
        "\n",
        "model.compile(loss='categorical_crossentropy', metrics='accuracy', optimizer='adam')"
      ],
      "metadata": {
        "id": "pkJe8i8Xjq3i"
      },
      "execution_count": null,
      "outputs": []
    },
    {
      "cell_type": "markdown",
      "source": [
        "Let's train the model."
      ],
      "metadata": {
        "id": "lpZJp6XXUfKV"
      }
    },
    {
      "cell_type": "code",
      "source": [
        "model.fit(X_train, y_train, batch_size=32, epochs=50, validation_data=(X_val,y_val),\n",
        "          verbose=2)"
      ],
      "metadata": {
        "colab": {
          "base_uri": "https://localhost:8080/"
        },
        "id": "xGE9P2KEkZv_",
        "outputId": "f7e1b90d-40f9-4ab0-c819-1f0a52f72384"
      },
      "execution_count": null,
      "outputs": [
        {
          "output_type": "stream",
          "name": "stdout",
          "text": [
            "Epoch 1/50\n",
            "83/83 - 1s - loss: 2.0848 - accuracy: 0.1275 - val_loss: 2.0822 - val_accuracy: 0.1093 - 1s/epoch - 18ms/step\n",
            "Epoch 2/50\n",
            "83/83 - 1s - loss: 2.0794 - accuracy: 0.1249 - val_loss: 2.0786 - val_accuracy: 0.1275 - 505ms/epoch - 6ms/step\n",
            "Epoch 3/50\n",
            "83/83 - 0s - loss: 2.0691 - accuracy: 0.1579 - val_loss: 2.0725 - val_accuracy: 0.1351 - 492ms/epoch - 6ms/step\n",
            "Epoch 4/50\n",
            "83/83 - 1s - loss: 2.0615 - accuracy: 0.1598 - val_loss: 2.0744 - val_accuracy: 0.1533 - 508ms/epoch - 6ms/step\n",
            "Epoch 5/50\n",
            "83/83 - 1s - loss: 2.0354 - accuracy: 0.1822 - val_loss: 2.0434 - val_accuracy: 0.1897 - 518ms/epoch - 6ms/step\n",
            "Epoch 6/50\n",
            "83/83 - 1s - loss: 2.0157 - accuracy: 0.2046 - val_loss: 2.0348 - val_accuracy: 0.1942 - 536ms/epoch - 6ms/step\n",
            "Epoch 7/50\n",
            "83/83 - 1s - loss: 1.9910 - accuracy: 0.2224 - val_loss: 2.0549 - val_accuracy: 0.1745 - 509ms/epoch - 6ms/step\n",
            "Epoch 8/50\n",
            "83/83 - 1s - loss: 1.9773 - accuracy: 0.2243 - val_loss: 2.0130 - val_accuracy: 0.1927 - 504ms/epoch - 6ms/step\n",
            "Epoch 9/50\n",
            "83/83 - 0s - loss: 1.9626 - accuracy: 0.2421 - val_loss: 2.0008 - val_accuracy: 0.2337 - 489ms/epoch - 6ms/step\n",
            "Epoch 10/50\n",
            "83/83 - 0s - loss: 1.9417 - accuracy: 0.2596 - val_loss: 1.9746 - val_accuracy: 0.2337 - 485ms/epoch - 6ms/step\n",
            "Epoch 11/50\n",
            "83/83 - 0s - loss: 1.9179 - accuracy: 0.2759 - val_loss: 1.9691 - val_accuracy: 0.2352 - 490ms/epoch - 6ms/step\n",
            "Epoch 12/50\n",
            "83/83 - 0s - loss: 1.9027 - accuracy: 0.2736 - val_loss: 1.9606 - val_accuracy: 0.2428 - 489ms/epoch - 6ms/step\n",
            "Epoch 13/50\n",
            "83/83 - 0s - loss: 1.8836 - accuracy: 0.2827 - val_loss: 1.9624 - val_accuracy: 0.2382 - 492ms/epoch - 6ms/step\n",
            "Epoch 14/50\n",
            "83/83 - 0s - loss: 1.8773 - accuracy: 0.2896 - val_loss: 1.9500 - val_accuracy: 0.2291 - 479ms/epoch - 6ms/step\n",
            "Epoch 15/50\n",
            "83/83 - 0s - loss: 1.8587 - accuracy: 0.2979 - val_loss: 1.9639 - val_accuracy: 0.2382 - 457ms/epoch - 6ms/step\n",
            "Epoch 16/50\n",
            "83/83 - 0s - loss: 1.8433 - accuracy: 0.2987 - val_loss: 1.9241 - val_accuracy: 0.2504 - 480ms/epoch - 6ms/step\n",
            "Epoch 17/50\n",
            "83/83 - 0s - loss: 1.8275 - accuracy: 0.3101 - val_loss: 1.9253 - val_accuracy: 0.2625 - 470ms/epoch - 6ms/step\n",
            "Epoch 18/50\n",
            "83/83 - 0s - loss: 1.8194 - accuracy: 0.3192 - val_loss: 1.9241 - val_accuracy: 0.2534 - 486ms/epoch - 6ms/step\n",
            "Epoch 19/50\n",
            "83/83 - 0s - loss: 1.8186 - accuracy: 0.3180 - val_loss: 1.9311 - val_accuracy: 0.2519 - 486ms/epoch - 6ms/step\n",
            "Epoch 20/50\n",
            "83/83 - 0s - loss: 1.8025 - accuracy: 0.3207 - val_loss: 1.9141 - val_accuracy: 0.2747 - 468ms/epoch - 6ms/step\n",
            "Epoch 21/50\n",
            "83/83 - 0s - loss: 1.7841 - accuracy: 0.3275 - val_loss: 1.9212 - val_accuracy: 0.2671 - 497ms/epoch - 6ms/step\n",
            "Epoch 22/50\n",
            "83/83 - 1s - loss: 1.7758 - accuracy: 0.3336 - val_loss: 1.9217 - val_accuracy: 0.2489 - 511ms/epoch - 6ms/step\n",
            "Epoch 23/50\n",
            "83/83 - 0s - loss: 1.7556 - accuracy: 0.3381 - val_loss: 1.9168 - val_accuracy: 0.2458 - 441ms/epoch - 5ms/step\n",
            "Epoch 24/50\n",
            "83/83 - 1s - loss: 1.7493 - accuracy: 0.3617 - val_loss: 1.9336 - val_accuracy: 0.2625 - 500ms/epoch - 6ms/step\n",
            "Epoch 25/50\n",
            "83/83 - 0s - loss: 1.7353 - accuracy: 0.3594 - val_loss: 1.9313 - val_accuracy: 0.2701 - 469ms/epoch - 6ms/step\n",
            "Epoch 26/50\n",
            "83/83 - 0s - loss: 1.7174 - accuracy: 0.3643 - val_loss: 1.9372 - val_accuracy: 0.2822 - 473ms/epoch - 6ms/step\n",
            "Epoch 27/50\n",
            "83/83 - 0s - loss: 1.7364 - accuracy: 0.3472 - val_loss: 1.9342 - val_accuracy: 0.2792 - 495ms/epoch - 6ms/step\n",
            "Epoch 28/50\n",
            "83/83 - 0s - loss: 1.7194 - accuracy: 0.3579 - val_loss: 1.9207 - val_accuracy: 0.2762 - 448ms/epoch - 5ms/step\n",
            "Epoch 29/50\n",
            "83/83 - 0s - loss: 1.7047 - accuracy: 0.3738 - val_loss: 1.9095 - val_accuracy: 0.2853 - 484ms/epoch - 6ms/step\n",
            "Epoch 30/50\n",
            "83/83 - 0s - loss: 1.6977 - accuracy: 0.3666 - val_loss: 1.9061 - val_accuracy: 0.2747 - 460ms/epoch - 6ms/step\n",
            "Epoch 31/50\n",
            "83/83 - 0s - loss: 1.6844 - accuracy: 0.3795 - val_loss: 1.9121 - val_accuracy: 0.2853 - 484ms/epoch - 6ms/step\n",
            "Epoch 32/50\n",
            "83/83 - 0s - loss: 1.6673 - accuracy: 0.3708 - val_loss: 1.9240 - val_accuracy: 0.2777 - 456ms/epoch - 5ms/step\n",
            "Epoch 33/50\n",
            "83/83 - 0s - loss: 1.6678 - accuracy: 0.3806 - val_loss: 1.9432 - val_accuracy: 0.2701 - 489ms/epoch - 6ms/step\n",
            "Epoch 34/50\n",
            "83/83 - 0s - loss: 1.6570 - accuracy: 0.3928 - val_loss: 1.9343 - val_accuracy: 0.2747 - 469ms/epoch - 6ms/step\n",
            "Epoch 35/50\n",
            "83/83 - 1s - loss: 1.6540 - accuracy: 0.3837 - val_loss: 1.9297 - val_accuracy: 0.2822 - 510ms/epoch - 6ms/step\n",
            "Epoch 36/50\n",
            "83/83 - 0s - loss: 1.6290 - accuracy: 0.3860 - val_loss: 1.9396 - val_accuracy: 0.2777 - 464ms/epoch - 6ms/step\n",
            "Epoch 37/50\n",
            "83/83 - 0s - loss: 1.6244 - accuracy: 0.3996 - val_loss: 1.9076 - val_accuracy: 0.2898 - 471ms/epoch - 6ms/step\n",
            "Epoch 38/50\n",
            "83/83 - 0s - loss: 1.6073 - accuracy: 0.4046 - val_loss: 1.9520 - val_accuracy: 0.2716 - 461ms/epoch - 6ms/step\n",
            "Epoch 39/50\n",
            "83/83 - 0s - loss: 1.5999 - accuracy: 0.4065 - val_loss: 1.8983 - val_accuracy: 0.3065 - 461ms/epoch - 6ms/step\n",
            "Epoch 40/50\n",
            "83/83 - 0s - loss: 1.6021 - accuracy: 0.4087 - val_loss: 1.9369 - val_accuracy: 0.2671 - 467ms/epoch - 6ms/step\n",
            "Epoch 41/50\n",
            "83/83 - 0s - loss: 1.5797 - accuracy: 0.4205 - val_loss: 1.9414 - val_accuracy: 0.2656 - 474ms/epoch - 6ms/step\n",
            "Epoch 42/50\n",
            "83/83 - 0s - loss: 1.5597 - accuracy: 0.4319 - val_loss: 1.9367 - val_accuracy: 0.2807 - 490ms/epoch - 6ms/step\n",
            "Epoch 43/50\n",
            "83/83 - 0s - loss: 1.5395 - accuracy: 0.4304 - val_loss: 1.9734 - val_accuracy: 0.2595 - 483ms/epoch - 6ms/step\n",
            "Epoch 44/50\n",
            "83/83 - 0s - loss: 1.5345 - accuracy: 0.4323 - val_loss: 1.9657 - val_accuracy: 0.2762 - 475ms/epoch - 6ms/step\n",
            "Epoch 45/50\n",
            "83/83 - 0s - loss: 1.5258 - accuracy: 0.4323 - val_loss: 1.9370 - val_accuracy: 0.2822 - 493ms/epoch - 6ms/step\n",
            "Epoch 46/50\n",
            "83/83 - 0s - loss: 1.5214 - accuracy: 0.4338 - val_loss: 1.9596 - val_accuracy: 0.2898 - 473ms/epoch - 6ms/step\n",
            "Epoch 47/50\n",
            "83/83 - 1s - loss: 1.5122 - accuracy: 0.4315 - val_loss: 1.9421 - val_accuracy: 0.2959 - 506ms/epoch - 6ms/step\n",
            "Epoch 48/50\n",
            "83/83 - 0s - loss: 1.5089 - accuracy: 0.4353 - val_loss: 1.9513 - val_accuracy: 0.2777 - 473ms/epoch - 6ms/step\n",
            "Epoch 49/50\n",
            "83/83 - 1s - loss: 1.4827 - accuracy: 0.4501 - val_loss: 1.9749 - val_accuracy: 0.2716 - 505ms/epoch - 6ms/step\n",
            "Epoch 50/50\n",
            "83/83 - 0s - loss: 1.4852 - accuracy: 0.4546 - val_loss: 1.9853 - val_accuracy: 0.2610 - 465ms/epoch - 6ms/step\n"
          ]
        },
        {
          "output_type": "execute_result",
          "data": {
            "text/plain": [
              "<keras.callbacks.History at 0x7fe6b6c0d110>"
            ]
          },
          "metadata": {},
          "execution_count": 9
        }
      ]
    },
    {
      "cell_type": "markdown",
      "source": [
        "Our neural network architecture has a validation accuracy of 0.26.\n",
        "- We will use other performance matrix to check the model's quality"
      ],
      "metadata": {
        "id": "Jo3KXKlDUvbu"
      }
    },
    {
      "cell_type": "markdown",
      "source": [
        "Put the model's predicted labels into a list."
      ],
      "metadata": {
        "id": "ttplesefVSbD"
      }
    },
    {
      "cell_type": "code",
      "source": [
        " y_pred_list = np.argmax(model.predict(X_val), axis=1)"
      ],
      "metadata": {
        "id": "kHunWK8NH_tr"
      },
      "execution_count": null,
      "outputs": []
    },
    {
      "cell_type": "markdown",
      "source": [
        "Convert validation data into a list."
      ],
      "metadata": {
        "id": "vZpliG0VVdOQ"
      }
    },
    {
      "cell_type": "code",
      "source": [
        "y_val_list = np.argmax(y_val, axis=1)"
      ],
      "metadata": {
        "id": "YkqWJsARLRww"
      },
      "execution_count": null,
      "outputs": []
    },
    {
      "cell_type": "markdown",
      "source": [
        "Check the precision, sensitivity (recall), and confusion matrix."
      ],
      "metadata": {
        "id": "RQrpytT-VhKA"
      }
    },
    {
      "cell_type": "code",
      "source": [
        "from sklearn.metrics import precision_recall_fscore_support\n",
        "from sklearn.metrics import confusion_matrix\n",
        "\n",
        "precision, recall, _, _ = precision_recall_fscore_support(y_val_list,\n",
        "                                                          y_pred_list)\n",
        "print('Precision for each class: {0}.'.format(precision))\n",
        "print('Recall for each class: {0}.\\n'.format(recall))\n",
        "\n",
        "confusion_mtx = pd.DataFrame.from_records(confusion_matrix(y_val_list,\n",
        "                                                           y_pred_list))\n",
        "print('Confusion matrix:')\n",
        "display(confusion_mtx)"
      ],
      "metadata": {
        "colab": {
          "base_uri": "https://localhost:8080/",
          "height": 404
        },
        "id": "-vFm2XopG9u_",
        "outputId": "17546dc0-b1bb-49c8-884d-d0bc469c61be"
      },
      "execution_count": null,
      "outputs": [
        {
          "output_type": "stream",
          "name": "stdout",
          "text": [
            "Precision for each class: [0.21428571 0.25       0.22131148 0.54761905 0.23076923 0.20915033\n",
            " 0.20253165 0.48214286].\n",
            "Recall for each class: [0.24       0.08695652 0.32926829 0.2371134  0.27631579 0.44444444\n",
            " 0.20253165 0.31395349].\n",
            "\n",
            "Confusion matrix:\n"
          ]
        },
        {
          "output_type": "display_data",
          "data": {
            "text/html": [
              "<div>\n",
              "<style scoped>\n",
              "    .dataframe tbody tr th:only-of-type {\n",
              "        vertical-align: middle;\n",
              "    }\n",
              "\n",
              "    .dataframe tbody tr th {\n",
              "        vertical-align: top;\n",
              "    }\n",
              "\n",
              "    .dataframe thead th {\n",
              "        text-align: right;\n",
              "    }\n",
              "</style>\n",
              "<table border=\"1\" class=\"dataframe\">\n",
              "  <thead>\n",
              "    <tr style=\"text-align: right;\">\n",
              "      <th></th>\n",
              "      <th>0</th>\n",
              "      <th>1</th>\n",
              "      <th>2</th>\n",
              "      <th>3</th>\n",
              "      <th>4</th>\n",
              "      <th>5</th>\n",
              "      <th>6</th>\n",
              "      <th>7</th>\n",
              "    </tr>\n",
              "  </thead>\n",
              "  <tbody>\n",
              "    <tr>\n",
              "      <th>0</th>\n",
              "      <td>18</td>\n",
              "      <td>5</td>\n",
              "      <td>23</td>\n",
              "      <td>0</td>\n",
              "      <td>5</td>\n",
              "      <td>17</td>\n",
              "      <td>7</td>\n",
              "      <td>0</td>\n",
              "    </tr>\n",
              "    <tr>\n",
              "      <th>1</th>\n",
              "      <td>16</td>\n",
              "      <td>8</td>\n",
              "      <td>19</td>\n",
              "      <td>7</td>\n",
              "      <td>16</td>\n",
              "      <td>12</td>\n",
              "      <td>10</td>\n",
              "      <td>4</td>\n",
              "    </tr>\n",
              "    <tr>\n",
              "      <th>2</th>\n",
              "      <td>8</td>\n",
              "      <td>6</td>\n",
              "      <td>27</td>\n",
              "      <td>2</td>\n",
              "      <td>7</td>\n",
              "      <td>16</td>\n",
              "      <td>10</td>\n",
              "      <td>6</td>\n",
              "    </tr>\n",
              "    <tr>\n",
              "      <th>3</th>\n",
              "      <td>16</td>\n",
              "      <td>6</td>\n",
              "      <td>18</td>\n",
              "      <td>23</td>\n",
              "      <td>8</td>\n",
              "      <td>15</td>\n",
              "      <td>8</td>\n",
              "      <td>3</td>\n",
              "    </tr>\n",
              "    <tr>\n",
              "      <th>4</th>\n",
              "      <td>7</td>\n",
              "      <td>3</td>\n",
              "      <td>9</td>\n",
              "      <td>4</td>\n",
              "      <td>21</td>\n",
              "      <td>22</td>\n",
              "      <td>6</td>\n",
              "      <td>4</td>\n",
              "    </tr>\n",
              "    <tr>\n",
              "      <th>5</th>\n",
              "      <td>2</td>\n",
              "      <td>1</td>\n",
              "      <td>7</td>\n",
              "      <td>2</td>\n",
              "      <td>11</td>\n",
              "      <td>32</td>\n",
              "      <td>9</td>\n",
              "      <td>8</td>\n",
              "    </tr>\n",
              "    <tr>\n",
              "      <th>6</th>\n",
              "      <td>9</td>\n",
              "      <td>0</td>\n",
              "      <td>10</td>\n",
              "      <td>1</td>\n",
              "      <td>15</td>\n",
              "      <td>24</td>\n",
              "      <td>16</td>\n",
              "      <td>4</td>\n",
              "    </tr>\n",
              "    <tr>\n",
              "      <th>7</th>\n",
              "      <td>8</td>\n",
              "      <td>3</td>\n",
              "      <td>9</td>\n",
              "      <td>3</td>\n",
              "      <td>8</td>\n",
              "      <td>15</td>\n",
              "      <td>13</td>\n",
              "      <td>27</td>\n",
              "    </tr>\n",
              "  </tbody>\n",
              "</table>\n",
              "</div>"
            ],
            "text/plain": [
              "    0  1   2   3   4   5   6   7\n",
              "0  18  5  23   0   5  17   7   0\n",
              "1  16  8  19   7  16  12  10   4\n",
              "2   8  6  27   2   7  16  10   6\n",
              "3  16  6  18  23   8  15   8   3\n",
              "4   7  3   9   4  21  22   6   4\n",
              "5   2  1   7   2  11  32   9   8\n",
              "6   9  0  10   1  15  24  16   4\n",
              "7   8  3   9   3   8  15  13  27"
            ]
          },
          "metadata": {}
        }
      ]
    },
    {
      "cell_type": "markdown",
      "source": [
        "Our model has both low precision and recall for all classes.\n",
        "- From the confusion matrix, we can see the model made many mistakes when predicting the labels."
      ],
      "metadata": {
        "id": "7fxM7ilWVvzD"
      }
    },
    {
      "cell_type": "markdown",
      "source": [
        "## Model 2\n",
        "Let's create our second model.\n",
        "- In our second model, let's try the Stochastic Gradient Descent (SGD) optimisation method."
      ],
      "metadata": {
        "id": "lZ8PbexKy7AT"
      }
    },
    {
      "cell_type": "code",
      "source": [
        "from keras.models import Sequential\n",
        "from keras.layers import Dense, Dropout, Activation, Flatten\n",
        "\n",
        "num_classes = 8\n",
        "\n",
        "# model creation\n",
        "model = Sequential()\n",
        "\n",
        "model.add(Dense(256, input_shape=(40,)))\n",
        "model.add(Activation('relu'))\n",
        "model.add(Dropout(0.2))\n",
        "\n",
        "model.add(Dense(512))\n",
        "model.add(Activation('relu'))\n",
        "model.add(Dropout(0.2))\n",
        "\n",
        "model.add(Dense(256))\n",
        "model.add(Activation('relu'))\n",
        "model.add(Dropout(0.2))\n",
        "\n",
        "model.add(Dense(num_classes))\n",
        "model.add(Activation('softmax'))\n",
        "\n",
        "model.compile(loss='categorical_crossentropy', metrics='accuracy', optimizer='SGD')"
      ],
      "metadata": {
        "id": "5hclriXuy7AV"
      },
      "execution_count": null,
      "outputs": []
    },
    {
      "cell_type": "markdown",
      "source": [
        "Let's train the model."
      ],
      "metadata": {
        "id": "TGYiUoJEy7AX"
      }
    },
    {
      "cell_type": "code",
      "source": [
        "model.fit(X_train, y_train, batch_size=32, epochs=50, validation_data=(X_val,y_val),\n",
        "          verbose=2)"
      ],
      "metadata": {
        "colab": {
          "base_uri": "https://localhost:8080/"
        },
        "outputId": "051eb059-8ea8-41ef-9466-895752e03d1d",
        "id": "Dg3Trmdoy7AY"
      },
      "execution_count": null,
      "outputs": [
        {
          "output_type": "stream",
          "name": "stdout",
          "text": [
            "Epoch 1/50\n",
            "83/83 - 1s - loss: 2.0811 - accuracy: 0.1184 - val_loss: 2.0808 - val_accuracy: 0.1153 - 1s/epoch - 13ms/step\n",
            "Epoch 2/50\n",
            "83/83 - 0s - loss: 2.0798 - accuracy: 0.1260 - val_loss: 2.0813 - val_accuracy: 0.1229 - 431ms/epoch - 5ms/step\n",
            "Epoch 3/50\n",
            "83/83 - 0s - loss: 2.0801 - accuracy: 0.1275 - val_loss: 2.0815 - val_accuracy: 0.1108 - 452ms/epoch - 5ms/step\n",
            "Epoch 4/50\n",
            "83/83 - 0s - loss: 2.0811 - accuracy: 0.1199 - val_loss: 2.0820 - val_accuracy: 0.1002 - 450ms/epoch - 5ms/step\n",
            "Epoch 5/50\n",
            "83/83 - 0s - loss: 2.0792 - accuracy: 0.1324 - val_loss: 2.0819 - val_accuracy: 0.0835 - 471ms/epoch - 6ms/step\n",
            "Epoch 6/50\n",
            "83/83 - 0s - loss: 2.0798 - accuracy: 0.1241 - val_loss: 2.0820 - val_accuracy: 0.0880 - 467ms/epoch - 6ms/step\n",
            "Epoch 7/50\n",
            "83/83 - 0s - loss: 2.0799 - accuracy: 0.1180 - val_loss: 2.0817 - val_accuracy: 0.0865 - 446ms/epoch - 5ms/step\n",
            "Epoch 8/50\n",
            "83/83 - 0s - loss: 2.0796 - accuracy: 0.1184 - val_loss: 2.0820 - val_accuracy: 0.1244 - 465ms/epoch - 6ms/step\n",
            "Epoch 9/50\n",
            "83/83 - 0s - loss: 2.0792 - accuracy: 0.1275 - val_loss: 2.0820 - val_accuracy: 0.1199 - 469ms/epoch - 6ms/step\n",
            "Epoch 10/50\n",
            "83/83 - 0s - loss: 2.0796 - accuracy: 0.1233 - val_loss: 2.0818 - val_accuracy: 0.1199 - 432ms/epoch - 5ms/step\n",
            "Epoch 11/50\n",
            "83/83 - 0s - loss: 2.0800 - accuracy: 0.1264 - val_loss: 2.0821 - val_accuracy: 0.1229 - 427ms/epoch - 5ms/step\n",
            "Epoch 12/50\n",
            "83/83 - 0s - loss: 2.0790 - accuracy: 0.1302 - val_loss: 2.0820 - val_accuracy: 0.1184 - 420ms/epoch - 5ms/step\n",
            "Epoch 13/50\n",
            "83/83 - 0s - loss: 2.0793 - accuracy: 0.1313 - val_loss: 2.0814 - val_accuracy: 0.1153 - 458ms/epoch - 6ms/step\n",
            "Epoch 14/50\n",
            "83/83 - 0s - loss: 2.0801 - accuracy: 0.1306 - val_loss: 2.0816 - val_accuracy: 0.1214 - 435ms/epoch - 5ms/step\n",
            "Epoch 15/50\n",
            "83/83 - 0s - loss: 2.0804 - accuracy: 0.1203 - val_loss: 2.0814 - val_accuracy: 0.1123 - 421ms/epoch - 5ms/step\n",
            "Epoch 16/50\n",
            "83/83 - 0s - loss: 2.0796 - accuracy: 0.1249 - val_loss: 2.0818 - val_accuracy: 0.1047 - 428ms/epoch - 5ms/step\n",
            "Epoch 17/50\n",
            "83/83 - 0s - loss: 2.0795 - accuracy: 0.1275 - val_loss: 2.0817 - val_accuracy: 0.1047 - 454ms/epoch - 5ms/step\n",
            "Epoch 18/50\n",
            "83/83 - 0s - loss: 2.0791 - accuracy: 0.1260 - val_loss: 2.0818 - val_accuracy: 0.1047 - 468ms/epoch - 6ms/step\n",
            "Epoch 19/50\n",
            "83/83 - 0s - loss: 2.0789 - accuracy: 0.1336 - val_loss: 2.0818 - val_accuracy: 0.1047 - 468ms/epoch - 6ms/step\n",
            "Epoch 20/50\n",
            "83/83 - 0s - loss: 2.0782 - accuracy: 0.1347 - val_loss: 2.0820 - val_accuracy: 0.1077 - 450ms/epoch - 5ms/step\n",
            "Epoch 21/50\n",
            "83/83 - 0s - loss: 2.0796 - accuracy: 0.1180 - val_loss: 2.0815 - val_accuracy: 0.1062 - 445ms/epoch - 5ms/step\n",
            "Epoch 22/50\n",
            "83/83 - 0s - loss: 2.0793 - accuracy: 0.1271 - val_loss: 2.0813 - val_accuracy: 0.1290 - 447ms/epoch - 5ms/step\n",
            "Epoch 23/50\n",
            "83/83 - 0s - loss: 2.0792 - accuracy: 0.1324 - val_loss: 2.0814 - val_accuracy: 0.1305 - 447ms/epoch - 5ms/step\n",
            "Epoch 24/50\n",
            "83/83 - 0s - loss: 2.0786 - accuracy: 0.1324 - val_loss: 2.0815 - val_accuracy: 0.1259 - 448ms/epoch - 5ms/step\n",
            "Epoch 25/50\n",
            "83/83 - 0s - loss: 2.0782 - accuracy: 0.1321 - val_loss: 2.0816 - val_accuracy: 0.1123 - 440ms/epoch - 5ms/step\n",
            "Epoch 26/50\n",
            "83/83 - 0s - loss: 2.0787 - accuracy: 0.1321 - val_loss: 2.0812 - val_accuracy: 0.1108 - 423ms/epoch - 5ms/step\n",
            "Epoch 27/50\n",
            "83/83 - 0s - loss: 2.0782 - accuracy: 0.1336 - val_loss: 2.0812 - val_accuracy: 0.1123 - 440ms/epoch - 5ms/step\n",
            "Epoch 28/50\n",
            "83/83 - 0s - loss: 2.0771 - accuracy: 0.1328 - val_loss: 2.0816 - val_accuracy: 0.1047 - 454ms/epoch - 5ms/step\n",
            "Epoch 29/50\n",
            "83/83 - 0s - loss: 2.0787 - accuracy: 0.1340 - val_loss: 2.0813 - val_accuracy: 0.1047 - 430ms/epoch - 5ms/step\n",
            "Epoch 30/50\n",
            "83/83 - 0s - loss: 2.0783 - accuracy: 0.1351 - val_loss: 2.0811 - val_accuracy: 0.1017 - 458ms/epoch - 6ms/step\n",
            "Epoch 31/50\n",
            "83/83 - 0s - loss: 2.0784 - accuracy: 0.1306 - val_loss: 2.0810 - val_accuracy: 0.1047 - 461ms/epoch - 6ms/step\n",
            "Epoch 32/50\n",
            "83/83 - 0s - loss: 2.0790 - accuracy: 0.1347 - val_loss: 2.0810 - val_accuracy: 0.1047 - 470ms/epoch - 6ms/step\n",
            "Epoch 33/50\n",
            "83/83 - 0s - loss: 2.0785 - accuracy: 0.1233 - val_loss: 2.0812 - val_accuracy: 0.1032 - 434ms/epoch - 5ms/step\n",
            "Epoch 34/50\n",
            "83/83 - 0s - loss: 2.0772 - accuracy: 0.1302 - val_loss: 2.0812 - val_accuracy: 0.1123 - 456ms/epoch - 5ms/step\n",
            "Epoch 35/50\n",
            "83/83 - 0s - loss: 2.0783 - accuracy: 0.1321 - val_loss: 2.0809 - val_accuracy: 0.1214 - 422ms/epoch - 5ms/step\n",
            "Epoch 36/50\n",
            "83/83 - 0s - loss: 2.0771 - accuracy: 0.1446 - val_loss: 2.0809 - val_accuracy: 0.1290 - 415ms/epoch - 5ms/step\n",
            "Epoch 37/50\n",
            "83/83 - 0s - loss: 2.0780 - accuracy: 0.1306 - val_loss: 2.0808 - val_accuracy: 0.1244 - 449ms/epoch - 5ms/step\n",
            "Epoch 38/50\n",
            "83/83 - 0s - loss: 2.0771 - accuracy: 0.1321 - val_loss: 2.0811 - val_accuracy: 0.1244 - 440ms/epoch - 5ms/step\n",
            "Epoch 39/50\n",
            "83/83 - 0s - loss: 2.0783 - accuracy: 0.1313 - val_loss: 2.0811 - val_accuracy: 0.1184 - 451ms/epoch - 5ms/step\n",
            "Epoch 40/50\n",
            "83/83 - 0s - loss: 2.0776 - accuracy: 0.1324 - val_loss: 2.0808 - val_accuracy: 0.1305 - 441ms/epoch - 5ms/step\n",
            "Epoch 41/50\n",
            "83/83 - 0s - loss: 2.0767 - accuracy: 0.1400 - val_loss: 2.0811 - val_accuracy: 0.1305 - 452ms/epoch - 5ms/step\n",
            "Epoch 42/50\n",
            "83/83 - 0s - loss: 2.0773 - accuracy: 0.1340 - val_loss: 2.0808 - val_accuracy: 0.1168 - 411ms/epoch - 5ms/step\n",
            "Epoch 43/50\n",
            "83/83 - 0s - loss: 2.0771 - accuracy: 0.1385 - val_loss: 2.0809 - val_accuracy: 0.1138 - 453ms/epoch - 5ms/step\n",
            "Epoch 44/50\n",
            "83/83 - 0s - loss: 2.0780 - accuracy: 0.1359 - val_loss: 2.0811 - val_accuracy: 0.1123 - 448ms/epoch - 5ms/step\n",
            "Epoch 45/50\n",
            "83/83 - 0s - loss: 2.0777 - accuracy: 0.1355 - val_loss: 2.0809 - val_accuracy: 0.1351 - 438ms/epoch - 5ms/step\n",
            "Epoch 46/50\n",
            "83/83 - 0s - loss: 2.0779 - accuracy: 0.1340 - val_loss: 2.0808 - val_accuracy: 0.1214 - 429ms/epoch - 5ms/step\n",
            "Epoch 47/50\n",
            "83/83 - 0s - loss: 2.0760 - accuracy: 0.1400 - val_loss: 2.0808 - val_accuracy: 0.1184 - 438ms/epoch - 5ms/step\n",
            "Epoch 48/50\n",
            "83/83 - 0s - loss: 2.0759 - accuracy: 0.1495 - val_loss: 2.0805 - val_accuracy: 0.1168 - 447ms/epoch - 5ms/step\n",
            "Epoch 49/50\n",
            "83/83 - 0s - loss: 2.0768 - accuracy: 0.1408 - val_loss: 2.0803 - val_accuracy: 0.1168 - 429ms/epoch - 5ms/step\n",
            "Epoch 50/50\n",
            "83/83 - 0s - loss: 2.0776 - accuracy: 0.1321 - val_loss: 2.0801 - val_accuracy: 0.1229 - 457ms/epoch - 6ms/step\n"
          ]
        },
        {
          "output_type": "execute_result",
          "data": {
            "text/plain": [
              "<keras.callbacks.History at 0x7fe6b6b11110>"
            ]
          },
          "metadata": {},
          "execution_count": 14
        }
      ]
    },
    {
      "cell_type": "markdown",
      "source": [
        "Our neural network architecture has a validation accuracy of 0.12.\n",
        "- We will use other performance matrix to check the model's quality"
      ],
      "metadata": {
        "id": "KllbitkRy7Ac"
      }
    },
    {
      "cell_type": "markdown",
      "source": [
        "Put the model's predicted labels into a list."
      ],
      "metadata": {
        "id": "qXmnrc0bkVs5"
      }
    },
    {
      "cell_type": "code",
      "source": [
        " y_pred_list = np.argmax(model.predict(X_val), axis=1)"
      ],
      "metadata": {
        "id": "fJxv15-hkVs6"
      },
      "execution_count": null,
      "outputs": []
    },
    {
      "cell_type": "markdown",
      "source": [
        "Convert validation data into a list."
      ],
      "metadata": {
        "id": "BCyicKIhkVs6"
      }
    },
    {
      "cell_type": "code",
      "source": [
        "y_val_list = np.argmax(y_val, axis=1)"
      ],
      "metadata": {
        "id": "SX-jUq01kVs7"
      },
      "execution_count": null,
      "outputs": []
    },
    {
      "cell_type": "markdown",
      "source": [
        "Check the precision, sensitivity (recall), and confusion matrix."
      ],
      "metadata": {
        "id": "Lmlo9XhTkVs7"
      }
    },
    {
      "cell_type": "code",
      "source": [
        "from sklearn.metrics import precision_recall_fscore_support\n",
        "from sklearn.metrics import confusion_matrix\n",
        "\n",
        "precision, recall, _, _ = precision_recall_fscore_support(y_val_list,\n",
        "                                                          y_pred_list)\n",
        "print('Precision for each class: {0}.'.format(precision))\n",
        "print('Recall for each class: {0}.\\n'.format(recall))\n",
        "\n",
        "confusion_mtx = pd.DataFrame.from_records(confusion_matrix(y_val_list,\n",
        "                                                           y_pred_list))\n",
        "print('Confusion matrix:')\n",
        "display(confusion_mtx)"
      ],
      "metadata": {
        "colab": {
          "base_uri": "https://localhost:8080/",
          "height": 459
        },
        "outputId": "1380e267-8c31-48de-cf0b-2bd87ff1e1b8",
        "id": "rh3HTxJOkVs7"
      },
      "execution_count": null,
      "outputs": [
        {
          "output_type": "stream",
          "name": "stdout",
          "text": [
            "Precision for each class: [0.16666667 0.14285714 0.         0.         0.         0.11069418\n",
            " 0.18333333 0.17647059].\n",
            "Recall for each class: [0.09333333 0.01086957 0.         0.         0.         0.81944444\n",
            " 0.13924051 0.03488372].\n",
            "\n",
            "Confusion matrix:\n"
          ]
        },
        {
          "output_type": "stream",
          "name": "stderr",
          "text": [
            "/usr/local/lib/python3.7/dist-packages/sklearn/metrics/_classification.py:1308: UndefinedMetricWarning: Precision and F-score are ill-defined and being set to 0.0 in labels with no predicted samples. Use `zero_division` parameter to control this behavior.\n",
            "  _warn_prf(average, modifier, msg_start, len(result))\n"
          ]
        },
        {
          "output_type": "display_data",
          "data": {
            "text/html": [
              "<div>\n",
              "<style scoped>\n",
              "    .dataframe tbody tr th:only-of-type {\n",
              "        vertical-align: middle;\n",
              "    }\n",
              "\n",
              "    .dataframe tbody tr th {\n",
              "        vertical-align: top;\n",
              "    }\n",
              "\n",
              "    .dataframe thead th {\n",
              "        text-align: right;\n",
              "    }\n",
              "</style>\n",
              "<table border=\"1\" class=\"dataframe\">\n",
              "  <thead>\n",
              "    <tr style=\"text-align: right;\">\n",
              "      <th></th>\n",
              "      <th>0</th>\n",
              "      <th>1</th>\n",
              "      <th>2</th>\n",
              "      <th>3</th>\n",
              "      <th>4</th>\n",
              "      <th>5</th>\n",
              "      <th>6</th>\n",
              "      <th>7</th>\n",
              "    </tr>\n",
              "  </thead>\n",
              "  <tbody>\n",
              "    <tr>\n",
              "      <th>0</th>\n",
              "      <td>7</td>\n",
              "      <td>1</td>\n",
              "      <td>0</td>\n",
              "      <td>0</td>\n",
              "      <td>0</td>\n",
              "      <td>64</td>\n",
              "      <td>3</td>\n",
              "      <td>0</td>\n",
              "    </tr>\n",
              "    <tr>\n",
              "      <th>1</th>\n",
              "      <td>8</td>\n",
              "      <td>1</td>\n",
              "      <td>0</td>\n",
              "      <td>0</td>\n",
              "      <td>0</td>\n",
              "      <td>73</td>\n",
              "      <td>6</td>\n",
              "      <td>4</td>\n",
              "    </tr>\n",
              "    <tr>\n",
              "      <th>2</th>\n",
              "      <td>3</td>\n",
              "      <td>0</td>\n",
              "      <td>0</td>\n",
              "      <td>0</td>\n",
              "      <td>0</td>\n",
              "      <td>72</td>\n",
              "      <td>5</td>\n",
              "      <td>2</td>\n",
              "    </tr>\n",
              "    <tr>\n",
              "      <th>3</th>\n",
              "      <td>10</td>\n",
              "      <td>1</td>\n",
              "      <td>0</td>\n",
              "      <td>0</td>\n",
              "      <td>0</td>\n",
              "      <td>75</td>\n",
              "      <td>7</td>\n",
              "      <td>4</td>\n",
              "    </tr>\n",
              "    <tr>\n",
              "      <th>4</th>\n",
              "      <td>4</td>\n",
              "      <td>0</td>\n",
              "      <td>0</td>\n",
              "      <td>0</td>\n",
              "      <td>0</td>\n",
              "      <td>63</td>\n",
              "      <td>8</td>\n",
              "      <td>1</td>\n",
              "    </tr>\n",
              "    <tr>\n",
              "      <th>5</th>\n",
              "      <td>2</td>\n",
              "      <td>0</td>\n",
              "      <td>0</td>\n",
              "      <td>0</td>\n",
              "      <td>0</td>\n",
              "      <td>59</td>\n",
              "      <td>9</td>\n",
              "      <td>2</td>\n",
              "    </tr>\n",
              "    <tr>\n",
              "      <th>6</th>\n",
              "      <td>4</td>\n",
              "      <td>2</td>\n",
              "      <td>0</td>\n",
              "      <td>0</td>\n",
              "      <td>0</td>\n",
              "      <td>61</td>\n",
              "      <td>11</td>\n",
              "      <td>1</td>\n",
              "    </tr>\n",
              "    <tr>\n",
              "      <th>7</th>\n",
              "      <td>4</td>\n",
              "      <td>2</td>\n",
              "      <td>0</td>\n",
              "      <td>0</td>\n",
              "      <td>0</td>\n",
              "      <td>66</td>\n",
              "      <td>11</td>\n",
              "      <td>3</td>\n",
              "    </tr>\n",
              "  </tbody>\n",
              "</table>\n",
              "</div>"
            ],
            "text/plain": [
              "    0  1  2  3  4   5   6  7\n",
              "0   7  1  0  0  0  64   3  0\n",
              "1   8  1  0  0  0  73   6  4\n",
              "2   3  0  0  0  0  72   5  2\n",
              "3  10  1  0  0  0  75   7  4\n",
              "4   4  0  0  0  0  63   8  1\n",
              "5   2  0  0  0  0  59   9  2\n",
              "6   4  2  0  0  0  61  11  1\n",
              "7   4  2  0  0  0  66  11  3"
            ]
          },
          "metadata": {}
        }
      ]
    },
    {
      "cell_type": "markdown",
      "source": [
        "Our model has both low precision and recall for all classes.\n",
        "- From the confusion matrix, we can see the model made many mistakes when predicting the labels."
      ],
      "metadata": {
        "id": "yul7OHfSy7Ag"
      }
    },
    {
      "cell_type": "markdown",
      "source": [
        "## Model 3\n",
        "Let's create our third model.\n",
        "- In our third model, let's try the Hyperbolic Tangent (Tanh) activation function."
      ],
      "metadata": {
        "id": "E0wWfs2q3lTo"
      }
    },
    {
      "cell_type": "code",
      "source": [
        "from keras.models import Sequential\n",
        "from keras.layers import Dense, Dropout, Activation, Flatten\n",
        "\n",
        "num_classes = 8\n",
        "\n",
        "# model creation\n",
        "model = Sequential()\n",
        "\n",
        "model.add(Dense(256, input_shape=(40,)))\n",
        "model.add(Activation('tanh'))\n",
        "model.add(Dropout(0.2))\n",
        "\n",
        "model.add(Dense(512))\n",
        "model.add(Activation('tanh'))\n",
        "model.add(Dropout(0.2))\n",
        "\n",
        "model.add(Dense(256))\n",
        "model.add(Activation('tanh'))\n",
        "model.add(Dropout(0.2))\n",
        "\n",
        "model.add(Dense(num_classes))\n",
        "model.add(Activation('softmax'))\n",
        "\n",
        "model.compile(loss='categorical_crossentropy', metrics='accuracy', optimizer='adam')"
      ],
      "metadata": {
        "id": "kok2J4Nn3lTo"
      },
      "execution_count": null,
      "outputs": []
    },
    {
      "cell_type": "markdown",
      "source": [
        "Let's train the model."
      ],
      "metadata": {
        "id": "T2wjZUu03lTp"
      }
    },
    {
      "cell_type": "code",
      "source": [
        "model.fit(X_train, y_train, batch_size=32, epochs=50, validation_data=(X_val,y_val),\n",
        "          verbose=2)"
      ],
      "metadata": {
        "colab": {
          "base_uri": "https://localhost:8080/"
        },
        "outputId": "bd55fe62-41aa-40c7-f64e-fc557847f92c",
        "id": "3dUROcT93lTp"
      },
      "execution_count": null,
      "outputs": [
        {
          "output_type": "stream",
          "name": "stdout",
          "text": [
            "Epoch 1/50\n",
            "83/83 - 1s - loss: 2.1016 - accuracy: 0.1245 - val_loss: 2.1067 - val_accuracy: 0.1077 - 1s/epoch - 17ms/step\n",
            "Epoch 2/50\n",
            "83/83 - 1s - loss: 2.0736 - accuracy: 0.1605 - val_loss: 2.0568 - val_accuracy: 0.1593 - 620ms/epoch - 7ms/step\n",
            "Epoch 3/50\n",
            "83/83 - 1s - loss: 2.0405 - accuracy: 0.1901 - val_loss: 2.0421 - val_accuracy: 0.1760 - 620ms/epoch - 7ms/step\n",
            "Epoch 4/50\n",
            "83/83 - 1s - loss: 2.0236 - accuracy: 0.2023 - val_loss: 2.0218 - val_accuracy: 0.2140 - 628ms/epoch - 8ms/step\n",
            "Epoch 5/50\n",
            "83/83 - 1s - loss: 1.9907 - accuracy: 0.2250 - val_loss: 2.0108 - val_accuracy: 0.2307 - 582ms/epoch - 7ms/step\n",
            "Epoch 6/50\n",
            "83/83 - 1s - loss: 1.9915 - accuracy: 0.2292 - val_loss: 2.0219 - val_accuracy: 0.1912 - 645ms/epoch - 8ms/step\n",
            "Epoch 7/50\n",
            "83/83 - 1s - loss: 1.9836 - accuracy: 0.2406 - val_loss: 2.0087 - val_accuracy: 0.2155 - 586ms/epoch - 7ms/step\n",
            "Epoch 8/50\n",
            "83/83 - 1s - loss: 1.9827 - accuracy: 0.2410 - val_loss: 2.0164 - val_accuracy: 0.2200 - 607ms/epoch - 7ms/step\n",
            "Epoch 9/50\n",
            "83/83 - 1s - loss: 1.9724 - accuracy: 0.2482 - val_loss: 1.9731 - val_accuracy: 0.2489 - 593ms/epoch - 7ms/step\n",
            "Epoch 10/50\n",
            "83/83 - 1s - loss: 1.9745 - accuracy: 0.2372 - val_loss: 2.0089 - val_accuracy: 0.2246 - 756ms/epoch - 9ms/step\n",
            "Epoch 11/50\n",
            "83/83 - 1s - loss: 1.9734 - accuracy: 0.2471 - val_loss: 1.9869 - val_accuracy: 0.2140 - 747ms/epoch - 9ms/step\n",
            "Epoch 12/50\n",
            "83/83 - 1s - loss: 1.9655 - accuracy: 0.2486 - val_loss: 2.0083 - val_accuracy: 0.2337 - 657ms/epoch - 8ms/step\n",
            "Epoch 13/50\n",
            "83/83 - 1s - loss: 1.9627 - accuracy: 0.2584 - val_loss: 2.0061 - val_accuracy: 0.2200 - 507ms/epoch - 6ms/step\n",
            "Epoch 14/50\n",
            "83/83 - 1s - loss: 1.9631 - accuracy: 0.2573 - val_loss: 2.0027 - val_accuracy: 0.2473 - 522ms/epoch - 6ms/step\n",
            "Epoch 15/50\n",
            "83/83 - 0s - loss: 1.9642 - accuracy: 0.2509 - val_loss: 1.9979 - val_accuracy: 0.2337 - 500ms/epoch - 6ms/step\n",
            "Epoch 16/50\n",
            "83/83 - 1s - loss: 1.9614 - accuracy: 0.2509 - val_loss: 1.9886 - val_accuracy: 0.2443 - 501ms/epoch - 6ms/step\n",
            "Epoch 17/50\n",
            "83/83 - 0s - loss: 1.9631 - accuracy: 0.2641 - val_loss: 1.9753 - val_accuracy: 0.2367 - 484ms/epoch - 6ms/step\n",
            "Epoch 18/50\n",
            "83/83 - 1s - loss: 1.9522 - accuracy: 0.2668 - val_loss: 1.9712 - val_accuracy: 0.2307 - 507ms/epoch - 6ms/step\n",
            "Epoch 19/50\n",
            "83/83 - 0s - loss: 1.9608 - accuracy: 0.2584 - val_loss: 1.9678 - val_accuracy: 0.2382 - 484ms/epoch - 6ms/step\n",
            "Epoch 20/50\n",
            "83/83 - 1s - loss: 1.9561 - accuracy: 0.2672 - val_loss: 1.9583 - val_accuracy: 0.2716 - 511ms/epoch - 6ms/step\n",
            "Epoch 21/50\n",
            "83/83 - 0s - loss: 1.9513 - accuracy: 0.2797 - val_loss: 1.9927 - val_accuracy: 0.2398 - 487ms/epoch - 6ms/step\n",
            "Epoch 22/50\n",
            "83/83 - 1s - loss: 1.9477 - accuracy: 0.2638 - val_loss: 1.9581 - val_accuracy: 0.2610 - 503ms/epoch - 6ms/step\n",
            "Epoch 23/50\n",
            "83/83 - 1s - loss: 1.9496 - accuracy: 0.2562 - val_loss: 1.9690 - val_accuracy: 0.2549 - 508ms/epoch - 6ms/step\n",
            "Epoch 24/50\n",
            "83/83 - 1s - loss: 1.9545 - accuracy: 0.2581 - val_loss: 1.9734 - val_accuracy: 0.2428 - 515ms/epoch - 6ms/step\n",
            "Epoch 25/50\n",
            "83/83 - 0s - loss: 1.9446 - accuracy: 0.2774 - val_loss: 1.9616 - val_accuracy: 0.2519 - 472ms/epoch - 6ms/step\n",
            "Epoch 26/50\n",
            "83/83 - 1s - loss: 1.9445 - accuracy: 0.2721 - val_loss: 1.9738 - val_accuracy: 0.2504 - 512ms/epoch - 6ms/step\n",
            "Epoch 27/50\n",
            "83/83 - 1s - loss: 1.9430 - accuracy: 0.2778 - val_loss: 1.9685 - val_accuracy: 0.2504 - 509ms/epoch - 6ms/step\n",
            "Epoch 28/50\n",
            "83/83 - 1s - loss: 1.9526 - accuracy: 0.2638 - val_loss: 1.9828 - val_accuracy: 0.2473 - 500ms/epoch - 6ms/step\n",
            "Epoch 29/50\n",
            "83/83 - 0s - loss: 1.9456 - accuracy: 0.2657 - val_loss: 1.9883 - val_accuracy: 0.2367 - 492ms/epoch - 6ms/step\n",
            "Epoch 30/50\n",
            "83/83 - 1s - loss: 1.9440 - accuracy: 0.2725 - val_loss: 1.9772 - val_accuracy: 0.2625 - 530ms/epoch - 6ms/step\n",
            "Epoch 31/50\n",
            "83/83 - 0s - loss: 1.9453 - accuracy: 0.2630 - val_loss: 1.9718 - val_accuracy: 0.2580 - 452ms/epoch - 5ms/step\n",
            "Epoch 32/50\n",
            "83/83 - 0s - loss: 1.9416 - accuracy: 0.2808 - val_loss: 1.9792 - val_accuracy: 0.2443 - 489ms/epoch - 6ms/step\n",
            "Epoch 33/50\n",
            "83/83 - 1s - loss: 1.9462 - accuracy: 0.2717 - val_loss: 1.9918 - val_accuracy: 0.2215 - 506ms/epoch - 6ms/step\n",
            "Epoch 34/50\n",
            "83/83 - 0s - loss: 1.9451 - accuracy: 0.2679 - val_loss: 1.9656 - val_accuracy: 0.2656 - 490ms/epoch - 6ms/step\n",
            "Epoch 35/50\n",
            "83/83 - 0s - loss: 1.9348 - accuracy: 0.2717 - val_loss: 1.9630 - val_accuracy: 0.2473 - 486ms/epoch - 6ms/step\n",
            "Epoch 36/50\n",
            "83/83 - 1s - loss: 1.9441 - accuracy: 0.2706 - val_loss: 1.9600 - val_accuracy: 0.2564 - 520ms/epoch - 6ms/step\n",
            "Epoch 37/50\n",
            "83/83 - 1s - loss: 1.9405 - accuracy: 0.2713 - val_loss: 1.9754 - val_accuracy: 0.2443 - 509ms/epoch - 6ms/step\n",
            "Epoch 38/50\n",
            "83/83 - 0s - loss: 1.9434 - accuracy: 0.2668 - val_loss: 1.9694 - val_accuracy: 0.2610 - 498ms/epoch - 6ms/step\n",
            "Epoch 39/50\n",
            "83/83 - 0s - loss: 1.9350 - accuracy: 0.2713 - val_loss: 1.9875 - val_accuracy: 0.2231 - 488ms/epoch - 6ms/step\n",
            "Epoch 40/50\n",
            "83/83 - 1s - loss: 1.9299 - accuracy: 0.2858 - val_loss: 1.9570 - val_accuracy: 0.2625 - 509ms/epoch - 6ms/step\n",
            "Epoch 41/50\n",
            "83/83 - 0s - loss: 1.9333 - accuracy: 0.2721 - val_loss: 1.9605 - val_accuracy: 0.2595 - 492ms/epoch - 6ms/step\n",
            "Epoch 42/50\n",
            "83/83 - 1s - loss: 1.9315 - accuracy: 0.2664 - val_loss: 1.9508 - val_accuracy: 0.2473 - 510ms/epoch - 6ms/step\n",
            "Epoch 43/50\n",
            "83/83 - 0s - loss: 1.9367 - accuracy: 0.2816 - val_loss: 1.9557 - val_accuracy: 0.2777 - 450ms/epoch - 5ms/step\n",
            "Epoch 44/50\n",
            "83/83 - 0s - loss: 1.9278 - accuracy: 0.2786 - val_loss: 1.9586 - val_accuracy: 0.2686 - 488ms/epoch - 6ms/step\n",
            "Epoch 45/50\n",
            "83/83 - 1s - loss: 1.9321 - accuracy: 0.2751 - val_loss: 1.9739 - val_accuracy: 0.2489 - 508ms/epoch - 6ms/step\n",
            "Epoch 46/50\n",
            "83/83 - 0s - loss: 1.9211 - accuracy: 0.2835 - val_loss: 1.9737 - val_accuracy: 0.2504 - 475ms/epoch - 6ms/step\n",
            "Epoch 47/50\n",
            "83/83 - 1s - loss: 1.9334 - accuracy: 0.2820 - val_loss: 1.9575 - val_accuracy: 0.2640 - 512ms/epoch - 6ms/step\n",
            "Epoch 48/50\n",
            "83/83 - 1s - loss: 1.9240 - accuracy: 0.2835 - val_loss: 1.9635 - val_accuracy: 0.2473 - 509ms/epoch - 6ms/step\n",
            "Epoch 49/50\n",
            "83/83 - 1s - loss: 1.9221 - accuracy: 0.2824 - val_loss: 1.9627 - val_accuracy: 0.2458 - 516ms/epoch - 6ms/step\n",
            "Epoch 50/50\n",
            "83/83 - 1s - loss: 1.9187 - accuracy: 0.2911 - val_loss: 1.9583 - val_accuracy: 0.2519 - 514ms/epoch - 6ms/step\n"
          ]
        },
        {
          "output_type": "execute_result",
          "data": {
            "text/plain": [
              "<keras.callbacks.History at 0x7fe6b6873b10>"
            ]
          },
          "metadata": {},
          "execution_count": 19
        }
      ]
    },
    {
      "cell_type": "markdown",
      "source": [
        "Our neural network architecture has a validation accuracy of 0.25.\n",
        "- We will use other performance matrix to check the model's quality"
      ],
      "metadata": {
        "id": "hfnipoRO3lTq"
      }
    },
    {
      "cell_type": "markdown",
      "source": [
        "Put the model's predicted labels into a list."
      ],
      "metadata": {
        "id": "cyrgCBZDk7yH"
      }
    },
    {
      "cell_type": "code",
      "source": [
        " y_pred_list = np.argmax(model.predict(X_val), axis=1)"
      ],
      "metadata": {
        "id": "mDaQzrKok7yJ"
      },
      "execution_count": null,
      "outputs": []
    },
    {
      "cell_type": "markdown",
      "source": [
        "Convert validation data into a list."
      ],
      "metadata": {
        "id": "H2li_iSzk7yK"
      }
    },
    {
      "cell_type": "code",
      "source": [
        "y_val_list = np.argmax(y_val, axis=1)"
      ],
      "metadata": {
        "id": "XmyAJOPDk7yL"
      },
      "execution_count": null,
      "outputs": []
    },
    {
      "cell_type": "markdown",
      "source": [
        "Check the precision, sensitivity (recall), and confusion matrix."
      ],
      "metadata": {
        "id": "5bqDjpLCk7yM"
      }
    },
    {
      "cell_type": "code",
      "source": [
        "from sklearn.metrics import precision_recall_fscore_support\n",
        "from sklearn.metrics import confusion_matrix\n",
        "\n",
        "precision, recall, _, _ = precision_recall_fscore_support(y_val_list,\n",
        "                                                          y_pred_list)\n",
        "print('Precision for each class: {0}.'.format(precision))\n",
        "print('Recall for each class: {0}.\\n'.format(recall))\n",
        "\n",
        "confusion_mtx = pd.DataFrame.from_records(confusion_matrix(y_val_list,\n",
        "                                                           y_pred_list))\n",
        "print('Confusion matrix:')\n",
        "display(confusion_mtx)"
      ],
      "metadata": {
        "colab": {
          "base_uri": "https://localhost:8080/",
          "height": 404
        },
        "outputId": "30cbfcf1-798f-4d8b-b0f5-7e51bf947845",
        "id": "YIWD4oHHk7yN"
      },
      "execution_count": null,
      "outputs": [
        {
          "output_type": "stream",
          "name": "stdout",
          "text": [
            "Precision for each class: [0.23728814 0.16666667 0.32       0.31967213 0.22330097 0.1875\n",
            " 0.18604651 0.33802817].\n",
            "Recall for each class: [0.37333333 0.0326087  0.19512195 0.40206186 0.30263158 0.125\n",
            " 0.30379747 0.27906977].\n",
            "\n",
            "Confusion matrix:\n"
          ]
        },
        {
          "output_type": "display_data",
          "data": {
            "text/html": [
              "<div>\n",
              "<style scoped>\n",
              "    .dataframe tbody tr th:only-of-type {\n",
              "        vertical-align: middle;\n",
              "    }\n",
              "\n",
              "    .dataframe tbody tr th {\n",
              "        vertical-align: top;\n",
              "    }\n",
              "\n",
              "    .dataframe thead th {\n",
              "        text-align: right;\n",
              "    }\n",
              "</style>\n",
              "<table border=\"1\" class=\"dataframe\">\n",
              "  <thead>\n",
              "    <tr style=\"text-align: right;\">\n",
              "      <th></th>\n",
              "      <th>0</th>\n",
              "      <th>1</th>\n",
              "      <th>2</th>\n",
              "      <th>3</th>\n",
              "      <th>4</th>\n",
              "      <th>5</th>\n",
              "      <th>6</th>\n",
              "      <th>7</th>\n",
              "    </tr>\n",
              "  </thead>\n",
              "  <tbody>\n",
              "    <tr>\n",
              "      <th>0</th>\n",
              "      <td>28</td>\n",
              "      <td>2</td>\n",
              "      <td>7</td>\n",
              "      <td>9</td>\n",
              "      <td>9</td>\n",
              "      <td>6</td>\n",
              "      <td>11</td>\n",
              "      <td>3</td>\n",
              "    </tr>\n",
              "    <tr>\n",
              "      <th>1</th>\n",
              "      <td>17</td>\n",
              "      <td>3</td>\n",
              "      <td>7</td>\n",
              "      <td>17</td>\n",
              "      <td>15</td>\n",
              "      <td>7</td>\n",
              "      <td>15</td>\n",
              "      <td>11</td>\n",
              "    </tr>\n",
              "    <tr>\n",
              "      <th>2</th>\n",
              "      <td>16</td>\n",
              "      <td>2</td>\n",
              "      <td>16</td>\n",
              "      <td>9</td>\n",
              "      <td>13</td>\n",
              "      <td>3</td>\n",
              "      <td>15</td>\n",
              "      <td>8</td>\n",
              "    </tr>\n",
              "    <tr>\n",
              "      <th>3</th>\n",
              "      <td>14</td>\n",
              "      <td>1</td>\n",
              "      <td>6</td>\n",
              "      <td>39</td>\n",
              "      <td>14</td>\n",
              "      <td>4</td>\n",
              "      <td>13</td>\n",
              "      <td>6</td>\n",
              "    </tr>\n",
              "    <tr>\n",
              "      <th>4</th>\n",
              "      <td>14</td>\n",
              "      <td>1</td>\n",
              "      <td>2</td>\n",
              "      <td>15</td>\n",
              "      <td>23</td>\n",
              "      <td>3</td>\n",
              "      <td>10</td>\n",
              "      <td>8</td>\n",
              "    </tr>\n",
              "    <tr>\n",
              "      <th>5</th>\n",
              "      <td>4</td>\n",
              "      <td>4</td>\n",
              "      <td>5</td>\n",
              "      <td>6</td>\n",
              "      <td>11</td>\n",
              "      <td>9</td>\n",
              "      <td>26</td>\n",
              "      <td>7</td>\n",
              "    </tr>\n",
              "    <tr>\n",
              "      <th>6</th>\n",
              "      <td>13</td>\n",
              "      <td>4</td>\n",
              "      <td>3</td>\n",
              "      <td>12</td>\n",
              "      <td>9</td>\n",
              "      <td>10</td>\n",
              "      <td>24</td>\n",
              "      <td>4</td>\n",
              "    </tr>\n",
              "    <tr>\n",
              "      <th>7</th>\n",
              "      <td>12</td>\n",
              "      <td>1</td>\n",
              "      <td>4</td>\n",
              "      <td>15</td>\n",
              "      <td>9</td>\n",
              "      <td>6</td>\n",
              "      <td>15</td>\n",
              "      <td>24</td>\n",
              "    </tr>\n",
              "  </tbody>\n",
              "</table>\n",
              "</div>"
            ],
            "text/plain": [
              "    0  1   2   3   4   5   6   7\n",
              "0  28  2   7   9   9   6  11   3\n",
              "1  17  3   7  17  15   7  15  11\n",
              "2  16  2  16   9  13   3  15   8\n",
              "3  14  1   6  39  14   4  13   6\n",
              "4  14  1   2  15  23   3  10   8\n",
              "5   4  4   5   6  11   9  26   7\n",
              "6  13  4   3  12   9  10  24   4\n",
              "7  12  1   4  15   9   6  15  24"
            ]
          },
          "metadata": {}
        }
      ]
    },
    {
      "cell_type": "markdown",
      "source": [
        "Our model has both low precision and recall for all classes.\n",
        "- From the confusion matrix, we can see the model made many mistakes when predicting the labels."
      ],
      "metadata": {
        "id": "l7s1w7Oi3lTr"
      }
    },
    {
      "cell_type": "markdown",
      "source": [
        "## Final choice"
      ],
      "metadata": {
        "id": "ja6FPv9W5Ns7"
      }
    },
    {
      "cell_type": "markdown",
      "source": [
        "Based on the validation accuracy and other performance matrics, we will choose model 3.\n",
        "- We will use all training and validation data to train it."
      ],
      "metadata": {
        "id": "2F_FxYgw5Q5Z"
      }
    },
    {
      "cell_type": "code",
      "source": [
        "from keras.models import Sequential\n",
        "from keras.layers import Dense, Dropout, Activation, Flatten\n",
        "\n",
        "num_classes = 8\n",
        "\n",
        "# model creation\n",
        "model = Sequential()\n",
        "\n",
        "model.add(Dense(256, input_shape=(40,)))\n",
        "model.add(Activation('tanh'))\n",
        "model.add(Dropout(0.2))\n",
        "\n",
        "model.add(Dense(512))\n",
        "model.add(Activation('tanh'))\n",
        "model.add(Dropout(0.2))\n",
        "\n",
        "model.add(Dense(256))\n",
        "model.add(Activation('tanh'))\n",
        "model.add(Dropout(0.2))\n",
        "\n",
        "model.add(Dense(num_classes))\n",
        "model.add(Activation('softmax'))\n",
        "\n",
        "model.compile(loss='categorical_crossentropy', metrics='accuracy', optimizer='adam')"
      ],
      "metadata": {
        "id": "T4BHL1_o6IOB"
      },
      "execution_count": null,
      "outputs": []
    },
    {
      "cell_type": "code",
      "source": [
        "model.fit(X_train, y_train, batch_size=32, epochs=50, verbose=2)"
      ],
      "metadata": {
        "colab": {
          "base_uri": "https://localhost:8080/"
        },
        "outputId": "29a5596c-8860-4471-9ffa-30d65cec78a8",
        "id": "InBO4nru6IOD"
      },
      "execution_count": null,
      "outputs": [
        {
          "output_type": "stream",
          "name": "stdout",
          "text": [
            "Epoch 1/50\n",
            "83/83 - 0s - loss: 1.9150 - accuracy: 0.2835 - 470ms/epoch - 6ms/step\n",
            "Epoch 2/50\n",
            "83/83 - 0s - loss: 1.9183 - accuracy: 0.2880 - 441ms/epoch - 5ms/step\n",
            "Epoch 3/50\n",
            "83/83 - 0s - loss: 1.9166 - accuracy: 0.2805 - 438ms/epoch - 5ms/step\n",
            "Epoch 4/50\n",
            "83/83 - 0s - loss: 1.9136 - accuracy: 0.2812 - 454ms/epoch - 5ms/step\n",
            "Epoch 5/50\n",
            "83/83 - 0s - loss: 1.9090 - accuracy: 0.2843 - 435ms/epoch - 5ms/step\n",
            "Epoch 6/50\n",
            "83/83 - 0s - loss: 1.9131 - accuracy: 0.2994 - 429ms/epoch - 5ms/step\n",
            "Epoch 7/50\n",
            "83/83 - 0s - loss: 1.9126 - accuracy: 0.2820 - 439ms/epoch - 5ms/step\n",
            "Epoch 8/50\n",
            "83/83 - 0s - loss: 1.9188 - accuracy: 0.2892 - 436ms/epoch - 5ms/step\n",
            "Epoch 9/50\n",
            "83/83 - 0s - loss: 1.9133 - accuracy: 0.2911 - 454ms/epoch - 5ms/step\n",
            "Epoch 10/50\n",
            "83/83 - 0s - loss: 1.9072 - accuracy: 0.2869 - 432ms/epoch - 5ms/step\n",
            "Epoch 11/50\n",
            "83/83 - 0s - loss: 1.9026 - accuracy: 0.2941 - 447ms/epoch - 5ms/step\n",
            "Epoch 12/50\n",
            "83/83 - 0s - loss: 1.9055 - accuracy: 0.2843 - 438ms/epoch - 5ms/step\n",
            "Epoch 13/50\n",
            "83/83 - 0s - loss: 1.9009 - accuracy: 0.2918 - 455ms/epoch - 5ms/step\n",
            "Epoch 14/50\n",
            "83/83 - 0s - loss: 1.9094 - accuracy: 0.2953 - 432ms/epoch - 5ms/step\n",
            "Epoch 15/50\n",
            "83/83 - 0s - loss: 1.8981 - accuracy: 0.2873 - 426ms/epoch - 5ms/step\n",
            "Epoch 16/50\n",
            "83/83 - 0s - loss: 1.8989 - accuracy: 0.2956 - 417ms/epoch - 5ms/step\n",
            "Epoch 17/50\n",
            "83/83 - 0s - loss: 1.8974 - accuracy: 0.2907 - 408ms/epoch - 5ms/step\n",
            "Epoch 18/50\n",
            "83/83 - 0s - loss: 1.8948 - accuracy: 0.2949 - 440ms/epoch - 5ms/step\n",
            "Epoch 19/50\n",
            "83/83 - 0s - loss: 1.8980 - accuracy: 0.2911 - 426ms/epoch - 5ms/step\n",
            "Epoch 20/50\n",
            "83/83 - 0s - loss: 1.8961 - accuracy: 0.2880 - 440ms/epoch - 5ms/step\n",
            "Epoch 21/50\n",
            "83/83 - 0s - loss: 1.8844 - accuracy: 0.2991 - 424ms/epoch - 5ms/step\n",
            "Epoch 22/50\n",
            "83/83 - 0s - loss: 1.8917 - accuracy: 0.3108 - 442ms/epoch - 5ms/step\n",
            "Epoch 23/50\n",
            "83/83 - 0s - loss: 1.8907 - accuracy: 0.2896 - 439ms/epoch - 5ms/step\n",
            "Epoch 24/50\n",
            "83/83 - 0s - loss: 1.8895 - accuracy: 0.2941 - 415ms/epoch - 5ms/step\n",
            "Epoch 25/50\n",
            "83/83 - 0s - loss: 1.8897 - accuracy: 0.2991 - 434ms/epoch - 5ms/step\n",
            "Epoch 26/50\n",
            "83/83 - 0s - loss: 1.8840 - accuracy: 0.2945 - 422ms/epoch - 5ms/step\n",
            "Epoch 27/50\n",
            "83/83 - 0s - loss: 1.8792 - accuracy: 0.2979 - 439ms/epoch - 5ms/step\n",
            "Epoch 28/50\n",
            "83/83 - 0s - loss: 1.8776 - accuracy: 0.3040 - 426ms/epoch - 5ms/step\n",
            "Epoch 29/50\n",
            "83/83 - 0s - loss: 1.8716 - accuracy: 0.3025 - 426ms/epoch - 5ms/step\n",
            "Epoch 30/50\n",
            "83/83 - 0s - loss: 1.8667 - accuracy: 0.2922 - 434ms/epoch - 5ms/step\n",
            "Epoch 31/50\n",
            "83/83 - 0s - loss: 1.8800 - accuracy: 0.2937 - 433ms/epoch - 5ms/step\n",
            "Epoch 32/50\n",
            "83/83 - 0s - loss: 1.8750 - accuracy: 0.2945 - 451ms/epoch - 5ms/step\n",
            "Epoch 33/50\n",
            "83/83 - 0s - loss: 1.8654 - accuracy: 0.3021 - 443ms/epoch - 5ms/step\n",
            "Epoch 34/50\n",
            "83/83 - 0s - loss: 1.8539 - accuracy: 0.3123 - 429ms/epoch - 5ms/step\n",
            "Epoch 35/50\n",
            "83/83 - 0s - loss: 1.8647 - accuracy: 0.3063 - 427ms/epoch - 5ms/step\n",
            "Epoch 36/50\n",
            "83/83 - 0s - loss: 1.8574 - accuracy: 0.3013 - 416ms/epoch - 5ms/step\n",
            "Epoch 37/50\n",
            "83/83 - 0s - loss: 1.8447 - accuracy: 0.3108 - 421ms/epoch - 5ms/step\n",
            "Epoch 38/50\n",
            "83/83 - 0s - loss: 1.8527 - accuracy: 0.3078 - 442ms/epoch - 5ms/step\n",
            "Epoch 39/50\n",
            "83/83 - 0s - loss: 1.8516 - accuracy: 0.3085 - 436ms/epoch - 5ms/step\n",
            "Epoch 40/50\n",
            "83/83 - 0s - loss: 1.8355 - accuracy: 0.3252 - 436ms/epoch - 5ms/step\n",
            "Epoch 41/50\n",
            "83/83 - 0s - loss: 1.8264 - accuracy: 0.3336 - 429ms/epoch - 5ms/step\n",
            "Epoch 42/50\n",
            "83/83 - 0s - loss: 1.8206 - accuracy: 0.3321 - 442ms/epoch - 5ms/step\n",
            "Epoch 43/50\n",
            "83/83 - 0s - loss: 1.8179 - accuracy: 0.3275 - 415ms/epoch - 5ms/step\n",
            "Epoch 44/50\n",
            "83/83 - 0s - loss: 1.8215 - accuracy: 0.3290 - 453ms/epoch - 5ms/step\n",
            "Epoch 45/50\n",
            "83/83 - 0s - loss: 1.8015 - accuracy: 0.3332 - 440ms/epoch - 5ms/step\n",
            "Epoch 46/50\n",
            "83/83 - 0s - loss: 1.8009 - accuracy: 0.3385 - 438ms/epoch - 5ms/step\n",
            "Epoch 47/50\n",
            "83/83 - 0s - loss: 1.7923 - accuracy: 0.3347 - 416ms/epoch - 5ms/step\n",
            "Epoch 48/50\n",
            "83/83 - 0s - loss: 1.7952 - accuracy: 0.3408 - 441ms/epoch - 5ms/step\n",
            "Epoch 49/50\n",
            "83/83 - 0s - loss: 1.7961 - accuracy: 0.3306 - 464ms/epoch - 6ms/step\n",
            "Epoch 50/50\n",
            "83/83 - 0s - loss: 1.7808 - accuracy: 0.3472 - 425ms/epoch - 5ms/step\n"
          ]
        },
        {
          "output_type": "execute_result",
          "data": {
            "text/plain": [
              "<keras.callbacks.History at 0x7fe6b6739090>"
            ]
          },
          "metadata": {},
          "execution_count": 23
        }
      ]
    },
    {
      "cell_type": "markdown",
      "source": [
        "Save the model."
      ],
      "metadata": {
        "id": "KCBGIfwO8L90"
      }
    },
    {
      "cell_type": "code",
      "source": [
        "model.save('/content/drive/MyDrive/Data/MLEndHW/model_all_1/')"
      ],
      "metadata": {
        "colab": {
          "base_uri": "https://localhost:8080/"
        },
        "id": "dOenqRLf8Prr",
        "outputId": "258b7792-2776-4b60-c92b-af3e448fe410"
      },
      "execution_count": null,
      "outputs": [
        {
          "output_type": "stream",
          "name": "stdout",
          "text": [
            "INFO:tensorflow:Assets written to: /content/drive/MyDrive/Data/MLEndHW/model_all_1/assets\n"
          ]
        }
      ]
    },
    {
      "cell_type": "markdown",
      "metadata": {
        "id": "fSrJCR_cekPO"
      },
      "source": [
        "# 9 Conclusions\n",
        "\n",
        "Your conclusions, improvements, etc should go here"
      ]
    },
    {
      "cell_type": "markdown",
      "source": [
        "Our machine learning pipline can predict the labels of all songs in the MLEnd Hums and Whistles dataset, given the features data extracted from the all audio segments in the dataset.\n",
        "- The model in the pipline has low accuracy, precision and recall.\n",
        "\n",
        "Improvements:\n",
        "- We could have explored different:\n",
        "    - neural network architectures\n",
        "    - activation functions in output layers\n",
        "    - loss functions\n",
        "    - feature extraction method\n",
        "- We could have used k-fold cross-validation to validate our model.\n",
        "- Other factors should be considered when selecting the model.\n",
        "    - We should not select the model only based on the quality matrices.\n",
        "- We could have used better visualisation techniques.\n",
        "    - PCA is not useful for visualisation."
      ],
      "metadata": {
        "id": "_hhfwom6WzwG"
      }
    }
  ]
}